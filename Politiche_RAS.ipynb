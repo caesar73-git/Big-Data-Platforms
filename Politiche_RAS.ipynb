{
  "nbformat": 4,
  "nbformat_minor": 0,
  "metadata": {
    "kernelspec": {
      "display_name": "Python 3",
      "language": "python",
      "name": "python3"
    },
    "language_info": {
      "codemirror_mode": {
        "name": "ipython",
        "version": 3
      },
      "file_extension": ".py",
      "mimetype": "text/x-python",
      "name": "python",
      "nbconvert_exporter": "python",
      "pygments_lexer": "ipython3",
      "version": "3.6.6"
    },
    "colab": {
      "name": "Politiche_RAS.ipynb",
      "provenance": [],
      "collapsed_sections": [],
      "toc_visible": true
    }
  },
  "cells": [
    {
      "cell_type": "markdown",
      "metadata": {
        "id": "uMuBprELEtzC"
      },
      "source": [
        "# Analisi degli interventi a sostegno dell'emergenza da COVID-19 della Regione Autonoma della Sardegna<br>\n",
        "Saranno analizzati i dati relativi agli interventi a sostegno dell'emergeenza COVID-19 erogati attraverso il Sistema Informativo del Lavoro (SIL Sardegna) nel perodo che va dal Dicembre 2019 a Giugno 2021.<br>\n",
        "Si tratta di due Dataset:<br>\n",
        "\n",
        "*   SIL Sardegna_Anagrafica Avvisi.csv\n",
        "*   SIL Sardegna_Elenco Domande.csv\n",
        "\n",
        "Contenti rispettivamente l'anagrafica di tutti gli avvisi pubblici estratti dal SIL Sardegna e l'elenco di tutte le domande di partecipazione sottoposte dai potenziali beneficiari attraverso lo  stesso sistema.<br>\n",
        "\n",
        "Nello specifico l'attività condotta consiste in:\n",
        "1. Installazione dell'ambiente PySpark\n",
        "2. Caricamento e prima esplorazione dei Dataset\n",
        "3. Preparazione dei valori e data cleaning\n",
        "3. Rimozione/Selezione delle features \n",
        "4. Creazione di nuove feature e nuovi aggregati\n",
        "5. Reshaping del Dataframe \n",
        "6. Visualizzazione interattiva con Plotly e Plotly Express\n",
        "\n",
        "\n",
        "![](https://databricks.com/wp-content/uploads/2018/12/PySpark-1024x164.png)\n",
        "\n",
        "\n",
        "<center> \n",
        "\n",
        "![](http://www.regione.sardegna.it/immagini/1_240_20120705162029.gif)\n",
        "\n",
        "</center>"
      ]
    },
    {
      "cell_type": "markdown",
      "metadata": {
        "id": "4KCj5etEJzOh"
      },
      "source": [
        "##Installazione dell'ambiente\n"
      ]
    },
    {
      "cell_type": "markdown",
      "metadata": {
        "id": "JDkYW9RIXSnf"
      },
      "source": [
        "###Aggiornamento Plotly"
      ]
    },
    {
      "cell_type": "code",
      "metadata": {
        "colab": {
          "base_uri": "https://localhost:8080/"
        },
        "id": "DcUwj6HsXM6H",
        "outputId": "1c6b86a9-82eb-47b8-9dca-04dd0eaa2652"
      },
      "source": [
        "!pip install plotly --upgrade"
      ],
      "execution_count": 1,
      "outputs": [
        {
          "output_type": "stream",
          "text": [
            "Collecting plotly\n",
            "\u001b[?25l  Downloading https://files.pythonhosted.org/packages/95/8d/ac1560f7ccc2ace85cd1e9619bbec1975b5d2d92e6c6fdbbdaa994c6ab4d/plotly-5.1.0-py2.py3-none-any.whl (20.6MB)\n",
            "\u001b[K     |████████████████████████████████| 20.6MB 1.6MB/s \n",
            "\u001b[?25hCollecting tenacity>=6.2.0\n",
            "  Downloading https://files.pythonhosted.org/packages/f2/a5/f86bc8d67c979020438c8559cc70cfe3a1643fd160d35e09c9cca6a09189/tenacity-8.0.1-py3-none-any.whl\n",
            "Requirement already satisfied, skipping upgrade: six in /usr/local/lib/python3.7/dist-packages (from plotly) (1.15.0)\n",
            "Installing collected packages: tenacity, plotly\n",
            "  Found existing installation: plotly 4.4.1\n",
            "    Uninstalling plotly-4.4.1:\n",
            "      Successfully uninstalled plotly-4.4.1\n",
            "Successfully installed plotly-5.1.0 tenacity-8.0.1\n"
          ],
          "name": "stdout"
        }
      ]
    },
    {
      "cell_type": "markdown",
      "metadata": {
        "id": "VdrV7g80MQx-"
      },
      "source": [
        "### Installazione del modulo PySpark"
      ]
    },
    {
      "cell_type": "code",
      "metadata": {
        "id": "k6IpK2U8xe1W"
      },
      "source": [
        "!apt-get install openjdk-8-jdk-headless -qq > /dev/null\n",
        "!wget -q https://downloads.apache.org/spark/spark-3.0.3/spark-3.0.3-bin-hadoop2.7.tgz    \n",
        "!tar xf spark-3.0.3-bin-hadoop2.7.tgz\n",
        "!pip install -q findspark"
      ],
      "execution_count": 9,
      "outputs": []
    },
    {
      "cell_type": "code",
      "metadata": {
        "id": "6iqX_X7YyI4n"
      },
      "source": [
        "import findspark\n",
        "import os\n",
        "os.environ[\"JAVA_HOME\"] = \"/usr/lib/jvm/java-8-openjdk-amd64\"\n",
        "os.environ[\"SPARK_HOME\"] = \"/content/spark-3.0.3-bin-hadoop2.7\"\n",
        "\n",
        "findspark.init()"
      ],
      "execution_count": 12,
      "outputs": []
    },
    {
      "cell_type": "code",
      "metadata": {
        "colab": {
          "base_uri": "https://localhost:8080/",
          "height": 238
        },
        "id": "KqVd5bmNyOGb",
        "outputId": "b170794c-4c98-4131-8b63-6de917458d12"
      },
      "source": [
        "import pyspark as ps\n",
        "#from pyspark import SparkContext\n",
        "sc = ps.SparkContext(\"local[*]\",appName=\"RAS-Lavoro\")\n",
        "sc.version"
      ],
      "execution_count": 13,
      "outputs": [
        {
          "output_type": "error",
          "ename": "ValueError",
          "evalue": "ignored",
          "traceback": [
            "\u001b[0;31m---------------------------------------------------------------------------\u001b[0m",
            "\u001b[0;31mValueError\u001b[0m                                Traceback (most recent call last)",
            "\u001b[0;32m<ipython-input-13-59eaf0c75a4a>\u001b[0m in \u001b[0;36m<module>\u001b[0;34m()\u001b[0m\n\u001b[1;32m      1\u001b[0m \u001b[0;32mimport\u001b[0m \u001b[0mpyspark\u001b[0m \u001b[0;32mas\u001b[0m \u001b[0mps\u001b[0m\u001b[0;34m\u001b[0m\u001b[0;34m\u001b[0m\u001b[0m\n\u001b[1;32m      2\u001b[0m \u001b[0;31m#from pyspark import SparkContext\u001b[0m\u001b[0;34m\u001b[0m\u001b[0;34m\u001b[0m\u001b[0;34m\u001b[0m\u001b[0m\n\u001b[0;32m----> 3\u001b[0;31m \u001b[0msc\u001b[0m \u001b[0;34m=\u001b[0m \u001b[0mps\u001b[0m\u001b[0;34m.\u001b[0m\u001b[0mSparkContext\u001b[0m\u001b[0;34m(\u001b[0m\u001b[0;34m\"local[*]\"\u001b[0m\u001b[0;34m,\u001b[0m\u001b[0mappName\u001b[0m\u001b[0;34m=\u001b[0m\u001b[0;34m\"RAS-Lavoro\"\u001b[0m\u001b[0;34m)\u001b[0m\u001b[0;34m\u001b[0m\u001b[0;34m\u001b[0m\u001b[0m\n\u001b[0m\u001b[1;32m      4\u001b[0m \u001b[0msc\u001b[0m\u001b[0;34m.\u001b[0m\u001b[0mversion\u001b[0m\u001b[0;34m\u001b[0m\u001b[0;34m\u001b[0m\u001b[0m\n",
            "\u001b[0;32m/content/spark-3.0.3-bin-hadoop2.7/python/pyspark/context.py\u001b[0m in \u001b[0;36m__init__\u001b[0;34m(self, master, appName, sparkHome, pyFiles, environment, batchSize, serializer, conf, gateway, jsc, profiler_cls)\u001b[0m\n\u001b[1;32m    131\u001b[0m                 \" is not allowed as it is a security risk.\")\n\u001b[1;32m    132\u001b[0m \u001b[0;34m\u001b[0m\u001b[0m\n\u001b[0;32m--> 133\u001b[0;31m         \u001b[0mSparkContext\u001b[0m\u001b[0;34m.\u001b[0m\u001b[0m_ensure_initialized\u001b[0m\u001b[0;34m(\u001b[0m\u001b[0mself\u001b[0m\u001b[0;34m,\u001b[0m \u001b[0mgateway\u001b[0m\u001b[0;34m=\u001b[0m\u001b[0mgateway\u001b[0m\u001b[0;34m,\u001b[0m \u001b[0mconf\u001b[0m\u001b[0;34m=\u001b[0m\u001b[0mconf\u001b[0m\u001b[0;34m)\u001b[0m\u001b[0;34m\u001b[0m\u001b[0;34m\u001b[0m\u001b[0m\n\u001b[0m\u001b[1;32m    134\u001b[0m         \u001b[0;32mtry\u001b[0m\u001b[0;34m:\u001b[0m\u001b[0;34m\u001b[0m\u001b[0;34m\u001b[0m\u001b[0m\n\u001b[1;32m    135\u001b[0m             self._do_init(master, appName, sparkHome, pyFiles, environment, batchSize, serializer,\n",
            "\u001b[0;32m/content/spark-3.0.3-bin-hadoop2.7/python/pyspark/context.py\u001b[0m in \u001b[0;36m_ensure_initialized\u001b[0;34m(cls, instance, gateway, conf)\u001b[0m\n\u001b[1;32m    341\u001b[0m                         \u001b[0;34m\" created by %s at %s:%s \"\u001b[0m\u001b[0;34m\u001b[0m\u001b[0;34m\u001b[0m\u001b[0m\n\u001b[1;32m    342\u001b[0m                         % (currentAppName, currentMaster,\n\u001b[0;32m--> 343\u001b[0;31m                             callsite.function, callsite.file, callsite.linenum))\n\u001b[0m\u001b[1;32m    344\u001b[0m                 \u001b[0;32melse\u001b[0m\u001b[0;34m:\u001b[0m\u001b[0;34m\u001b[0m\u001b[0;34m\u001b[0m\u001b[0m\n\u001b[1;32m    345\u001b[0m                     \u001b[0mSparkContext\u001b[0m\u001b[0;34m.\u001b[0m\u001b[0m_active_spark_context\u001b[0m \u001b[0;34m=\u001b[0m \u001b[0minstance\u001b[0m\u001b[0;34m\u001b[0m\u001b[0;34m\u001b[0m\u001b[0m\n",
            "\u001b[0;31mValueError\u001b[0m: Cannot run multiple SparkContexts at once; existing SparkContext(app=RAS-Lavoro, master=local[*]) created by __init__ at <ipython-input-4-59eaf0c75a4a>:3 "
          ]
        }
      ]
    },
    {
      "cell_type": "code",
      "metadata": {
        "colab": {
          "base_uri": "https://localhost:8080/",
          "height": 193
        },
        "id": "O0NCRmtk4AN_",
        "outputId": "1f6143f0-495b-4a10-ef13-31a636095793"
      },
      "source": [
        "sc"
      ],
      "execution_count": 14,
      "outputs": [
        {
          "output_type": "execute_result",
          "data": {
            "text/html": [
              "\n",
              "        <div>\n",
              "            <p><b>SparkContext</b></p>\n",
              "\n",
              "            <p><a href=\"http://06219a6dc3ea:4040\">Spark UI</a></p>\n",
              "\n",
              "            <dl>\n",
              "              <dt>Version</dt>\n",
              "                <dd><code>v3.0.3</code></dd>\n",
              "              <dt>Master</dt>\n",
              "                <dd><code>local[*]</code></dd>\n",
              "              <dt>AppName</dt>\n",
              "                <dd><code>RAS-Lavoro</code></dd>\n",
              "            </dl>\n",
              "        </div>\n",
              "        "
            ],
            "text/plain": [
              "<SparkContext master=local[*] appName=RAS-Lavoro>"
            ]
          },
          "metadata": {
            "tags": []
          },
          "execution_count": 14
        }
      ]
    },
    {
      "cell_type": "markdown",
      "metadata": {
        "id": "Fi8PfKkJVI3d"
      },
      "source": [
        "###Preparazione della sessione Spark"
      ]
    },
    {
      "cell_type": "code",
      "metadata": {
        "colab": {
          "base_uri": "https://localhost:8080/",
          "height": 216
        },
        "id": "cGzjUyOkxe1Z",
        "outputId": "bd40d410-d757-4f87-9425-a14ae499a662"
      },
      "source": [
        "from pyspark.sql.functions import *\n",
        "from pyspark.sql import SparkSession\n",
        "spark = SparkSession \\\n",
        ".builder \\\n",
        ".appName(\"RAS-Lavoro\") \\\n",
        ".config(\"spark.some.config.option\", \"some-value\") \\\n",
        ".getOrCreate()\n",
        "spark"
      ],
      "execution_count": 15,
      "outputs": [
        {
          "output_type": "execute_result",
          "data": {
            "text/html": [
              "\n",
              "            <div>\n",
              "                <p><b>SparkSession - in-memory</b></p>\n",
              "                \n",
              "        <div>\n",
              "            <p><b>SparkContext</b></p>\n",
              "\n",
              "            <p><a href=\"http://06219a6dc3ea:4040\">Spark UI</a></p>\n",
              "\n",
              "            <dl>\n",
              "              <dt>Version</dt>\n",
              "                <dd><code>v3.0.3</code></dd>\n",
              "              <dt>Master</dt>\n",
              "                <dd><code>local[*]</code></dd>\n",
              "              <dt>AppName</dt>\n",
              "                <dd><code>RAS-Lavoro</code></dd>\n",
              "            </dl>\n",
              "        </div>\n",
              "        \n",
              "            </div>\n",
              "        "
            ],
            "text/plain": [
              "<pyspark.sql.session.SparkSession at 0x7f0d7c63e390>"
            ]
          },
          "metadata": {
            "tags": []
          },
          "execution_count": 15
        }
      ]
    },
    {
      "cell_type": "code",
      "metadata": {
        "colab": {
          "base_uri": "https://localhost:8080/"
        },
        "id": "vRFm_JfB4g9O",
        "outputId": "d5d4cb13-ca1d-463d-e4ed-cbb4c4ddcb0b"
      },
      "source": [
        "spark.sparkContext.getConf().getAll()"
      ],
      "execution_count": 16,
      "outputs": [
        {
          "output_type": "execute_result",
          "data": {
            "text/plain": [
              "[('spark.app.id', 'local-1626338294268'),\n",
              " ('spark.app.startTime', '1626338293071'),\n",
              " ('spark.app.name', 'RAS-Lavoro'),\n",
              " ('spark.driver.port', '46817'),\n",
              " ('spark.driver.host', '06219a6dc3ea'),\n",
              " ('spark.rdd.compress', 'True'),\n",
              " ('spark.serializer.objectStreamReset', '100'),\n",
              " ('spark.master', 'local[*]'),\n",
              " ('spark.submit.pyFiles', ''),\n",
              " ('spark.executor.id', 'driver'),\n",
              " ('spark.submit.deployMode', 'client'),\n",
              " ('spark.ui.showConsoleProgress', 'true')]"
            ]
          },
          "metadata": {
            "tags": []
          },
          "execution_count": 16
        }
      ]
    },
    {
      "cell_type": "markdown",
      "metadata": {
        "id": "HA2TbckVLFiH"
      },
      "source": [
        "###Caricamento dei package principali\n"
      ]
    },
    {
      "cell_type": "code",
      "metadata": {
        "id": "jdxwvwobx4rb"
      },
      "source": [
        "import numpy as np # linear algebra\n",
        "import pandas as pd # data processing, CSV file I/O (e.g. pd.read_csv)\n",
        "import pandas_profiling\n",
        "import plotly.graph_objects as go\n",
        "import plotly.express as px\n",
        "import plotly.io as pio\n",
        "from plotly.subplots import make_subplots\n",
        "\n",
        "#imposto il template di default di Plotly\n",
        "pio.templates.default = \"seaborn\"\n",
        "\n",
        "#fnzione di utilità per la formattazione degli importi in €\n",
        "def currency_converter(cur) :\n",
        "    currency = \"€ {:,.2f}\".format(np.round(cur, decimals=2))\n",
        "    thousands_separator = \".\"\n",
        "    fractional_separator = \",\"\n",
        "\n",
        "    if thousands_separator == \".\":\n",
        "        main_currency, fractional_currency = currency.split(\".\")[0], currency.split(\".\")[1]\n",
        "        new_main_currency = main_currency.replace(\",\", \".\")\n",
        "        currency = new_main_currency + fractional_separator + fractional_currency\n",
        "    return currency "
      ],
      "execution_count": 17,
      "outputs": []
    },
    {
      "cell_type": "markdown",
      "metadata": {
        "id": "JW_a5qzSMBUz"
      },
      "source": [
        "##Caricamento Dataset Anagrafica Avvisi\n"
      ]
    },
    {
      "cell_type": "code",
      "metadata": {
        "id": "D3fiubPaxe1Z"
      },
      "source": [
        "from pyspark.sql.types import StructField,IntegerType, StructType,StringType, DateType\n",
        "struttura=[StructField('Codice Avviso',StringType(),True),\n",
        "           StructField('Descrizione estesa',StringType(),True),\n",
        "           StructField('Tipologia Avviso',StringType(),True),\n",
        "           StructField('Assessorato / Struttura',StringType(),True),\n",
        "           StructField('Servizio',StringType(),True),\n",
        "           StructField('Tipo destinatario (Economico)',StringType(),True),\n",
        "           StructField('Macro Categoria destinatario (Economico)',StringType(),True),\n",
        "           StructField('Destinatario finale (Fruitore servizi finanziati)',StringType(),True),\n",
        "           StructField('Data Apertura',DateType(),True),\n",
        "           StructField('Data Chiusura',DateType(),True),\n",
        "           StructField('N. domande',IntegerType(),True),\n",
        "           StructField('Dotazione finanziaria',IntegerType(),True),\n",
        "           StructField('Dotazione (FSE)',IntegerType(),True),\n",
        "           StructField('Dotazione (Nazionale)',IntegerType(),True),\n",
        "           StructField('Dotazione (Regionale)',IntegerType(),True),\n",
        "           StructField('Budget prenotato',IntegerType(),True),\n",
        "           StructField('Domande ammissibili',IntegerType(),True),\n",
        "           StructField('Budget ammesso',IntegerType(),True),\n",
        "           StructField('Budget concesso',IntegerType(),True),\n",
        "           StructField('Istruttoria extra-sistema',StringType(),True)\n",
        "       ]\n",
        "finalStruct=StructType(fields=struttura)\n",
        "df_avvisi = spark.read.csv(\"SIL Sardegna_Anagrafica Avvisi.csv\", sep=\";\", header=True,\n",
        "                     schema=finalStruct)"
      ],
      "execution_count": 18,
      "outputs": []
    },
    {
      "cell_type": "code",
      "metadata": {
        "colab": {
          "base_uri": "https://localhost:8080/"
        },
        "id": "Rlk45_Zyxe1a",
        "outputId": "520252e0-c58c-4cff-8fb2-f74c75b5c812"
      },
      "source": [
        "df_avvisi.printSchema()"
      ],
      "execution_count": 19,
      "outputs": [
        {
          "output_type": "stream",
          "text": [
            "root\n",
            " |-- Codice Avviso: string (nullable = true)\n",
            " |-- Descrizione estesa: string (nullable = true)\n",
            " |-- Tipologia Avviso: string (nullable = true)\n",
            " |-- Assessorato / Struttura: string (nullable = true)\n",
            " |-- Servizio: string (nullable = true)\n",
            " |-- Tipo destinatario (Economico): string (nullable = true)\n",
            " |-- Macro Categoria destinatario (Economico): string (nullable = true)\n",
            " |-- Destinatario finale (Fruitore servizi finanziati): string (nullable = true)\n",
            " |-- Data Apertura: date (nullable = true)\n",
            " |-- Data Chiusura: date (nullable = true)\n",
            " |-- N. domande: integer (nullable = true)\n",
            " |-- Dotazione finanziaria: integer (nullable = true)\n",
            " |-- Dotazione (FSE): integer (nullable = true)\n",
            " |-- Dotazione (Nazionale): integer (nullable = true)\n",
            " |-- Dotazione (Regionale): integer (nullable = true)\n",
            " |-- Budget prenotato: integer (nullable = true)\n",
            " |-- Domande ammissibili: integer (nullable = true)\n",
            " |-- Budget ammesso: integer (nullable = true)\n",
            " |-- Budget concesso: integer (nullable = true)\n",
            " |-- Istruttoria extra-sistema: string (nullable = true)\n",
            "\n"
          ],
          "name": "stdout"
        }
      ]
    },
    {
      "cell_type": "code",
      "metadata": {
        "colab": {
          "base_uri": "https://localhost:8080/"
        },
        "id": "W0iMXfCa7c3Y",
        "outputId": "16650851-6aff-4eda-e0a5-1b3a293861b0"
      },
      "source": [
        "print(\"Dataframe shape:\\nRows: \",df_avvisi.count(), \" Cols: \",len(df_avvisi.columns))"
      ],
      "execution_count": 20,
      "outputs": [
        {
          "output_type": "stream",
          "text": [
            "Dataframe shape:\n",
            "Rows:  33  Cols:  20\n"
          ],
          "name": "stdout"
        }
      ]
    },
    {
      "cell_type": "markdown",
      "metadata": {
        "id": "j-7z_epkI2R9"
      },
      "source": [
        "###Data preparation\n",
        "Il Dataset \"Avvisi\" contiene le anagrafiche di 33 avvisi che sono stati gestiti attraverso la piattaforma SIL Sardegna a partire dal Dicembre 2019 al 24 Giugno 2021. L'estrazione dal sistema è sufficientemente ordinata e \"pulita\" ma occorre perfezionare alcune features."
      ]
    },
    {
      "cell_type": "code",
      "metadata": {
        "colab": {
          "base_uri": "https://localhost:8080/"
        },
        "id": "lfxj9MyLxe1a",
        "outputId": "d6e4dca5-0362-42e4-985c-7e6ccdd0f0c8"
      },
      "source": [
        "#elimina spazi bianchi nella colonna \"Istruttoria ...\"\n",
        "df_avvisi = df_avvisi.withColumn(\"Istruttoria extra-sistema\", trim(col(\"Istruttoria extra-sistema\")))\n",
        "df_avvisi.na.fill(value=0).show()\n"
      ],
      "execution_count": 21,
      "outputs": [
        {
          "output_type": "stream",
          "text": [
            "+--------------------+--------------------+--------------------+-----------------------+--------------------+-----------------------------+----------------------------------------+-------------------------------------------------+-------------+-------------+----------+---------------------+---------------+---------------------+---------------------+----------------+-------------------+--------------+---------------+-------------------------+\n",
            "|       Codice Avviso|  Descrizione estesa|    Tipologia Avviso|Assessorato / Struttura|            Servizio|Tipo destinatario (Economico)|Macro Categoria destinatario (Economico)|Destinatario finale (Fruitore servizi finanziati)|Data Apertura|Data Chiusura|N. domande|Dotazione finanziaria|Dotazione (FSE)|Dotazione (Nazionale)|Dotazione (Regionale)|Budget prenotato|Domande ammissibili|Budget ammesso|Budget concesso|Istruttoria extra-sistema|\n",
            "+--------------------+--------------------+--------------------+-----------------------+--------------------+-----------------------------+----------------------------------------+-------------------------------------------------+-------------+-------------+----------+---------------------+---------------+---------------------+---------------------+----------------+-------------------+--------------+---------------+-------------------------+\n",
            "|    Avviso PRO.DI.GI|Avviso “PRO.DI.GI...|                 DCT|   ASSESSORATO DELLA...|SERVIZIO POLITICH...|                  Cooperative|                     Cooperative Sociali|                              Cooperative Sociali|   2019-12-16|   2020-01-20|        30|              3000000|        3000000|                    0|                    0|         5008395|                  0|             0|              0|                       SI|\n",
            "|    Cantieri LavoRAS|    Cantieri LavoRAS|                 DCT|                  ASPAL|Servizio Coordina...|                       Comuni|                                  Comuni|                                        Cittadini|   2020-05-26|   2020-11-20|       429|             37000000|              0|                    0|             37000000|        35494376|                  0|             0|              0|                       SI|\n",
            "|TVB Bonus under 3...|AVVISO T.V.B.- Bo...|Domanda di Agevol...|   Assessorato del l...|Servizio Politich...|                      Imprese|                                 Imprese|                                        Cittadini|   2020-02-14|   2020-03-31|       418|              6900000|        6900000|                    0|                    0|         3605500|                319|       2592270|              0|                       NO|\n",
            "|TVB Bonus under 3...|AVVISO T.V.B.- Bo...|Domanda di Agevol...|   Assessorato del l...|Servizio Politich...|                      Imprese|                                 Imprese|                                        Cittadini|   2020-02-14|   2020-03-31|        59|              6000000|        6000000|                    0|                    0|          430400|                 19|        139170|              0|                       NO|\n",
            "|TVB Bonus over 35...|AVVISO T.V.B.- Bo...|Domanda di Agevol...|   Assessorato del l...|Servizio Politich...|                      Imprese|                                 Imprese|                                        Cittadini|   2020-02-14|   2020-03-31|       470|              4000000|        4000000|                    0|                    0|         5056000|                345|       3032035|              0|                       NO|\n",
            "|TVB Bonus over 35...|AVVISO T.V.B.- Bo...|Domanda di Agevol...|   Assessorato del l...|Servizio Politich...|                      Imprese|                                 Imprese|                                        Cittadini|   2020-02-14|   2020-03-31|        80|              4000000|        4000000|                    0|                    0|          638600|                 34|        252166|              0|                       NO|\n",
            "|     GG-2B-IeFP-2020|AVVISO PUBBLICO O...|                 DCT|   Assessorato del l...|Servizio Politich...|         Agenzie formative...|                       Agenzia Formativa|                                        Cittadini|   2020-04-10|   2020-05-04|        24|              7704000|        7704000|                    0|                    0|               0|                  0|             0|              0|                       SI|\n",
            "|  Fondo di rotazione|AVVISO PUBBLICO R...|Domanda di Finanz...|   Assessorato del l...|Servizio Politich...|         Micro e piccole I...|                                 Imprese|                                          Imprese|   2020-04-29|   2020-07-31|       242|             14500000|              0|                    0|             14500000|        14395000|                  0|             0|              0|                       NO|\n",
            "|DSAL 2020 - Under 35|Avviso Destinazio...|                 DAT|   Assessorato del l...|SERVIZIO ATTUAZIO...|         Microimprese, Pic...|                                 Imprese|                                        Cittadini|   2020-08-04|   2020-09-10|      1363|              8500000|              0|                    0|              8500000|        16502784|                890|             0|              0|                       SI|\n",
            "| DSAL 2020 - Over 35|Avviso Destinazio...|                 DAT|   Assessorato del l...|SERVIZIO ATTUAZIO...|         Microimprese, Pic...|                                 Imprese|                                        Cittadini|   2020-08-04|   2020-09-10|      1249|              6500000|              0|                    0|              6500000|        23179929|                873|             0|              0|                       SI|\n",
            "|CIG Deroga 2020 c...|AVVISO PUBBLICO P...|Ammortizzatori So...|   Assessorato del l...|SERVIZIO ATTUAZIO...|                      Imprese|                                 Imprese|                                        Cittadini|   2020-04-08|   2020-08-31|     16979|             69850000|              0|             69850000|                    0|        62219275|              15675|      56688668|              0|                       NO|\n",
            "|SSE Lavoro Sardeg...|Avviso pubblico a...|                 DAT|   Assessorato del l...|SERVIZIO ATTUAZIO...|                      Impresa|                                 Imprese|                                          Imprese|   2020-09-10|   2020-09-30|       992|              2000000|              0|                    0|              2000000|         2228000|                  0|             0|              0|                       NO|\n",
            "|SSE Lavoro Sardeg...|Avviso pubblico a...|                 DAT|   Assessorato del l...|SERVIZIO ATTUAZIO...|         Microimprese, Pic...|                                 Imprese|                                          Imprese|   2020-10-26|   2020-11-12|       103|              1500000|        1500000|                    0|                    0|         2609710|                  0|             0|              0|                       NO|\n",
            "|LR22 ART. 11 - Pe...|AVVISO PUBBLICO A...|                 DCT|   Assessorato del l...|Servizio Attuazio...|            Agenzia Formativa|                       Agenzia Formativa|                                        Cittadini|   2020-11-06|   2020-11-30|        88|              4000000|        4000000|                    0|                    0|               0|                  0|             0|              0|                       SI|\n",
            "|Avviso pubblico L...|Avviso Legge Regi...|                 DAT|   Assessorato del l...|SERVIZIO ATTUAZIO...|                  Cooperative|                     Cooperative Sociali|                              Cooperative Sociali|   2020-11-23|   2020-11-30|       201|              2000000|              0|                    0|              2000000|         2887279|                  0|             0|              0|                       SI|\n",
            "|Avviso pubblico L...|\"Avviso legge reg...|                 DAT|   Assessorato del l...|SERVIZIO ATTUAZIO...|         Cooperative socia...|                     Cooperative Sociali|                              Cooperative Sociali|   2020-11-27|   2020-12-09|       116|              1500000|              0|                    0|              1500000|         4736169|                  0|             0|              0|                       SI|\n",
            "|SSE Lavoro Sardeg...|Avviso pubblico a...|                 DAT|   Assessorato del l...|SERVIZIO ATTUAZIO...|         Micro, piccole, m...|                                 Imprese|                                          Imprese|   2020-12-04|   2020-12-18|        62|              1000000|        1000000|                    0|                    0|         1262861|                  0|             0|              0|                       SI|\n",
            "|  Percorsi IeFP-2020|Avviso pubblico p...|                 DCT|   Assessorato del l...| Servizio Formazione|         Agenzie formative...|                       Agenzia Formativa|                                        Cittadini|   2020-12-09|   2020-12-16|        35|              1864875|         535044|              1329831|                    0|               0|                  0|             0|              0|                       SI|\n",
            "|(SI TORNA) TUTTI ...|(SI TORNA) TUTTI ...|                 DCT|   ASSESSORATO DELLA...|SERVIZIO POLITICH...|         Autonomie scolast...|                                  Scuole|                                        Cittadini|   2020-12-18|   2021-02-23|       346|              5312000|        5312000|                    0|                    0|         6274249|                  0|             0|              0|                       SI|\n",
            "|LR22 ART. 11 - Co...|AVVISO PUBBLICO A...|                 DCT|   Assessorato del l...|SERVIZIO ATTUAZIO...|         Agenzie formative...|                       Agenzia Formativa|                                Agenzia Formativa|   2021-01-26|   2021-02-10|       130|              2000000|              0|                    0|              2000000|         2768661|                  0|             0|              0|                       SI|\n",
            "+--------------------+--------------------+--------------------+-----------------------+--------------------+-----------------------------+----------------------------------------+-------------------------------------------------+-------------+-------------+----------+---------------------+---------------+---------------------+---------------------+----------------+-------------------+--------------+---------------+-------------------------+\n",
            "only showing top 20 rows\n",
            "\n"
          ],
          "name": "stdout"
        }
      ]
    },
    {
      "cell_type": "markdown",
      "metadata": {
        "id": "0Zp344zlMzOA"
      },
      "source": [
        "#### Formattazione della feature \"Struttura di appartenenza\"\n",
        "Si rende necessario abbreviare la denominazione delle \"Strutture proponenti\" (cioè le struttore organizzative regionali che gestiscono gli avvisi) al fine di consentire una visualizzazione più agevole."
      ]
    },
    {
      "cell_type": "code",
      "metadata": {
        "id": "EdS2BU1fBkP_"
      },
      "source": [
        "from pyspark.sql.functions import udf\n",
        "\n",
        "def replace_names(string1):\n",
        "    if (string1 == \"Assessorato del lavoro, formazione professionale, cooperazione e sicurezza sociale\"):\n",
        "      return \"Ass. to al Lavoro\"\n",
        "    elif (string1 == \"ASPAL\"):\n",
        "      return \"Agenzia del Lavoro\"\n",
        "    elif (string1 == \"ASSESSORATO DELLA PUBBLICA ISTRUZIONE, BENI CULTURALI, INFORMAZIONE, SPETTACOLO E SPORT\"):\n",
        "      return \"Ass. to all'Istruzione\"\n",
        "    else :\n",
        "      return \"Ass. to alla Sanità\"\n",
        "\n",
        "\n",
        "replace_names_udf = udf(replace_names, StringType())\n",
        "\n",
        "df_avvisi = df_avvisi.withColumn(\"Assessorato / Struttura\", replace_names_udf(df_avvisi[\"Assessorato / Struttura\"]))\n"
      ],
      "execution_count": 22,
      "outputs": []
    },
    {
      "cell_type": "code",
      "metadata": {
        "colab": {
          "base_uri": "https://localhost:8080/"
        },
        "id": "YJ-3KWjXK3k_",
        "outputId": "41965b01-ad1a-481c-8884-864035e59abb"
      },
      "source": [
        "df_avvisi.select(\"Codice Avviso\").show(35,False)"
      ],
      "execution_count": 23,
      "outputs": [
        {
          "output_type": "stream",
          "text": [
            "+-----------------------------------------------------+\n",
            "|Codice Avviso                                        |\n",
            "+-----------------------------------------------------+\n",
            "|Avviso PRO.DI.GI                                     |\n",
            "|Cantieri LavoRAS                                     |\n",
            "|TVB Bonus under 35 - Anno 2020                       |\n",
            "|TVB Bonus under 35 - Anno 2021                       |\n",
            "|TVB Bonus over 35 - Anno 2020                        |\n",
            "|TVB Bonus over 35 - Anno 2021                        |\n",
            "|GG-2B-IeFP-2020                                      |\n",
            "|Fondo di rotazione                                   |\n",
            "|DSAL 2020 - Under 35                                 |\n",
            "|DSAL 2020 - Over 35                                  |\n",
            "|CIG Deroga 2020 covid 19                             |\n",
            "|SSE Lavoro Sardegna LR 22 ART 12 comma 1 e 2         |\n",
            "|SSE Lavoro Sardegna LR 22 ART 12 comma 3             |\n",
            "|LR22 ART. 11 - Percorsi formativi disoccupati        |\n",
            "|Avviso pubblico L.R. 5/57 Cooperative - 2020         |\n",
            "|Avviso pubblico L.R. 16/97 Cooperative - 2020        |\n",
            "|SSE Lavoro Sardegna LR 22 ART 12 comma 4             |\n",
            "|Percorsi IeFP-2020                                   |\n",
            "|(SI TORNA) TUTTI A ISCOLA - Anno Scolastico 2020/2021|\n",
            "|LR22 ART. 11 - Comma 1, lett.a-b                     |\n",
            "|LR30 ART. 5                                          |\n",
            "|(R)ESISTO - Linea Grandi imprese                     |\n",
            "|(R)ESISTO - Linea Lavoratori e Lavoratrici           |\n",
            "|(R)ESISTO - Linea Micro e Piccole Medie Imprese      |\n",
            "|Percorsi Formativi Asse 1 ed Asse 1 BIS              |\n",
            "|Avviso pubblico L.R. 5/57 Cooperative - 2021         |\n",
            "|Avviso ALTRI PRO.DI.GI.                              |\n",
            "|Avviso pubblico L.R. 16/97 Cooperative - 2021        |\n",
            "|IV Anno IeFP - aa.ff. 2021-2022                      |\n",
            "|LR22ART9                                             |\n",
            "|LR22ART8                                             |\n",
            "|LR22ART9D                                            |\n",
            "|SINELIMES                                            |\n",
            "+-----------------------------------------------------+\n",
            "\n"
          ],
          "name": "stdout"
        }
      ]
    },
    {
      "cell_type": "markdown",
      "metadata": {
        "id": "XKmiNl1PNQw6"
      },
      "source": [
        "####Individuazione degli interventi COVID\n",
        "Sono indivisuati gli interventi (Avvisi) \"speciali\" specificatamente pensati per fronteggiare l'emergenza da COVID 19, vengono pertanto esclusi gli Avvisi \"ordinari\"\n"
      ]
    },
    {
      "cell_type": "code",
      "metadata": {
        "id": "PxEJRNtjKrbm"
      },
      "source": [
        "def interventi_covid(string2):\n",
        "  if (string2.startswith(\"Avviso\")):\n",
        "    return 0;\n",
        "  elif (string2 ==\"Cantieri LavoRAS\"):\n",
        "    return 0;\n",
        "  elif (string2.startswith(\"TVB\")):\n",
        "    return 0;\n",
        "  elif (string2 ==\"Percorsi IeFP-2020\"):\n",
        "    return 0;\n",
        "  elif (string2 ==\"(SI TORNA) TUTTI A ISCOLA - Anno Scolastico 2020/2021\"):\n",
        "    return 0;\n",
        "  elif (string2 ==\"GG-2B-IeFP-2020\"):\n",
        "    return 0;\n",
        "  elif (string2 ==\"Percorsi Formativi Asse 1 ed Asse 1 BIS\"):\n",
        "    return 0;\n",
        "  elif (string2 ==\"IV Anno IeFP - aa.ff. 2021-2022\"):\n",
        "    return 0;\n",
        "  elif (string2 ==\"SINELIMES\"):\n",
        "    return 0;\n",
        "  else :\n",
        "    return 1;\n",
        "\n",
        "interventi_covid_udf = udf(interventi_covid, IntegerType())\n",
        "\n",
        "df_avvisi = df_avvisi.withColumn(\"Intervento COVID\", interventi_covid_udf(df_avvisi[\"Codice Avviso\"]))"
      ],
      "execution_count": 24,
      "outputs": []
    },
    {
      "cell_type": "code",
      "metadata": {
        "colab": {
          "base_uri": "https://localhost:8080/"
        },
        "id": "gnLsI2FVO4BX",
        "outputId": "cecf59f8-90f7-491e-b6cb-34d20910dcd8"
      },
      "source": [
        "df_avvisi.select('Codice Avviso', 'Intervento COVID').show(35)"
      ],
      "execution_count": 25,
      "outputs": [
        {
          "output_type": "stream",
          "text": [
            "+--------------------+----------------+\n",
            "|       Codice Avviso|Intervento COVID|\n",
            "+--------------------+----------------+\n",
            "|    Avviso PRO.DI.GI|               0|\n",
            "|    Cantieri LavoRAS|               0|\n",
            "|TVB Bonus under 3...|               0|\n",
            "|TVB Bonus under 3...|               0|\n",
            "|TVB Bonus over 35...|               0|\n",
            "|TVB Bonus over 35...|               0|\n",
            "|     GG-2B-IeFP-2020|               0|\n",
            "|  Fondo di rotazione|               1|\n",
            "|DSAL 2020 - Under 35|               1|\n",
            "| DSAL 2020 - Over 35|               1|\n",
            "|CIG Deroga 2020 c...|               1|\n",
            "|SSE Lavoro Sardeg...|               1|\n",
            "|SSE Lavoro Sardeg...|               1|\n",
            "|LR22 ART. 11 - Pe...|               1|\n",
            "|Avviso pubblico L...|               0|\n",
            "|Avviso pubblico L...|               0|\n",
            "|SSE Lavoro Sardeg...|               1|\n",
            "|  Percorsi IeFP-2020|               0|\n",
            "|(SI TORNA) TUTTI ...|               0|\n",
            "|LR22 ART. 11 - Co...|               1|\n",
            "|         LR30 ART. 5|               1|\n",
            "|(R)ESISTO - Linea...|               1|\n",
            "|(R)ESISTO - Linea...|               1|\n",
            "|(R)ESISTO - Linea...|               1|\n",
            "|Percorsi Formativ...|               0|\n",
            "|Avviso pubblico L...|               0|\n",
            "|Avviso ALTRI PRO....|               0|\n",
            "|Avviso pubblico L...|               0|\n",
            "|IV Anno IeFP - aa...|               0|\n",
            "|            LR22ART9|               1|\n",
            "|            LR22ART8|               1|\n",
            "|           LR22ART9D|               1|\n",
            "|           SINELIMES|               0|\n",
            "+--------------------+----------------+\n",
            "\n"
          ],
          "name": "stdout"
        }
      ]
    },
    {
      "cell_type": "markdown",
      "metadata": {
        "id": "KwAFSszrOCUt"
      },
      "source": [
        "### Prima esplorazione dei dati\n",
        "La prima esplorazione riguarda un confronto tra il numero di destinatari e le somme di finanziamento messe a disposizione per l'emergenza COVID nel periodo osservato e raffrontati con la totalità degli interventi.\n"
      ]
    },
    {
      "cell_type": "code",
      "metadata": {
        "id": "3JEioBXg5HhM"
      },
      "source": [
        "# Tutti gli avvisi trovati\n",
        "Stat_all_avvisi = df_avvisi.na.fill(value=0).withColumnRenamed(\"N. Domande\",\"Domande\").groupBy(\"Assessorato / Struttura\")\\\n",
        "    .agg({'Dotazione Finanziaria':'sum',  'Domande':'sum', 'Budget Prenotato':'sum', 'Domande Ammissibili':'sum'})\n",
        "# Solo avvisi classificati \"Intervento COVID\"\n",
        "Stat_avvisi_covid = df_avvisi.filter(df_avvisi['Intervento COVID'] == 1).na.fill(value=0).withColumnRenamed(\"N. Domande\",\"Domande\")\\\n",
        "    .groupBy(\"Assessorato / Struttura\").agg({'Dotazione Finanziaria':'sum',  'Domande':'sum', 'Budget Prenotato':'sum', 'Domande Ammissibili':'sum'})\n"
      ],
      "execution_count": 26,
      "outputs": []
    },
    {
      "cell_type": "code",
      "metadata": {
        "colab": {
          "base_uri": "https://localhost:8080/",
          "height": 111
        },
        "id": "UE2RNcYhSCxz",
        "outputId": "652e3ef4-1202-4e47-91c4-b7638fe2e5f9"
      },
      "source": [
        "Stat_avvisi_covid_pd =Stat_avvisi_covid.toPandas()\n",
        "Stat_avvisi_covid_pd.fillna(0).head()"
      ],
      "execution_count": 27,
      "outputs": [
        {
          "output_type": "execute_result",
          "data": {
            "text/html": [
              "<div>\n",
              "<style scoped>\n",
              "    .dataframe tbody tr th:only-of-type {\n",
              "        vertical-align: middle;\n",
              "    }\n",
              "\n",
              "    .dataframe tbody tr th {\n",
              "        vertical-align: top;\n",
              "    }\n",
              "\n",
              "    .dataframe thead th {\n",
              "        text-align: right;\n",
              "    }\n",
              "</style>\n",
              "<table border=\"1\" class=\"dataframe\">\n",
              "  <thead>\n",
              "    <tr style=\"text-align: right;\">\n",
              "      <th></th>\n",
              "      <th>Assessorato / Struttura</th>\n",
              "      <th>sum(Domande Ammissibili)</th>\n",
              "      <th>sum(Dotazione Finanziaria)</th>\n",
              "      <th>sum(Budget Prenotato)</th>\n",
              "      <th>sum(Domande)</th>\n",
              "    </tr>\n",
              "  </thead>\n",
              "  <tbody>\n",
              "    <tr>\n",
              "      <th>0</th>\n",
              "      <td>Agenzia del Lavoro</td>\n",
              "      <td>5131</td>\n",
              "      <td>22650000</td>\n",
              "      <td>13845948</td>\n",
              "      <td>11438</td>\n",
              "    </tr>\n",
              "    <tr>\n",
              "      <th>1</th>\n",
              "      <td>Ass. to al Lavoro</td>\n",
              "      <td>19365</td>\n",
              "      <td>180689000</td>\n",
              "      <td>409306735</td>\n",
              "      <td>44226</td>\n",
              "    </tr>\n",
              "  </tbody>\n",
              "</table>\n",
              "</div>"
            ],
            "text/plain": [
              "  Assessorato / Struttura  ...  sum(Domande)\n",
              "0      Agenzia del Lavoro  ...         11438\n",
              "1       Ass. to al Lavoro  ...         44226\n",
              "\n",
              "[2 rows x 5 columns]"
            ]
          },
          "metadata": {
            "tags": []
          },
          "execution_count": 27
        }
      ]
    },
    {
      "cell_type": "code",
      "metadata": {
        "id": "GtljvT0-1hH2",
        "colab": {
          "base_uri": "https://localhost:8080/",
          "height": 173
        },
        "outputId": "b3a5f6e5-1a00-4c09-f3ae-8252411df84d"
      },
      "source": [
        "Stat_all_avvisi_pd =Stat_all_avvisi.toPandas()\n",
        "Stat_all_avvisi_pd.fillna(0).head()\n"
      ],
      "execution_count": 28,
      "outputs": [
        {
          "output_type": "execute_result",
          "data": {
            "text/html": [
              "<div>\n",
              "<style scoped>\n",
              "    .dataframe tbody tr th:only-of-type {\n",
              "        vertical-align: middle;\n",
              "    }\n",
              "\n",
              "    .dataframe tbody tr th {\n",
              "        vertical-align: top;\n",
              "    }\n",
              "\n",
              "    .dataframe thead th {\n",
              "        text-align: right;\n",
              "    }\n",
              "</style>\n",
              "<table border=\"1\" class=\"dataframe\">\n",
              "  <thead>\n",
              "    <tr style=\"text-align: right;\">\n",
              "      <th></th>\n",
              "      <th>Assessorato / Struttura</th>\n",
              "      <th>sum(Domande Ammissibili)</th>\n",
              "      <th>sum(Dotazione Finanziaria)</th>\n",
              "      <th>sum(Budget Prenotato)</th>\n",
              "      <th>sum(Domande)</th>\n",
              "    </tr>\n",
              "  </thead>\n",
              "  <tbody>\n",
              "    <tr>\n",
              "      <th>0</th>\n",
              "      <td>Agenzia del Lavoro</td>\n",
              "      <td>5131</td>\n",
              "      <td>59650000</td>\n",
              "      <td>49340324</td>\n",
              "      <td>11867</td>\n",
              "    </tr>\n",
              "    <tr>\n",
              "      <th>1</th>\n",
              "      <td>Ass. to al Lavoro</td>\n",
              "      <td>20082</td>\n",
              "      <td>223522411</td>\n",
              "      <td>433467229</td>\n",
              "      <td>46080</td>\n",
              "    </tr>\n",
              "    <tr>\n",
              "      <th>2</th>\n",
              "      <td>Ass. to all'Istruzione</td>\n",
              "      <td>0</td>\n",
              "      <td>9101000</td>\n",
              "      <td>13155971</td>\n",
              "      <td>393</td>\n",
              "    </tr>\n",
              "    <tr>\n",
              "      <th>3</th>\n",
              "      <td>Ass. to alla Sanità</td>\n",
              "      <td>511</td>\n",
              "      <td>3000000</td>\n",
              "      <td>3997200</td>\n",
              "      <td>681</td>\n",
              "    </tr>\n",
              "  </tbody>\n",
              "</table>\n",
              "</div>"
            ],
            "text/plain": [
              "  Assessorato / Struttura  ...  sum(Domande)\n",
              "0      Agenzia del Lavoro  ...         11867\n",
              "1       Ass. to al Lavoro  ...         46080\n",
              "2  Ass. to all'Istruzione  ...           393\n",
              "3     Ass. to alla Sanità  ...           681\n",
              "\n",
              "[4 rows x 5 columns]"
            ]
          },
          "metadata": {
            "tags": []
          },
          "execution_count": 28
        }
      ]
    },
    {
      "cell_type": "code",
      "metadata": {
        "colab": {
          "base_uri": "https://localhost:8080/",
          "height": 542
        },
        "id": "S9Kgx8zY3vmH",
        "outputId": "005996c4-9723-4513-d1f3-0b899089404e"
      },
      "source": [
        "fig = go.Figure()\n",
        "fig.add_trace(go.Bar(\n",
        "    y=Stat_all_avvisi_pd[\"Assessorato / Struttura\"],\n",
        "    x=Stat_all_avvisi_pd[\"sum(Dotazione Finanziaria)\"],\n",
        "    name='Totale interventi',\n",
        "    orientation='h',\n",
        "    hovertemplate = '<b><i>%{y}</i></b><br>' +\n",
        "    'Totale interventi'+\n",
        "    '<br><i>Dotazione</i>: <br><b>€%{x:.2f}</b><extra></extra>'\n",
        "))\n",
        "fig.add_trace(go.Bar(\n",
        "    y=Stat_avvisi_covid_pd[\"Assessorato / Struttura\"],\n",
        "    x=Stat_avvisi_covid_pd[\"sum(Dotazione Finanziaria)\"],\n",
        "    name='Interventi Covid',\n",
        "    orientation='h',\n",
        "    hovertemplate = '<br><b><i>%{y}</i></b><br>'+\n",
        "    'Interventi COVID'+\n",
        "    '<br><i>Dotazione</i>: <br><b>€%{x:.2f}</b><extra></extra>'\n",
        "))\n",
        "\n",
        "fig.update_xaxes(title_text=\"Somme (€)\", type=\"linear\")\n",
        "fig.update_yaxes(title_text=\"Struttura proponente\")\n",
        "fig.update_layout(title=\"Confronto dotazione finanziaria\")\n",
        "fig.update_layout(barmode='overlay', \n",
        "                  #hovermode=\"y\", \n",
        "                  hovermode = \"closest\",\n",
        "                  hoverlabel= { 'bgcolor': \"#FFF\" })\n",
        "fig.show()"
      ],
      "execution_count": 29,
      "outputs": [
        {
          "output_type": "display_data",
          "data": {
            "text/html": [
              "<html>\n",
              "<head><meta charset=\"utf-8\" /></head>\n",
              "<body>\n",
              "    <div>            <script src=\"https://cdnjs.cloudflare.com/ajax/libs/mathjax/2.7.5/MathJax.js?config=TeX-AMS-MML_SVG\"></script><script type=\"text/javascript\">if (window.MathJax) {MathJax.Hub.Config({SVG: {font: \"STIX-Web\"}});}</script>                <script type=\"text/javascript\">window.PlotlyConfig = {MathJaxConfig: 'local'};</script>\n",
              "        <script src=\"https://cdn.plot.ly/plotly-2.2.0.min.js\"></script>                <div id=\"182befcd-a28f-4776-a457-ce637719a144\" class=\"plotly-graph-div\" style=\"height:525px; width:100%;\"></div>            <script type=\"text/javascript\">                                    window.PLOTLYENV=window.PLOTLYENV || {};                                    if (document.getElementById(\"182befcd-a28f-4776-a457-ce637719a144\")) {                    Plotly.newPlot(                        \"182befcd-a28f-4776-a457-ce637719a144\",                        [{\"hovertemplate\":\"<b><i>%{y}</i></b><br>Totale interventi<br><i>Dotazione</i>: <br><b>\\u20ac%{x:.2f}</b><extra></extra>\",\"name\":\"Totale interventi\",\"orientation\":\"h\",\"type\":\"bar\",\"x\":[59650000,223522411,9101000,3000000],\"y\":[\"Agenzia del Lavoro\",\"Ass. to al Lavoro\",\"Ass. to all'Istruzione\",\"Ass. to alla Sanit\\u00e0\"]},{\"hovertemplate\":\"<br><b><i>%{y}</i></b><br>Interventi COVID<br><i>Dotazione</i>: <br><b>\\u20ac%{x:.2f}</b><extra></extra>\",\"name\":\"Interventi Covid\",\"orientation\":\"h\",\"type\":\"bar\",\"x\":[22650000,180689000],\"y\":[\"Agenzia del Lavoro\",\"Ass. to al Lavoro\"]}],                        {\"barmode\":\"overlay\",\"hoverlabel\":{\"bgcolor\":\"#FFF\"},\"hovermode\":\"closest\",\"template\":{\"data\":{\"bar\":[{\"error_x\":{\"color\":\"rgb(36,36,36)\"},\"error_y\":{\"color\":\"rgb(36,36,36)\"},\"marker\":{\"line\":{\"color\":\"rgb(234,234,242)\",\"width\":0.5},\"pattern\":{\"fillmode\":\"overlay\",\"size\":10,\"solidity\":0.2}},\"type\":\"bar\"}],\"barpolar\":[{\"marker\":{\"line\":{\"color\":\"rgb(234,234,242)\",\"width\":0.5},\"pattern\":{\"fillmode\":\"overlay\",\"size\":10,\"solidity\":0.2}},\"type\":\"barpolar\"}],\"carpet\":[{\"aaxis\":{\"endlinecolor\":\"rgb(36,36,36)\",\"gridcolor\":\"white\",\"linecolor\":\"white\",\"minorgridcolor\":\"white\",\"startlinecolor\":\"rgb(36,36,36)\"},\"baxis\":{\"endlinecolor\":\"rgb(36,36,36)\",\"gridcolor\":\"white\",\"linecolor\":\"white\",\"minorgridcolor\":\"white\",\"startlinecolor\":\"rgb(36,36,36)\"},\"type\":\"carpet\"}],\"choropleth\":[{\"colorbar\":{\"outlinewidth\":0,\"tickcolor\":\"rgb(36,36,36)\",\"ticklen\":8,\"ticks\":\"outside\",\"tickwidth\":2},\"type\":\"choropleth\"}],\"contour\":[{\"colorbar\":{\"outlinewidth\":0,\"tickcolor\":\"rgb(36,36,36)\",\"ticklen\":8,\"ticks\":\"outside\",\"tickwidth\":2},\"colorscale\":[[0.0,\"rgb(2,4,25)\"],[0.06274509803921569,\"rgb(24,15,41)\"],[0.12549019607843137,\"rgb(47,23,57)\"],[0.18823529411764706,\"rgb(71,28,72)\"],[0.25098039215686274,\"rgb(97,30,82)\"],[0.3137254901960784,\"rgb(123,30,89)\"],[0.3764705882352941,\"rgb(150,27,91)\"],[0.4392156862745098,\"rgb(177,22,88)\"],[0.5019607843137255,\"rgb(203,26,79)\"],[0.5647058823529412,\"rgb(223,47,67)\"],[0.6274509803921569,\"rgb(236,76,61)\"],[0.6901960784313725,\"rgb(242,107,73)\"],[0.7529411764705882,\"rgb(244,135,95)\"],[0.8156862745098039,\"rgb(245,162,122)\"],[0.8784313725490196,\"rgb(246,188,153)\"],[0.9411764705882353,\"rgb(247,212,187)\"],[1.0,\"rgb(250,234,220)\"]],\"type\":\"contour\"}],\"contourcarpet\":[{\"colorbar\":{\"outlinewidth\":0,\"tickcolor\":\"rgb(36,36,36)\",\"ticklen\":8,\"ticks\":\"outside\",\"tickwidth\":2},\"type\":\"contourcarpet\"}],\"heatmap\":[{\"colorbar\":{\"outlinewidth\":0,\"tickcolor\":\"rgb(36,36,36)\",\"ticklen\":8,\"ticks\":\"outside\",\"tickwidth\":2},\"colorscale\":[[0.0,\"rgb(2,4,25)\"],[0.06274509803921569,\"rgb(24,15,41)\"],[0.12549019607843137,\"rgb(47,23,57)\"],[0.18823529411764706,\"rgb(71,28,72)\"],[0.25098039215686274,\"rgb(97,30,82)\"],[0.3137254901960784,\"rgb(123,30,89)\"],[0.3764705882352941,\"rgb(150,27,91)\"],[0.4392156862745098,\"rgb(177,22,88)\"],[0.5019607843137255,\"rgb(203,26,79)\"],[0.5647058823529412,\"rgb(223,47,67)\"],[0.6274509803921569,\"rgb(236,76,61)\"],[0.6901960784313725,\"rgb(242,107,73)\"],[0.7529411764705882,\"rgb(244,135,95)\"],[0.8156862745098039,\"rgb(245,162,122)\"],[0.8784313725490196,\"rgb(246,188,153)\"],[0.9411764705882353,\"rgb(247,212,187)\"],[1.0,\"rgb(250,234,220)\"]],\"type\":\"heatmap\"}],\"heatmapgl\":[{\"colorbar\":{\"outlinewidth\":0,\"tickcolor\":\"rgb(36,36,36)\",\"ticklen\":8,\"ticks\":\"outside\",\"tickwidth\":2},\"colorscale\":[[0.0,\"rgb(2,4,25)\"],[0.06274509803921569,\"rgb(24,15,41)\"],[0.12549019607843137,\"rgb(47,23,57)\"],[0.18823529411764706,\"rgb(71,28,72)\"],[0.25098039215686274,\"rgb(97,30,82)\"],[0.3137254901960784,\"rgb(123,30,89)\"],[0.3764705882352941,\"rgb(150,27,91)\"],[0.4392156862745098,\"rgb(177,22,88)\"],[0.5019607843137255,\"rgb(203,26,79)\"],[0.5647058823529412,\"rgb(223,47,67)\"],[0.6274509803921569,\"rgb(236,76,61)\"],[0.6901960784313725,\"rgb(242,107,73)\"],[0.7529411764705882,\"rgb(244,135,95)\"],[0.8156862745098039,\"rgb(245,162,122)\"],[0.8784313725490196,\"rgb(246,188,153)\"],[0.9411764705882353,\"rgb(247,212,187)\"],[1.0,\"rgb(250,234,220)\"]],\"type\":\"heatmapgl\"}],\"histogram\":[{\"marker\":{\"pattern\":{\"fillmode\":\"overlay\",\"size\":10,\"solidity\":0.2}},\"type\":\"histogram\"}],\"histogram2d\":[{\"colorbar\":{\"outlinewidth\":0,\"tickcolor\":\"rgb(36,36,36)\",\"ticklen\":8,\"ticks\":\"outside\",\"tickwidth\":2},\"colorscale\":[[0.0,\"rgb(2,4,25)\"],[0.06274509803921569,\"rgb(24,15,41)\"],[0.12549019607843137,\"rgb(47,23,57)\"],[0.18823529411764706,\"rgb(71,28,72)\"],[0.25098039215686274,\"rgb(97,30,82)\"],[0.3137254901960784,\"rgb(123,30,89)\"],[0.3764705882352941,\"rgb(150,27,91)\"],[0.4392156862745098,\"rgb(177,22,88)\"],[0.5019607843137255,\"rgb(203,26,79)\"],[0.5647058823529412,\"rgb(223,47,67)\"],[0.6274509803921569,\"rgb(236,76,61)\"],[0.6901960784313725,\"rgb(242,107,73)\"],[0.7529411764705882,\"rgb(244,135,95)\"],[0.8156862745098039,\"rgb(245,162,122)\"],[0.8784313725490196,\"rgb(246,188,153)\"],[0.9411764705882353,\"rgb(247,212,187)\"],[1.0,\"rgb(250,234,220)\"]],\"type\":\"histogram2d\"}],\"histogram2dcontour\":[{\"colorbar\":{\"outlinewidth\":0,\"tickcolor\":\"rgb(36,36,36)\",\"ticklen\":8,\"ticks\":\"outside\",\"tickwidth\":2},\"colorscale\":[[0.0,\"rgb(2,4,25)\"],[0.06274509803921569,\"rgb(24,15,41)\"],[0.12549019607843137,\"rgb(47,23,57)\"],[0.18823529411764706,\"rgb(71,28,72)\"],[0.25098039215686274,\"rgb(97,30,82)\"],[0.3137254901960784,\"rgb(123,30,89)\"],[0.3764705882352941,\"rgb(150,27,91)\"],[0.4392156862745098,\"rgb(177,22,88)\"],[0.5019607843137255,\"rgb(203,26,79)\"],[0.5647058823529412,\"rgb(223,47,67)\"],[0.6274509803921569,\"rgb(236,76,61)\"],[0.6901960784313725,\"rgb(242,107,73)\"],[0.7529411764705882,\"rgb(244,135,95)\"],[0.8156862745098039,\"rgb(245,162,122)\"],[0.8784313725490196,\"rgb(246,188,153)\"],[0.9411764705882353,\"rgb(247,212,187)\"],[1.0,\"rgb(250,234,220)\"]],\"type\":\"histogram2dcontour\"}],\"mesh3d\":[{\"colorbar\":{\"outlinewidth\":0,\"tickcolor\":\"rgb(36,36,36)\",\"ticklen\":8,\"ticks\":\"outside\",\"tickwidth\":2},\"type\":\"mesh3d\"}],\"parcoords\":[{\"line\":{\"colorbar\":{\"outlinewidth\":0,\"tickcolor\":\"rgb(36,36,36)\",\"ticklen\":8,\"ticks\":\"outside\",\"tickwidth\":2}},\"type\":\"parcoords\"}],\"pie\":[{\"automargin\":true,\"type\":\"pie\"}],\"scatter\":[{\"marker\":{\"colorbar\":{\"outlinewidth\":0,\"tickcolor\":\"rgb(36,36,36)\",\"ticklen\":8,\"ticks\":\"outside\",\"tickwidth\":2}},\"type\":\"scatter\"}],\"scatter3d\":[{\"line\":{\"colorbar\":{\"outlinewidth\":0,\"tickcolor\":\"rgb(36,36,36)\",\"ticklen\":8,\"ticks\":\"outside\",\"tickwidth\":2}},\"marker\":{\"colorbar\":{\"outlinewidth\":0,\"tickcolor\":\"rgb(36,36,36)\",\"ticklen\":8,\"ticks\":\"outside\",\"tickwidth\":2}},\"type\":\"scatter3d\"}],\"scattercarpet\":[{\"marker\":{\"colorbar\":{\"outlinewidth\":0,\"tickcolor\":\"rgb(36,36,36)\",\"ticklen\":8,\"ticks\":\"outside\",\"tickwidth\":2}},\"type\":\"scattercarpet\"}],\"scattergeo\":[{\"marker\":{\"colorbar\":{\"outlinewidth\":0,\"tickcolor\":\"rgb(36,36,36)\",\"ticklen\":8,\"ticks\":\"outside\",\"tickwidth\":2}},\"type\":\"scattergeo\"}],\"scattergl\":[{\"marker\":{\"colorbar\":{\"outlinewidth\":0,\"tickcolor\":\"rgb(36,36,36)\",\"ticklen\":8,\"ticks\":\"outside\",\"tickwidth\":2}},\"type\":\"scattergl\"}],\"scattermapbox\":[{\"marker\":{\"colorbar\":{\"outlinewidth\":0,\"tickcolor\":\"rgb(36,36,36)\",\"ticklen\":8,\"ticks\":\"outside\",\"tickwidth\":2}},\"type\":\"scattermapbox\"}],\"scatterpolar\":[{\"marker\":{\"colorbar\":{\"outlinewidth\":0,\"tickcolor\":\"rgb(36,36,36)\",\"ticklen\":8,\"ticks\":\"outside\",\"tickwidth\":2}},\"type\":\"scatterpolar\"}],\"scatterpolargl\":[{\"marker\":{\"colorbar\":{\"outlinewidth\":0,\"tickcolor\":\"rgb(36,36,36)\",\"ticklen\":8,\"ticks\":\"outside\",\"tickwidth\":2}},\"type\":\"scatterpolargl\"}],\"scatterternary\":[{\"marker\":{\"colorbar\":{\"outlinewidth\":0,\"tickcolor\":\"rgb(36,36,36)\",\"ticklen\":8,\"ticks\":\"outside\",\"tickwidth\":2}},\"type\":\"scatterternary\"}],\"surface\":[{\"colorbar\":{\"outlinewidth\":0,\"tickcolor\":\"rgb(36,36,36)\",\"ticklen\":8,\"ticks\":\"outside\",\"tickwidth\":2},\"colorscale\":[[0.0,\"rgb(2,4,25)\"],[0.06274509803921569,\"rgb(24,15,41)\"],[0.12549019607843137,\"rgb(47,23,57)\"],[0.18823529411764706,\"rgb(71,28,72)\"],[0.25098039215686274,\"rgb(97,30,82)\"],[0.3137254901960784,\"rgb(123,30,89)\"],[0.3764705882352941,\"rgb(150,27,91)\"],[0.4392156862745098,\"rgb(177,22,88)\"],[0.5019607843137255,\"rgb(203,26,79)\"],[0.5647058823529412,\"rgb(223,47,67)\"],[0.6274509803921569,\"rgb(236,76,61)\"],[0.6901960784313725,\"rgb(242,107,73)\"],[0.7529411764705882,\"rgb(244,135,95)\"],[0.8156862745098039,\"rgb(245,162,122)\"],[0.8784313725490196,\"rgb(246,188,153)\"],[0.9411764705882353,\"rgb(247,212,187)\"],[1.0,\"rgb(250,234,220)\"]],\"type\":\"surface\"}],\"table\":[{\"cells\":{\"fill\":{\"color\":\"rgb(231,231,240)\"},\"line\":{\"color\":\"white\"}},\"header\":{\"fill\":{\"color\":\"rgb(183,183,191)\"},\"line\":{\"color\":\"white\"}},\"type\":\"table\"}]},\"layout\":{\"annotationdefaults\":{\"arrowcolor\":\"rgb(67,103,167)\"},\"autotypenumbers\":\"strict\",\"coloraxis\":{\"colorbar\":{\"outlinewidth\":0,\"tickcolor\":\"rgb(36,36,36)\",\"ticklen\":8,\"ticks\":\"outside\",\"tickwidth\":2}},\"colorscale\":{\"sequential\":[[0.0,\"rgb(2,4,25)\"],[0.06274509803921569,\"rgb(24,15,41)\"],[0.12549019607843137,\"rgb(47,23,57)\"],[0.18823529411764706,\"rgb(71,28,72)\"],[0.25098039215686274,\"rgb(97,30,82)\"],[0.3137254901960784,\"rgb(123,30,89)\"],[0.3764705882352941,\"rgb(150,27,91)\"],[0.4392156862745098,\"rgb(177,22,88)\"],[0.5019607843137255,\"rgb(203,26,79)\"],[0.5647058823529412,\"rgb(223,47,67)\"],[0.6274509803921569,\"rgb(236,76,61)\"],[0.6901960784313725,\"rgb(242,107,73)\"],[0.7529411764705882,\"rgb(244,135,95)\"],[0.8156862745098039,\"rgb(245,162,122)\"],[0.8784313725490196,\"rgb(246,188,153)\"],[0.9411764705882353,\"rgb(247,212,187)\"],[1.0,\"rgb(250,234,220)\"]],\"sequentialminus\":[[0.0,\"rgb(2,4,25)\"],[0.06274509803921569,\"rgb(24,15,41)\"],[0.12549019607843137,\"rgb(47,23,57)\"],[0.18823529411764706,\"rgb(71,28,72)\"],[0.25098039215686274,\"rgb(97,30,82)\"],[0.3137254901960784,\"rgb(123,30,89)\"],[0.3764705882352941,\"rgb(150,27,91)\"],[0.4392156862745098,\"rgb(177,22,88)\"],[0.5019607843137255,\"rgb(203,26,79)\"],[0.5647058823529412,\"rgb(223,47,67)\"],[0.6274509803921569,\"rgb(236,76,61)\"],[0.6901960784313725,\"rgb(242,107,73)\"],[0.7529411764705882,\"rgb(244,135,95)\"],[0.8156862745098039,\"rgb(245,162,122)\"],[0.8784313725490196,\"rgb(246,188,153)\"],[0.9411764705882353,\"rgb(247,212,187)\"],[1.0,\"rgb(250,234,220)\"]]},\"colorway\":[\"rgb(76,114,176)\",\"rgb(221,132,82)\",\"rgb(85,168,104)\",\"rgb(196,78,82)\",\"rgb(129,114,179)\",\"rgb(147,120,96)\",\"rgb(218,139,195)\",\"rgb(140,140,140)\",\"rgb(204,185,116)\",\"rgb(100,181,205)\"],\"font\":{\"color\":\"rgb(36,36,36)\"},\"geo\":{\"bgcolor\":\"white\",\"lakecolor\":\"white\",\"landcolor\":\"rgb(234,234,242)\",\"showlakes\":true,\"showland\":true,\"subunitcolor\":\"white\"},\"hoverlabel\":{\"align\":\"left\"},\"hovermode\":\"closest\",\"paper_bgcolor\":\"white\",\"plot_bgcolor\":\"rgb(234,234,242)\",\"polar\":{\"angularaxis\":{\"gridcolor\":\"white\",\"linecolor\":\"white\",\"showgrid\":true,\"ticks\":\"\"},\"bgcolor\":\"rgb(234,234,242)\",\"radialaxis\":{\"gridcolor\":\"white\",\"linecolor\":\"white\",\"showgrid\":true,\"ticks\":\"\"}},\"scene\":{\"xaxis\":{\"backgroundcolor\":\"rgb(234,234,242)\",\"gridcolor\":\"white\",\"gridwidth\":2,\"linecolor\":\"white\",\"showbackground\":true,\"showgrid\":true,\"ticks\":\"\",\"zerolinecolor\":\"white\"},\"yaxis\":{\"backgroundcolor\":\"rgb(234,234,242)\",\"gridcolor\":\"white\",\"gridwidth\":2,\"linecolor\":\"white\",\"showbackground\":true,\"showgrid\":true,\"ticks\":\"\",\"zerolinecolor\":\"white\"},\"zaxis\":{\"backgroundcolor\":\"rgb(234,234,242)\",\"gridcolor\":\"white\",\"gridwidth\":2,\"linecolor\":\"white\",\"showbackground\":true,\"showgrid\":true,\"ticks\":\"\",\"zerolinecolor\":\"white\"}},\"shapedefaults\":{\"fillcolor\":\"rgb(67,103,167)\",\"line\":{\"width\":0},\"opacity\":0.5},\"ternary\":{\"aaxis\":{\"gridcolor\":\"white\",\"linecolor\":\"white\",\"showgrid\":true,\"ticks\":\"\"},\"baxis\":{\"gridcolor\":\"white\",\"linecolor\":\"white\",\"showgrid\":true,\"ticks\":\"\"},\"bgcolor\":\"rgb(234,234,242)\",\"caxis\":{\"gridcolor\":\"white\",\"linecolor\":\"white\",\"showgrid\":true,\"ticks\":\"\"}},\"xaxis\":{\"automargin\":true,\"gridcolor\":\"white\",\"linecolor\":\"white\",\"showgrid\":true,\"ticks\":\"\",\"title\":{\"standoff\":15},\"zerolinecolor\":\"white\"},\"yaxis\":{\"automargin\":true,\"gridcolor\":\"white\",\"linecolor\":\"white\",\"showgrid\":true,\"ticks\":\"\",\"title\":{\"standoff\":15},\"zerolinecolor\":\"white\"}}},\"title\":{\"text\":\"Confronto dotazione finanziaria\"},\"xaxis\":{\"title\":{\"text\":\"Somme (\\u20ac)\"},\"type\":\"linear\"},\"yaxis\":{\"title\":{\"text\":\"Struttura proponente\"}}},                        {\"responsive\": true}                    ).then(function(){\n",
              "                            \n",
              "var gd = document.getElementById('182befcd-a28f-4776-a457-ce637719a144');\n",
              "var x = new MutationObserver(function (mutations, observer) {{\n",
              "        var display = window.getComputedStyle(gd).display;\n",
              "        if (!display || display === 'none') {{\n",
              "            console.log([gd, 'removed!']);\n",
              "            Plotly.purge(gd);\n",
              "            observer.disconnect();\n",
              "        }}\n",
              "}});\n",
              "\n",
              "// Listen for the removal of the full notebook cells\n",
              "var notebookContainer = gd.closest('#notebook-container');\n",
              "if (notebookContainer) {{\n",
              "    x.observe(notebookContainer, {childList: true});\n",
              "}}\n",
              "\n",
              "// Listen for the clearing of the current output cell\n",
              "var outputEl = gd.closest('.output');\n",
              "if (outputEl) {{\n",
              "    x.observe(outputEl, {childList: true});\n",
              "}}\n",
              "\n",
              "                        })                };                            </script>        </div>\n",
              "</body>\n",
              "</html>"
            ]
          },
          "metadata": {
            "tags": []
          }
        }
      ]
    },
    {
      "cell_type": "code",
      "metadata": {
        "colab": {
          "base_uri": "https://localhost:8080/",
          "height": 542
        },
        "id": "lt3GyI1sEqV-",
        "outputId": "aa4cd066-cc20-465c-d72b-bd9dc33ed651"
      },
      "source": [
        "fig = go.Figure()\n",
        "fig.add_trace(go.Bar(\n",
        "    y=Stat_all_avvisi_pd[\"Assessorato / Struttura\"],\n",
        "    x=Stat_all_avvisi_pd[\"sum(Domande)\"],\n",
        "    name='Totale interventi',\n",
        "    orientation='h',\n",
        "    hovertemplate = '<br><b><i>%{y}</i></b><br>'+\n",
        "    'Totale interventi'+\n",
        "    '<br><i>N. Domande</i>: <br><b>%{x:i}</b><extra></extra>'\n",
        "))\n",
        "fig.add_trace(go.Bar(\n",
        "    y=Stat_avvisi_covid_pd[\"Assessorato / Struttura\"],\n",
        "    x=Stat_avvisi_covid_pd[\"sum(Domande)\"],\n",
        "    name='Interventi Covid',\n",
        "    orientation='h',\n",
        "    hovertemplate = '<br><b><i>%{y}</i></b><br>'+\n",
        "    'Interventi COVID'+\n",
        "    '<br><i>N. Domande</i>: <br><b>%{x:i}</b><extra></extra>'\n",
        "))\n",
        "\n",
        "fig.update_xaxes(title_text=\"N. di partecipanti\")\n",
        "fig.update_yaxes(title_text=\"Struttura proponente\")\n",
        "fig.update_layout(title=\"Confronto partecipanti\")\n",
        "fig.update_layout(barmode='overlay', \n",
        "                  #hovermode=\"x\", \n",
        "                  hovermode = \"closest\",\n",
        "                  hoverlabel= { 'bgcolor': \"#FFF\" }\n",
        ")\n",
        "fig.show()"
      ],
      "execution_count": 30,
      "outputs": [
        {
          "output_type": "display_data",
          "data": {
            "text/html": [
              "<html>\n",
              "<head><meta charset=\"utf-8\" /></head>\n",
              "<body>\n",
              "    <div>            <script src=\"https://cdnjs.cloudflare.com/ajax/libs/mathjax/2.7.5/MathJax.js?config=TeX-AMS-MML_SVG\"></script><script type=\"text/javascript\">if (window.MathJax) {MathJax.Hub.Config({SVG: {font: \"STIX-Web\"}});}</script>                <script type=\"text/javascript\">window.PlotlyConfig = {MathJaxConfig: 'local'};</script>\n",
              "        <script src=\"https://cdn.plot.ly/plotly-2.2.0.min.js\"></script>                <div id=\"1c4783c1-da61-448b-b4dd-26347c587e86\" class=\"plotly-graph-div\" style=\"height:525px; width:100%;\"></div>            <script type=\"text/javascript\">                                    window.PLOTLYENV=window.PLOTLYENV || {};                                    if (document.getElementById(\"1c4783c1-da61-448b-b4dd-26347c587e86\")) {                    Plotly.newPlot(                        \"1c4783c1-da61-448b-b4dd-26347c587e86\",                        [{\"hovertemplate\":\"<br><b><i>%{y}</i></b><br>Totale interventi<br><i>N. Domande</i>: <br><b>%{x:i}</b><extra></extra>\",\"name\":\"Totale interventi\",\"orientation\":\"h\",\"type\":\"bar\",\"x\":[11867,46080,393,681],\"y\":[\"Agenzia del Lavoro\",\"Ass. to al Lavoro\",\"Ass. to all'Istruzione\",\"Ass. to alla Sanit\\u00e0\"]},{\"hovertemplate\":\"<br><b><i>%{y}</i></b><br>Interventi COVID<br><i>N. Domande</i>: <br><b>%{x:i}</b><extra></extra>\",\"name\":\"Interventi Covid\",\"orientation\":\"h\",\"type\":\"bar\",\"x\":[11438,44226],\"y\":[\"Agenzia del Lavoro\",\"Ass. to al Lavoro\"]}],                        {\"barmode\":\"overlay\",\"hoverlabel\":{\"bgcolor\":\"#FFF\"},\"hovermode\":\"closest\",\"template\":{\"data\":{\"bar\":[{\"error_x\":{\"color\":\"rgb(36,36,36)\"},\"error_y\":{\"color\":\"rgb(36,36,36)\"},\"marker\":{\"line\":{\"color\":\"rgb(234,234,242)\",\"width\":0.5},\"pattern\":{\"fillmode\":\"overlay\",\"size\":10,\"solidity\":0.2}},\"type\":\"bar\"}],\"barpolar\":[{\"marker\":{\"line\":{\"color\":\"rgb(234,234,242)\",\"width\":0.5},\"pattern\":{\"fillmode\":\"overlay\",\"size\":10,\"solidity\":0.2}},\"type\":\"barpolar\"}],\"carpet\":[{\"aaxis\":{\"endlinecolor\":\"rgb(36,36,36)\",\"gridcolor\":\"white\",\"linecolor\":\"white\",\"minorgridcolor\":\"white\",\"startlinecolor\":\"rgb(36,36,36)\"},\"baxis\":{\"endlinecolor\":\"rgb(36,36,36)\",\"gridcolor\":\"white\",\"linecolor\":\"white\",\"minorgridcolor\":\"white\",\"startlinecolor\":\"rgb(36,36,36)\"},\"type\":\"carpet\"}],\"choropleth\":[{\"colorbar\":{\"outlinewidth\":0,\"tickcolor\":\"rgb(36,36,36)\",\"ticklen\":8,\"ticks\":\"outside\",\"tickwidth\":2},\"type\":\"choropleth\"}],\"contour\":[{\"colorbar\":{\"outlinewidth\":0,\"tickcolor\":\"rgb(36,36,36)\",\"ticklen\":8,\"ticks\":\"outside\",\"tickwidth\":2},\"colorscale\":[[0.0,\"rgb(2,4,25)\"],[0.06274509803921569,\"rgb(24,15,41)\"],[0.12549019607843137,\"rgb(47,23,57)\"],[0.18823529411764706,\"rgb(71,28,72)\"],[0.25098039215686274,\"rgb(97,30,82)\"],[0.3137254901960784,\"rgb(123,30,89)\"],[0.3764705882352941,\"rgb(150,27,91)\"],[0.4392156862745098,\"rgb(177,22,88)\"],[0.5019607843137255,\"rgb(203,26,79)\"],[0.5647058823529412,\"rgb(223,47,67)\"],[0.6274509803921569,\"rgb(236,76,61)\"],[0.6901960784313725,\"rgb(242,107,73)\"],[0.7529411764705882,\"rgb(244,135,95)\"],[0.8156862745098039,\"rgb(245,162,122)\"],[0.8784313725490196,\"rgb(246,188,153)\"],[0.9411764705882353,\"rgb(247,212,187)\"],[1.0,\"rgb(250,234,220)\"]],\"type\":\"contour\"}],\"contourcarpet\":[{\"colorbar\":{\"outlinewidth\":0,\"tickcolor\":\"rgb(36,36,36)\",\"ticklen\":8,\"ticks\":\"outside\",\"tickwidth\":2},\"type\":\"contourcarpet\"}],\"heatmap\":[{\"colorbar\":{\"outlinewidth\":0,\"tickcolor\":\"rgb(36,36,36)\",\"ticklen\":8,\"ticks\":\"outside\",\"tickwidth\":2},\"colorscale\":[[0.0,\"rgb(2,4,25)\"],[0.06274509803921569,\"rgb(24,15,41)\"],[0.12549019607843137,\"rgb(47,23,57)\"],[0.18823529411764706,\"rgb(71,28,72)\"],[0.25098039215686274,\"rgb(97,30,82)\"],[0.3137254901960784,\"rgb(123,30,89)\"],[0.3764705882352941,\"rgb(150,27,91)\"],[0.4392156862745098,\"rgb(177,22,88)\"],[0.5019607843137255,\"rgb(203,26,79)\"],[0.5647058823529412,\"rgb(223,47,67)\"],[0.6274509803921569,\"rgb(236,76,61)\"],[0.6901960784313725,\"rgb(242,107,73)\"],[0.7529411764705882,\"rgb(244,135,95)\"],[0.8156862745098039,\"rgb(245,162,122)\"],[0.8784313725490196,\"rgb(246,188,153)\"],[0.9411764705882353,\"rgb(247,212,187)\"],[1.0,\"rgb(250,234,220)\"]],\"type\":\"heatmap\"}],\"heatmapgl\":[{\"colorbar\":{\"outlinewidth\":0,\"tickcolor\":\"rgb(36,36,36)\",\"ticklen\":8,\"ticks\":\"outside\",\"tickwidth\":2},\"colorscale\":[[0.0,\"rgb(2,4,25)\"],[0.06274509803921569,\"rgb(24,15,41)\"],[0.12549019607843137,\"rgb(47,23,57)\"],[0.18823529411764706,\"rgb(71,28,72)\"],[0.25098039215686274,\"rgb(97,30,82)\"],[0.3137254901960784,\"rgb(123,30,89)\"],[0.3764705882352941,\"rgb(150,27,91)\"],[0.4392156862745098,\"rgb(177,22,88)\"],[0.5019607843137255,\"rgb(203,26,79)\"],[0.5647058823529412,\"rgb(223,47,67)\"],[0.6274509803921569,\"rgb(236,76,61)\"],[0.6901960784313725,\"rgb(242,107,73)\"],[0.7529411764705882,\"rgb(244,135,95)\"],[0.8156862745098039,\"rgb(245,162,122)\"],[0.8784313725490196,\"rgb(246,188,153)\"],[0.9411764705882353,\"rgb(247,212,187)\"],[1.0,\"rgb(250,234,220)\"]],\"type\":\"heatmapgl\"}],\"histogram\":[{\"marker\":{\"pattern\":{\"fillmode\":\"overlay\",\"size\":10,\"solidity\":0.2}},\"type\":\"histogram\"}],\"histogram2d\":[{\"colorbar\":{\"outlinewidth\":0,\"tickcolor\":\"rgb(36,36,36)\",\"ticklen\":8,\"ticks\":\"outside\",\"tickwidth\":2},\"colorscale\":[[0.0,\"rgb(2,4,25)\"],[0.06274509803921569,\"rgb(24,15,41)\"],[0.12549019607843137,\"rgb(47,23,57)\"],[0.18823529411764706,\"rgb(71,28,72)\"],[0.25098039215686274,\"rgb(97,30,82)\"],[0.3137254901960784,\"rgb(123,30,89)\"],[0.3764705882352941,\"rgb(150,27,91)\"],[0.4392156862745098,\"rgb(177,22,88)\"],[0.5019607843137255,\"rgb(203,26,79)\"],[0.5647058823529412,\"rgb(223,47,67)\"],[0.6274509803921569,\"rgb(236,76,61)\"],[0.6901960784313725,\"rgb(242,107,73)\"],[0.7529411764705882,\"rgb(244,135,95)\"],[0.8156862745098039,\"rgb(245,162,122)\"],[0.8784313725490196,\"rgb(246,188,153)\"],[0.9411764705882353,\"rgb(247,212,187)\"],[1.0,\"rgb(250,234,220)\"]],\"type\":\"histogram2d\"}],\"histogram2dcontour\":[{\"colorbar\":{\"outlinewidth\":0,\"tickcolor\":\"rgb(36,36,36)\",\"ticklen\":8,\"ticks\":\"outside\",\"tickwidth\":2},\"colorscale\":[[0.0,\"rgb(2,4,25)\"],[0.06274509803921569,\"rgb(24,15,41)\"],[0.12549019607843137,\"rgb(47,23,57)\"],[0.18823529411764706,\"rgb(71,28,72)\"],[0.25098039215686274,\"rgb(97,30,82)\"],[0.3137254901960784,\"rgb(123,30,89)\"],[0.3764705882352941,\"rgb(150,27,91)\"],[0.4392156862745098,\"rgb(177,22,88)\"],[0.5019607843137255,\"rgb(203,26,79)\"],[0.5647058823529412,\"rgb(223,47,67)\"],[0.6274509803921569,\"rgb(236,76,61)\"],[0.6901960784313725,\"rgb(242,107,73)\"],[0.7529411764705882,\"rgb(244,135,95)\"],[0.8156862745098039,\"rgb(245,162,122)\"],[0.8784313725490196,\"rgb(246,188,153)\"],[0.9411764705882353,\"rgb(247,212,187)\"],[1.0,\"rgb(250,234,220)\"]],\"type\":\"histogram2dcontour\"}],\"mesh3d\":[{\"colorbar\":{\"outlinewidth\":0,\"tickcolor\":\"rgb(36,36,36)\",\"ticklen\":8,\"ticks\":\"outside\",\"tickwidth\":2},\"type\":\"mesh3d\"}],\"parcoords\":[{\"line\":{\"colorbar\":{\"outlinewidth\":0,\"tickcolor\":\"rgb(36,36,36)\",\"ticklen\":8,\"ticks\":\"outside\",\"tickwidth\":2}},\"type\":\"parcoords\"}],\"pie\":[{\"automargin\":true,\"type\":\"pie\"}],\"scatter\":[{\"marker\":{\"colorbar\":{\"outlinewidth\":0,\"tickcolor\":\"rgb(36,36,36)\",\"ticklen\":8,\"ticks\":\"outside\",\"tickwidth\":2}},\"type\":\"scatter\"}],\"scatter3d\":[{\"line\":{\"colorbar\":{\"outlinewidth\":0,\"tickcolor\":\"rgb(36,36,36)\",\"ticklen\":8,\"ticks\":\"outside\",\"tickwidth\":2}},\"marker\":{\"colorbar\":{\"outlinewidth\":0,\"tickcolor\":\"rgb(36,36,36)\",\"ticklen\":8,\"ticks\":\"outside\",\"tickwidth\":2}},\"type\":\"scatter3d\"}],\"scattercarpet\":[{\"marker\":{\"colorbar\":{\"outlinewidth\":0,\"tickcolor\":\"rgb(36,36,36)\",\"ticklen\":8,\"ticks\":\"outside\",\"tickwidth\":2}},\"type\":\"scattercarpet\"}],\"scattergeo\":[{\"marker\":{\"colorbar\":{\"outlinewidth\":0,\"tickcolor\":\"rgb(36,36,36)\",\"ticklen\":8,\"ticks\":\"outside\",\"tickwidth\":2}},\"type\":\"scattergeo\"}],\"scattergl\":[{\"marker\":{\"colorbar\":{\"outlinewidth\":0,\"tickcolor\":\"rgb(36,36,36)\",\"ticklen\":8,\"ticks\":\"outside\",\"tickwidth\":2}},\"type\":\"scattergl\"}],\"scattermapbox\":[{\"marker\":{\"colorbar\":{\"outlinewidth\":0,\"tickcolor\":\"rgb(36,36,36)\",\"ticklen\":8,\"ticks\":\"outside\",\"tickwidth\":2}},\"type\":\"scattermapbox\"}],\"scatterpolar\":[{\"marker\":{\"colorbar\":{\"outlinewidth\":0,\"tickcolor\":\"rgb(36,36,36)\",\"ticklen\":8,\"ticks\":\"outside\",\"tickwidth\":2}},\"type\":\"scatterpolar\"}],\"scatterpolargl\":[{\"marker\":{\"colorbar\":{\"outlinewidth\":0,\"tickcolor\":\"rgb(36,36,36)\",\"ticklen\":8,\"ticks\":\"outside\",\"tickwidth\":2}},\"type\":\"scatterpolargl\"}],\"scatterternary\":[{\"marker\":{\"colorbar\":{\"outlinewidth\":0,\"tickcolor\":\"rgb(36,36,36)\",\"ticklen\":8,\"ticks\":\"outside\",\"tickwidth\":2}},\"type\":\"scatterternary\"}],\"surface\":[{\"colorbar\":{\"outlinewidth\":0,\"tickcolor\":\"rgb(36,36,36)\",\"ticklen\":8,\"ticks\":\"outside\",\"tickwidth\":2},\"colorscale\":[[0.0,\"rgb(2,4,25)\"],[0.06274509803921569,\"rgb(24,15,41)\"],[0.12549019607843137,\"rgb(47,23,57)\"],[0.18823529411764706,\"rgb(71,28,72)\"],[0.25098039215686274,\"rgb(97,30,82)\"],[0.3137254901960784,\"rgb(123,30,89)\"],[0.3764705882352941,\"rgb(150,27,91)\"],[0.4392156862745098,\"rgb(177,22,88)\"],[0.5019607843137255,\"rgb(203,26,79)\"],[0.5647058823529412,\"rgb(223,47,67)\"],[0.6274509803921569,\"rgb(236,76,61)\"],[0.6901960784313725,\"rgb(242,107,73)\"],[0.7529411764705882,\"rgb(244,135,95)\"],[0.8156862745098039,\"rgb(245,162,122)\"],[0.8784313725490196,\"rgb(246,188,153)\"],[0.9411764705882353,\"rgb(247,212,187)\"],[1.0,\"rgb(250,234,220)\"]],\"type\":\"surface\"}],\"table\":[{\"cells\":{\"fill\":{\"color\":\"rgb(231,231,240)\"},\"line\":{\"color\":\"white\"}},\"header\":{\"fill\":{\"color\":\"rgb(183,183,191)\"},\"line\":{\"color\":\"white\"}},\"type\":\"table\"}]},\"layout\":{\"annotationdefaults\":{\"arrowcolor\":\"rgb(67,103,167)\"},\"autotypenumbers\":\"strict\",\"coloraxis\":{\"colorbar\":{\"outlinewidth\":0,\"tickcolor\":\"rgb(36,36,36)\",\"ticklen\":8,\"ticks\":\"outside\",\"tickwidth\":2}},\"colorscale\":{\"sequential\":[[0.0,\"rgb(2,4,25)\"],[0.06274509803921569,\"rgb(24,15,41)\"],[0.12549019607843137,\"rgb(47,23,57)\"],[0.18823529411764706,\"rgb(71,28,72)\"],[0.25098039215686274,\"rgb(97,30,82)\"],[0.3137254901960784,\"rgb(123,30,89)\"],[0.3764705882352941,\"rgb(150,27,91)\"],[0.4392156862745098,\"rgb(177,22,88)\"],[0.5019607843137255,\"rgb(203,26,79)\"],[0.5647058823529412,\"rgb(223,47,67)\"],[0.6274509803921569,\"rgb(236,76,61)\"],[0.6901960784313725,\"rgb(242,107,73)\"],[0.7529411764705882,\"rgb(244,135,95)\"],[0.8156862745098039,\"rgb(245,162,122)\"],[0.8784313725490196,\"rgb(246,188,153)\"],[0.9411764705882353,\"rgb(247,212,187)\"],[1.0,\"rgb(250,234,220)\"]],\"sequentialminus\":[[0.0,\"rgb(2,4,25)\"],[0.06274509803921569,\"rgb(24,15,41)\"],[0.12549019607843137,\"rgb(47,23,57)\"],[0.18823529411764706,\"rgb(71,28,72)\"],[0.25098039215686274,\"rgb(97,30,82)\"],[0.3137254901960784,\"rgb(123,30,89)\"],[0.3764705882352941,\"rgb(150,27,91)\"],[0.4392156862745098,\"rgb(177,22,88)\"],[0.5019607843137255,\"rgb(203,26,79)\"],[0.5647058823529412,\"rgb(223,47,67)\"],[0.6274509803921569,\"rgb(236,76,61)\"],[0.6901960784313725,\"rgb(242,107,73)\"],[0.7529411764705882,\"rgb(244,135,95)\"],[0.8156862745098039,\"rgb(245,162,122)\"],[0.8784313725490196,\"rgb(246,188,153)\"],[0.9411764705882353,\"rgb(247,212,187)\"],[1.0,\"rgb(250,234,220)\"]]},\"colorway\":[\"rgb(76,114,176)\",\"rgb(221,132,82)\",\"rgb(85,168,104)\",\"rgb(196,78,82)\",\"rgb(129,114,179)\",\"rgb(147,120,96)\",\"rgb(218,139,195)\",\"rgb(140,140,140)\",\"rgb(204,185,116)\",\"rgb(100,181,205)\"],\"font\":{\"color\":\"rgb(36,36,36)\"},\"geo\":{\"bgcolor\":\"white\",\"lakecolor\":\"white\",\"landcolor\":\"rgb(234,234,242)\",\"showlakes\":true,\"showland\":true,\"subunitcolor\":\"white\"},\"hoverlabel\":{\"align\":\"left\"},\"hovermode\":\"closest\",\"paper_bgcolor\":\"white\",\"plot_bgcolor\":\"rgb(234,234,242)\",\"polar\":{\"angularaxis\":{\"gridcolor\":\"white\",\"linecolor\":\"white\",\"showgrid\":true,\"ticks\":\"\"},\"bgcolor\":\"rgb(234,234,242)\",\"radialaxis\":{\"gridcolor\":\"white\",\"linecolor\":\"white\",\"showgrid\":true,\"ticks\":\"\"}},\"scene\":{\"xaxis\":{\"backgroundcolor\":\"rgb(234,234,242)\",\"gridcolor\":\"white\",\"gridwidth\":2,\"linecolor\":\"white\",\"showbackground\":true,\"showgrid\":true,\"ticks\":\"\",\"zerolinecolor\":\"white\"},\"yaxis\":{\"backgroundcolor\":\"rgb(234,234,242)\",\"gridcolor\":\"white\",\"gridwidth\":2,\"linecolor\":\"white\",\"showbackground\":true,\"showgrid\":true,\"ticks\":\"\",\"zerolinecolor\":\"white\"},\"zaxis\":{\"backgroundcolor\":\"rgb(234,234,242)\",\"gridcolor\":\"white\",\"gridwidth\":2,\"linecolor\":\"white\",\"showbackground\":true,\"showgrid\":true,\"ticks\":\"\",\"zerolinecolor\":\"white\"}},\"shapedefaults\":{\"fillcolor\":\"rgb(67,103,167)\",\"line\":{\"width\":0},\"opacity\":0.5},\"ternary\":{\"aaxis\":{\"gridcolor\":\"white\",\"linecolor\":\"white\",\"showgrid\":true,\"ticks\":\"\"},\"baxis\":{\"gridcolor\":\"white\",\"linecolor\":\"white\",\"showgrid\":true,\"ticks\":\"\"},\"bgcolor\":\"rgb(234,234,242)\",\"caxis\":{\"gridcolor\":\"white\",\"linecolor\":\"white\",\"showgrid\":true,\"ticks\":\"\"}},\"xaxis\":{\"automargin\":true,\"gridcolor\":\"white\",\"linecolor\":\"white\",\"showgrid\":true,\"ticks\":\"\",\"title\":{\"standoff\":15},\"zerolinecolor\":\"white\"},\"yaxis\":{\"automargin\":true,\"gridcolor\":\"white\",\"linecolor\":\"white\",\"showgrid\":true,\"ticks\":\"\",\"title\":{\"standoff\":15},\"zerolinecolor\":\"white\"}}},\"title\":{\"text\":\"Confronto partecipanti\"},\"xaxis\":{\"title\":{\"text\":\"N. di partecipanti\"}},\"yaxis\":{\"title\":{\"text\":\"Struttura proponente\"}}},                        {\"responsive\": true}                    ).then(function(){\n",
              "                            \n",
              "var gd = document.getElementById('1c4783c1-da61-448b-b4dd-26347c587e86');\n",
              "var x = new MutationObserver(function (mutations, observer) {{\n",
              "        var display = window.getComputedStyle(gd).display;\n",
              "        if (!display || display === 'none') {{\n",
              "            console.log([gd, 'removed!']);\n",
              "            Plotly.purge(gd);\n",
              "            observer.disconnect();\n",
              "        }}\n",
              "}});\n",
              "\n",
              "// Listen for the removal of the full notebook cells\n",
              "var notebookContainer = gd.closest('#notebook-container');\n",
              "if (notebookContainer) {{\n",
              "    x.observe(notebookContainer, {childList: true});\n",
              "}}\n",
              "\n",
              "// Listen for the clearing of the current output cell\n",
              "var outputEl = gd.closest('.output');\n",
              "if (outputEl) {{\n",
              "    x.observe(outputEl, {childList: true});\n",
              "}}\n",
              "\n",
              "                        })                };                            </script>        </div>\n",
              "</body>\n",
              "</html>"
            ]
          },
          "metadata": {
            "tags": []
          }
        }
      ]
    },
    {
      "cell_type": "markdown",
      "metadata": {
        "id": "Cxa02WHs4uyK"
      },
      "source": [
        "## Caricamento Dataset Elenco delle Domande\n",
        "Viene caricato il dataset relativo alla totalità delle domande presentate dai potenziali beneficiari attraverso la piattaforma SIL Sardegna nel periodo osservato."
      ]
    },
    {
      "cell_type": "code",
      "metadata": {
        "id": "XKoW7NBuxe1b"
      },
      "source": [
        "from pyspark.sql.types import StructField,IntegerType, StructType,StringType, DateType, TimestampType, FloatType, DoubleType, DecimalType\n",
        "strutturaD=[StructField('Codice avviso',StringType(),True),\n",
        "           StructField('Codice domanda',StringType(),True),\n",
        "           StructField('Tipo destinatario',StringType(),True),\n",
        "           StructField('Macrotipologia destinatario',StringType(),True),\n",
        "           StructField('Sesso',StringType(),True),\n",
        "           StructField('Forma giuridica',StringType(),True),\n",
        "           StructField('Macro Settore ATECO',StringType(),True),\n",
        "           StructField('Codice Settore ATECO',StringType(),True),\n",
        "           StructField('Settore ATECO',StringType(),True),\n",
        "           StructField('Comune residenza / Comune sede legale',StringType(),True),\n",
        "           StructField('Provincia residenza / Provincia sede legale',StringType(),True),\n",
        "           StructField('Comune domicilio / Comune sede operativa',StringType(),True),\n",
        "           StructField('Provincia domicilio / Provincia sede operativa',StringType(),True),\n",
        "           StructField('Data Invio',TimestampType(),True),\n",
        "           StructField('Importo richiesto',StringType(),True),\n",
        "           StructField('Data fine istruttoria',DateType(),True),\n",
        "           StructField('ID Istruttore',StringType(),True),\n",
        "           StructField('Stato istruttoria',StringType(),True),\n",
        "           StructField('Importo approvato',StringType(),True),\n",
        "           StructField('Ruolo richiedente',StringType(),True),\n",
        "           StructField('Data Determinazione Ammissibilità',TimestampType(),True),\n",
        "           StructField('Data Determinazione Concessione',TimestampType(),True),\n",
        "           StructField('Importo concesso',StringType(),True)\n",
        "       ]\n",
        "\n",
        "finalStructD=StructType(fields=strutturaD)\n",
        "df_domande = spark.read.csv(\"SIL Sardegna_Elenco Domande_0.4.csv\", sep=\";\", header=True,\n",
        "                     schema=finalStructD)"
      ],
      "execution_count": 31,
      "outputs": []
    },
    {
      "cell_type": "code",
      "metadata": {
        "colab": {
          "base_uri": "https://localhost:8080/"
        },
        "id": "jpzykmc72o4O",
        "outputId": "db1d55cf-55fb-4051-eef3-cc532370160e"
      },
      "source": [
        "df_domande.printSchema()"
      ],
      "execution_count": 32,
      "outputs": [
        {
          "output_type": "stream",
          "text": [
            "root\n",
            " |-- Codice avviso: string (nullable = true)\n",
            " |-- Codice domanda: string (nullable = true)\n",
            " |-- Tipo destinatario: string (nullable = true)\n",
            " |-- Macrotipologia destinatario: string (nullable = true)\n",
            " |-- Sesso: string (nullable = true)\n",
            " |-- Forma giuridica: string (nullable = true)\n",
            " |-- Macro Settore ATECO: string (nullable = true)\n",
            " |-- Codice Settore ATECO: string (nullable = true)\n",
            " |-- Settore ATECO: string (nullable = true)\n",
            " |-- Comune residenza / Comune sede legale: string (nullable = true)\n",
            " |-- Provincia residenza / Provincia sede legale: string (nullable = true)\n",
            " |-- Comune domicilio / Comune sede operativa: string (nullable = true)\n",
            " |-- Provincia domicilio / Provincia sede operativa: string (nullable = true)\n",
            " |-- Data Invio: timestamp (nullable = true)\n",
            " |-- Importo richiesto: string (nullable = true)\n",
            " |-- Data fine istruttoria: date (nullable = true)\n",
            " |-- ID Istruttore: string (nullable = true)\n",
            " |-- Stato istruttoria: string (nullable = true)\n",
            " |-- Importo approvato: string (nullable = true)\n",
            " |-- Ruolo richiedente: string (nullable = true)\n",
            " |-- Data Determinazione Ammissibilità: timestamp (nullable = true)\n",
            " |-- Data Determinazione Concessione: timestamp (nullable = true)\n",
            " |-- Importo concesso: string (nullable = true)\n",
            "\n"
          ],
          "name": "stdout"
        }
      ]
    },
    {
      "cell_type": "code",
      "metadata": {
        "colab": {
          "base_uri": "https://localhost:8080/"
        },
        "id": "799xSYYwHHIh",
        "outputId": "1659edac-9ac9-471c-a08e-47aad3a28ac3"
      },
      "source": [
        "print(\"Dataframe shape:\\nRows: \",df_domande.count(), \" Cols: \",len(df_domande.columns))"
      ],
      "execution_count": 33,
      "outputs": [
        {
          "output_type": "stream",
          "text": [
            "Dataframe shape:\n",
            "Rows:  59025  Cols:  23\n"
          ],
          "name": "stdout"
        }
      ]
    },
    {
      "cell_type": "markdown",
      "metadata": {
        "id": "CsiDpigGL40b"
      },
      "source": [
        "###Data preparation\n",
        "Il dataset \"Domande\" contiene le informazioni relative a ogni domanda presentata attraverso il sistema SIL Sardegna, informazioi sul soggetto partecipante  e ulteriori informazioni circa la gestione del procedimento da parte degli uffici competenti, quali:\n",
        "1. informazioni Anagrafica partecipante (Cittadino/Impresa, ubicazione, settore ATECO, ...)\n",
        "2. informazioni relative all'istruttoria (Data, operatore, risultato, importo finanziabile)\n",
        "2. informazioni relative alla concessione (Data e importo della concessione)\n",
        "\n",
        "Occorre verificare la formattazione degli importi e delle date."
      ]
    },
    {
      "cell_type": "markdown",
      "metadata": {
        "id": "rjJ2PFyed4Eo"
      },
      "source": [
        "####Formattazione importi"
      ]
    },
    {
      "cell_type": "code",
      "metadata": {
        "id": "d4igffJN12iy"
      },
      "source": [
        "df_domande = df_domande\\\n",
        "    .withColumn('Importo richiesto', regexp_replace('Importo richiesto', ',', '.'))\\\n",
        "    .withColumn('Importo approvato', regexp_replace('Importo approvato', ',', '.'))\\\n",
        "    .withColumn('Importo concesso', regexp_replace('Importo concesso', ',', '.'))\n",
        "\n",
        "df_domande = df_domande\\\n",
        "    .withColumn('Importo richiesto', df_domande['Importo richiesto'].cast(\"float\"))\\\n",
        "    .withColumn('Importo approvato', df_domande['Importo approvato'].cast(\"float\"))\\\n",
        "    .withColumn('Importo concesso', df_domande['Importo concesso'].cast(\"float\"))\\\n",
        "    .na.fill(value=0)"
      ],
      "execution_count": 34,
      "outputs": []
    },
    {
      "cell_type": "markdown",
      "metadata": {
        "id": "MvSqd66OMYFX"
      },
      "source": [
        "###Prima esplorazione dei dati"
      ]
    },
    {
      "cell_type": "code",
      "metadata": {
        "colab": {
          "base_uri": "https://localhost:8080/"
        },
        "id": "fogCbtvexe1b",
        "outputId": "5e27db7a-2a25-41a6-a958-a687c669d0b3"
      },
      "source": [
        "df_domande.show()"
      ],
      "execution_count": 35,
      "outputs": [
        {
          "output_type": "stream",
          "text": [
            "+--------------------+--------------+-----------------+---------------------------+---------------+--------------------+--------------------+--------------------+--------------------+-------------------------------------+-------------------------------------------+----------------------------------------+----------------------------------------------+-------------------+-----------------+---------------------+---------------+-----------------+-----------------+--------------------+---------------------------------+-------------------------------+----------------+\n",
            "|       Codice avviso|Codice domanda|Tipo destinatario|Macrotipologia destinatario|          Sesso|     Forma giuridica| Macro Settore ATECO|Codice Settore ATECO|       Settore ATECO|Comune residenza / Comune sede legale|Provincia residenza / Provincia sede legale|Comune domicilio / Comune sede operativa|Provincia domicilio / Provincia sede operativa|         Data Invio|Importo richiesto|Data fine istruttoria|  ID Istruttore|Stato istruttoria|Importo approvato|   Ruolo richiedente|Data Determinazione Ammissibilità|Data Determinazione Concessione|Importo concesso|\n",
            "+--------------------+--------------+-----------------+---------------------------+---------------+--------------------+--------------------+--------------------+--------------------+-------------------------------------+-------------------------------------------+----------------------------------------+----------------------------------------------+-------------------+-----------------+---------------------+---------------+-----------------+-----------------+--------------------+---------------------------------+-------------------------------+----------------+\n",
            "|(R)ESISTO - Linea...|  2021SRG21513|          Imprese|             Imprese / Enti|Non Disponibile|Società a respons...|ATTIVITÀ DEI SERV...|            55.30.00|Aree di campeggio...|                     SALO' di Brescia|                                    Brescia|                               ARZACHENA|                                       Sassari|2021-02-08 00:00:00|         135845.0|                 null|Non Disponibile|         In corso|              0.0|Legale Rappresent...|                             null|                           null|             0.0|\n",
            "|(R)ESISTO - Linea...|  2021SRG21390|          Imprese|             Imprese / Enti|Non Disponibile|Società a respons...|NOLEGGIO, AGENZIE...|            77.21.02|Noleggio senza eq...|                                OLBIA|                                    Sassari|                                   OLBIA|                                       Sassari|2021-02-08 00:00:00|          89303.0|                 null|           7642|         In corso|              0.0|Procuratore Speciale|                             null|                           null|             0.0|\n",
            "|(R)ESISTO - Linea...|  2021SRG21404|          Imprese|             Imprese / Enti|Non Disponibile|  Società per azioni|ATTIVITÀ DEI SERV...|            55.10.00|            Alberghi|                 SAN FELICE DEL BE...|                                    Brescia|                               CASTIADAS|                                  SUD SARDEGNA|2021-02-08 00:00:00|         73189.04|                 null|Non Disponibile|         In corso|              0.0|Legale Rappresent...|                             null|                           null|             0.0|\n",
            "|(R)ESISTO - Linea...|  2021SRG21416|          Imprese|             Imprese / Enti|Non Disponibile|Società a respons...|ATTIVITÀ DEI SERV...|            55.10.00|            Alberghi|                               MILANO|                                     Milano|                             VILLASIMIUS|                                  SUD SARDEGNA|2021-02-09 00:00:00|        619553.25|                 null|Non Disponibile|         In corso|              0.0|Procuratore Speciale|                             null|                           null|             0.0|\n",
            "|(R)ESISTO - Linea...|  2021SRG21397|          Imprese|             Imprese / Enti|Non Disponibile|Società a respons...|ATTIVITÀ DEI SERV...|            55.10.00|            Alberghi|                             CARBONIA|                               SUD SARDEGNA|                                CARBONIA|                                  SUD SARDEGNA|2021-02-08 00:00:00|        235108.77|                 null|Non Disponibile|         In corso|              0.0|Legale Rappresent...|                             null|                           null|             0.0|\n",
            "|(R)ESISTO - Linea...|  2021SRG21400|          Imprese|             Imprese / Enti|Non Disponibile|Società a respons...|ATTIVITÀ DEI SERV...|            55.10.00|            Alberghi|                               OROSEI|                                      Nuoro|                                  OROSEI|                                         Nuoro|2021-02-08 00:00:00|         92079.49|                 null|Non Disponibile|         In corso|              0.0|Legale Rappresent...|                             null|                           null|             0.0|\n",
            "|(R)ESISTO - Linea...|  2021SRG21401|          Imprese|             Imprese / Enti|Non Disponibile|Società a respons...|ATTIVITÀ DEI SERV...|            55.10.00|            Alberghi|                               OROSEI|                                      Nuoro|                                  BUDONI|                                       Sassari|2021-02-08 00:00:00|         10863.83|                 null|Non Disponibile|         In corso|              0.0|Legale Rappresent...|                             null|                           null|             0.0|\n",
            "|(R)ESISTO - Linea...|  2021SRG21386|          Imprese|             Imprese / Enti|Non Disponibile|Società a respons...|ATTIVITÀ DEI SERV...|            55.10.00|            Alberghi|                     PULA di Cagliari|                                   Cagliari|                        PULA di Cagliari|                                      Cagliari|2021-02-08 00:00:00|        809935.06|                 null|Non Disponibile|         In corso|              0.0|Legale Rappresent...|                             null|                           null|             0.0|\n",
            "|(R)ESISTO - Linea...|  2021SRG21399|          Imprese|             Imprese / Enti|Non Disponibile|  Società per azioni|ATTIVITÀ DEI SERV...|            55.10.00|            Alberghi|                               OROSEI|                                      Nuoro|                                  OROSEI|                                         Nuoro|2021-02-08 00:00:00|        126202.73|                 null|Non Disponibile|         In corso|              0.0|Legale Rappresent...|                             null|                           null|             0.0|\n",
            "|(R)ESISTO - Linea...|  2021SRG21385|          Imprese|             Imprese / Enti|Non Disponibile|Società a respons...|ATTIVITÀ DEI SERV...|            55.10.00|            Alberghi|                                PALAU|                                    Sassari|                    Palau di Olbia Te...|                                       Sassari|2021-02-08 00:00:00|         990000.0|                 null|Non Disponibile|         In corso|              0.0|Legale Rappresent...|                             null|                           null|             0.0|\n",
            "|(R)ESISTO - Linea...|  2021SRG21894|          Imprese|             Imprese / Enti|Non Disponibile|Società a respons...|NOLEGGIO, AGENZIE...|            79.90.19|Altri servizi di ...|                               BUDONI|                                    Sassari|                                  BUDONI|                                       Sassari|2021-02-08 00:00:00|         12413.97|                 null|Non Disponibile|         In corso|              0.0|Legale Rappresent...|                             null|                           null|             0.0|\n",
            "|(R)ESISTO - Linea...|  2021SRG21491|          Imprese|             Imprese / Enti|Non Disponibile|Società a respons...|ATTIVITÀ DEI SERV...|            55.10.00|            Alberghi|                               OROSEI|                                      Nuoro|                                  OROSEI|                                         Nuoro|2021-02-08 00:00:00|         78698.15|                 null|Non Disponibile|         In corso|              0.0|Legale Rappresent...|                             null|                           null|             0.0|\n",
            "|(R)ESISTO - Linea...|  2021SRG21877|          Imprese|             Imprese / Enti|Non Disponibile|Società a respons...|ATTIVITÀ DEI SERV...|            55.10.00|            Alberghi|                        VARNA * VAHRN|                              Bolzano-Bozen|                             VILLASIMIUS|                                  SUD SARDEGNA|2021-02-08 00:00:00|        121732.91|                 null|Non Disponibile|         In corso|              0.0|Legale Rappresent...|                             null|                           null|             0.0|\n",
            "|(R)ESISTO - Linea...|  2021SRG21690|          Imprese|             Imprese / Enti|Non Disponibile|Società a respons...|ATTIVITÀ DEI SERV...|            55.10.00|            Alberghi|                               MILANO|                                     Milano|                                  BUDONI|                                       Sassari|2021-02-08 00:00:00|        211735.39|                 null|Non Disponibile|         In corso|              0.0|Legale Rappresent...|                             null|                           null|             0.0|\n",
            "|(R)ESISTO - Linea...|  2021SRG21449|          Imprese|             Imprese / Enti|Non Disponibile|Società a respons...|ATTIVITÀ DEI SERV...|            55.10.00|            Alberghi|                               OROSEI|                                      Nuoro|                                  BUDONI|                                       Sassari|2021-02-08 00:00:00|          80517.2|                 null|Non Disponibile|         In corso|              0.0|Legale Rappresent...|                             null|                           null|             0.0|\n",
            "|(R)ESISTO - Linea...|  2021SRL23278|          Imprese|             Imprese / Enti|Non Disponibile|   Ditta individuale|ATTIVITÀ PROFESSI...|            70.22.09|Altre attività di...|                             CAGLIARI|                                   Cagliari|                                CAGLIARI|                                      Cagliari|2021-02-11 00:00:00|           8400.0|           2021-05-24|           8479|         Positiva|           8400.0|Legale Rappresent...|              2021-06-09 00:00:00|                           null|             0.0|\n",
            "|(R)ESISTO - Linea...|  2021SRL23342|          Imprese|             Imprese / Enti|Non Disponibile|   Ditta individuale|ATTIVITÀ PROFESSI...|            74.20.11|Attività di fotor...|                          CASTELSARDO|                                    Sassari|                             CASTELSARDO|                                       Sassari|2021-02-11 00:00:00|            739.8|           2021-06-01|           8477|         Positiva|            739.8|Legale Rappresent...|              2021-06-09 00:00:00|                           null|             0.0|\n",
            "|(R)ESISTO - Linea...|  2021SRL23350|          Imprese|             Imprese / Enti|Non Disponibile|   Ditta individuale|AGRICOLTURA, SILV...|            01.21.00| Coltivazione di uva|                               LOCERI|                                      Nuoro|                                  LOCERI|                                         Nuoro|2021-02-11 00:00:00|           8400.0|           2021-05-06|           8478|         Positiva|           8400.0|Legale Rappresent...|              2021-05-20 00:00:00|                           null|             0.0|\n",
            "|(R)ESISTO - Linea...|  2021SRL23361|          Imprese|             Imprese / Enti|Non Disponibile|   Ditta individuale|ATTIVITÀ DEI SERV...|            56.10.20|Ristorazione senz...|                         PORTO TORRES|                                    Sassari|                            PORTO TORRES|                                       Sassari|2021-02-11 00:00:00|           3912.0|           2021-04-27|           7348|         Positiva|           3912.0|Legale Rappresent...|              2021-05-20 00:00:00|                           null|             0.0|\n",
            "|(R)ESISTO - Linea...|  2021SRL23376|          Imprese|             Imprese / Enti|Non Disponibile|   Ditta individuale|COMMERCIO ALL'ING...|            47.71.10|Commercio al dett...|                 TEMPIO PAU di Ori...|                                    Sassari|                    TEMPIO PAU di Ori...|                                       Sassari|2021-02-11 00:00:00|           2300.0|           2021-05-28|           7348|         Positiva|           2300.0|Legale Rappresent...|              2021-06-09 00:00:00|                           null|             0.0|\n",
            "+--------------------+--------------+-----------------+---------------------------+---------------+--------------------+--------------------+--------------------+--------------------+-------------------------------------+-------------------------------------------+----------------------------------------+----------------------------------------------+-------------------+-----------------+---------------------+---------------+-----------------+-----------------+--------------------+---------------------------------+-------------------------------+----------------+\n",
            "only showing top 20 rows\n",
            "\n"
          ],
          "name": "stdout"
        }
      ]
    },
    {
      "cell_type": "markdown",
      "metadata": {
        "id": "bRHq8oEZeYeI"
      },
      "source": [
        "##Join dei Datasets\n",
        "I due Dataset sono \"uniti\" sulla base del \"Codice Avviso\" in modo da poter gestire l'analisi agevolmente."
      ]
    },
    {
      "cell_type": "code",
      "metadata": {
        "id": "U0sKj0pExe1b"
      },
      "source": [
        "#Spark join sulla base della feature \"Codice Avviso\"\n",
        "df_domande_j = df_domande.join(df_avvisi, ['Codice Avviso'], how=\"left\")\n"
      ],
      "execution_count": 36,
      "outputs": []
    },
    {
      "cell_type": "code",
      "metadata": {
        "colab": {
          "base_uri": "https://localhost:8080/"
        },
        "id": "LVvH821RehAt",
        "outputId": "fa9f1e9d-54f4-45e5-a631-7eada6e1926d"
      },
      "source": [
        "print(\"Dataframe shape:\\nRows: \",df_domande_j.count(), \" Cols: \",len(df_domande_j.columns))"
      ],
      "execution_count": 37,
      "outputs": [
        {
          "output_type": "stream",
          "text": [
            "Dataframe shape:\n",
            "Rows:  59025  Cols:  43\n"
          ],
          "name": "stdout"
        }
      ]
    },
    {
      "cell_type": "code",
      "metadata": {
        "colab": {
          "base_uri": "https://localhost:8080/"
        },
        "id": "2AQVlucFgk5Q",
        "outputId": "08b453cd-0dab-4ea5-8e78-6c7ef9b85b40"
      },
      "source": [
        "df_domande_j.show()"
      ],
      "execution_count": 38,
      "outputs": [
        {
          "output_type": "stream",
          "text": [
            "+--------------------+--------------+-----------------+---------------------------+---------------+--------------------+--------------------+--------------------+--------------------+-------------------------------------+-------------------------------------------+----------------------------------------+----------------------------------------------+-------------------+-----------------+---------------------+---------------+-----------------+-----------------+--------------------+---------------------------------+-------------------------------+----------------+--------------------+----------------+-----------------------+--------------------+-----------------------------+----------------------------------------+-------------------------------------------------+-------------+-------------+----------+---------------------+---------------+---------------------+---------------------+----------------+-------------------+--------------+---------------+-------------------------+----------------+\n",
            "|       Codice avviso|Codice domanda|Tipo destinatario|Macrotipologia destinatario|          Sesso|     Forma giuridica| Macro Settore ATECO|Codice Settore ATECO|       Settore ATECO|Comune residenza / Comune sede legale|Provincia residenza / Provincia sede legale|Comune domicilio / Comune sede operativa|Provincia domicilio / Provincia sede operativa|         Data Invio|Importo richiesto|Data fine istruttoria|  ID Istruttore|Stato istruttoria|Importo approvato|   Ruolo richiedente|Data Determinazione Ammissibilità|Data Determinazione Concessione|Importo concesso|  Descrizione estesa|Tipologia Avviso|Assessorato / Struttura|            Servizio|Tipo destinatario (Economico)|Macro Categoria destinatario (Economico)|Destinatario finale (Fruitore servizi finanziati)|Data Apertura|Data Chiusura|N. domande|Dotazione finanziaria|Dotazione (FSE)|Dotazione (Nazionale)|Dotazione (Regionale)|Budget prenotato|Domande ammissibili|Budget ammesso|Budget concesso|Istruttoria extra-sistema|Intervento COVID|\n",
            "+--------------------+--------------+-----------------+---------------------------+---------------+--------------------+--------------------+--------------------+--------------------+-------------------------------------+-------------------------------------------+----------------------------------------+----------------------------------------------+-------------------+-----------------+---------------------+---------------+-----------------+-----------------+--------------------+---------------------------------+-------------------------------+----------------+--------------------+----------------+-----------------------+--------------------+-----------------------------+----------------------------------------+-------------------------------------------------+-------------+-------------+----------+---------------------+---------------+---------------------+---------------------+----------------+-------------------+--------------+---------------+-------------------------+----------------+\n",
            "|(R)ESISTO - Linea...|  2021SRG21513|          Imprese|             Imprese / Enti|Non Disponibile|Società a respons...|ATTIVITÀ DEI SERV...|            55.30.00|Aree di campeggio...|                     SALO' di Brescia|                                    Brescia|                               ARZACHENA|                                       Sassari|2021-02-08 00:00:00|         135845.0|                 null|Non Disponibile|         In corso|              0.0|Legale Rappresent...|                             null|                           null|             0.0|(R)ESISTO AVVISO ...|             DAT|      Ass. to al Lavoro|SERVIZIO ATTUAZIO...|                Macro Imprese|                                 Imprese|                                          Imprese|   2021-02-08|   2021-02-22|        15|              4000000|        4000000|                 null|                 null|         3687178|               null|          null|           null|                       NO|               1|\n",
            "|(R)ESISTO - Linea...|  2021SRG21390|          Imprese|             Imprese / Enti|Non Disponibile|Società a respons...|NOLEGGIO, AGENZIE...|            77.21.02|Noleggio senza eq...|                                OLBIA|                                    Sassari|                                   OLBIA|                                       Sassari|2021-02-08 00:00:00|          89303.0|                 null|           7642|         In corso|              0.0|Procuratore Speciale|                             null|                           null|             0.0|(R)ESISTO AVVISO ...|             DAT|      Ass. to al Lavoro|SERVIZIO ATTUAZIO...|                Macro Imprese|                                 Imprese|                                          Imprese|   2021-02-08|   2021-02-22|        15|              4000000|        4000000|                 null|                 null|         3687178|               null|          null|           null|                       NO|               1|\n",
            "|(R)ESISTO - Linea...|  2021SRG21404|          Imprese|             Imprese / Enti|Non Disponibile|  Società per azioni|ATTIVITÀ DEI SERV...|            55.10.00|            Alberghi|                 SAN FELICE DEL BE...|                                    Brescia|                               CASTIADAS|                                  SUD SARDEGNA|2021-02-08 00:00:00|         73189.04|                 null|Non Disponibile|         In corso|              0.0|Legale Rappresent...|                             null|                           null|             0.0|(R)ESISTO AVVISO ...|             DAT|      Ass. to al Lavoro|SERVIZIO ATTUAZIO...|                Macro Imprese|                                 Imprese|                                          Imprese|   2021-02-08|   2021-02-22|        15|              4000000|        4000000|                 null|                 null|         3687178|               null|          null|           null|                       NO|               1|\n",
            "|(R)ESISTO - Linea...|  2021SRG21416|          Imprese|             Imprese / Enti|Non Disponibile|Società a respons...|ATTIVITÀ DEI SERV...|            55.10.00|            Alberghi|                               MILANO|                                     Milano|                             VILLASIMIUS|                                  SUD SARDEGNA|2021-02-09 00:00:00|        619553.25|                 null|Non Disponibile|         In corso|              0.0|Procuratore Speciale|                             null|                           null|             0.0|(R)ESISTO AVVISO ...|             DAT|      Ass. to al Lavoro|SERVIZIO ATTUAZIO...|                Macro Imprese|                                 Imprese|                                          Imprese|   2021-02-08|   2021-02-22|        15|              4000000|        4000000|                 null|                 null|         3687178|               null|          null|           null|                       NO|               1|\n",
            "|(R)ESISTO - Linea...|  2021SRG21397|          Imprese|             Imprese / Enti|Non Disponibile|Società a respons...|ATTIVITÀ DEI SERV...|            55.10.00|            Alberghi|                             CARBONIA|                               SUD SARDEGNA|                                CARBONIA|                                  SUD SARDEGNA|2021-02-08 00:00:00|        235108.77|                 null|Non Disponibile|         In corso|              0.0|Legale Rappresent...|                             null|                           null|             0.0|(R)ESISTO AVVISO ...|             DAT|      Ass. to al Lavoro|SERVIZIO ATTUAZIO...|                Macro Imprese|                                 Imprese|                                          Imprese|   2021-02-08|   2021-02-22|        15|              4000000|        4000000|                 null|                 null|         3687178|               null|          null|           null|                       NO|               1|\n",
            "|(R)ESISTO - Linea...|  2021SRG21400|          Imprese|             Imprese / Enti|Non Disponibile|Società a respons...|ATTIVITÀ DEI SERV...|            55.10.00|            Alberghi|                               OROSEI|                                      Nuoro|                                  OROSEI|                                         Nuoro|2021-02-08 00:00:00|         92079.49|                 null|Non Disponibile|         In corso|              0.0|Legale Rappresent...|                             null|                           null|             0.0|(R)ESISTO AVVISO ...|             DAT|      Ass. to al Lavoro|SERVIZIO ATTUAZIO...|                Macro Imprese|                                 Imprese|                                          Imprese|   2021-02-08|   2021-02-22|        15|              4000000|        4000000|                 null|                 null|         3687178|               null|          null|           null|                       NO|               1|\n",
            "|(R)ESISTO - Linea...|  2021SRG21401|          Imprese|             Imprese / Enti|Non Disponibile|Società a respons...|ATTIVITÀ DEI SERV...|            55.10.00|            Alberghi|                               OROSEI|                                      Nuoro|                                  BUDONI|                                       Sassari|2021-02-08 00:00:00|         10863.83|                 null|Non Disponibile|         In corso|              0.0|Legale Rappresent...|                             null|                           null|             0.0|(R)ESISTO AVVISO ...|             DAT|      Ass. to al Lavoro|SERVIZIO ATTUAZIO...|                Macro Imprese|                                 Imprese|                                          Imprese|   2021-02-08|   2021-02-22|        15|              4000000|        4000000|                 null|                 null|         3687178|               null|          null|           null|                       NO|               1|\n",
            "|(R)ESISTO - Linea...|  2021SRG21386|          Imprese|             Imprese / Enti|Non Disponibile|Società a respons...|ATTIVITÀ DEI SERV...|            55.10.00|            Alberghi|                     PULA di Cagliari|                                   Cagliari|                        PULA di Cagliari|                                      Cagliari|2021-02-08 00:00:00|        809935.06|                 null|Non Disponibile|         In corso|              0.0|Legale Rappresent...|                             null|                           null|             0.0|(R)ESISTO AVVISO ...|             DAT|      Ass. to al Lavoro|SERVIZIO ATTUAZIO...|                Macro Imprese|                                 Imprese|                                          Imprese|   2021-02-08|   2021-02-22|        15|              4000000|        4000000|                 null|                 null|         3687178|               null|          null|           null|                       NO|               1|\n",
            "|(R)ESISTO - Linea...|  2021SRG21399|          Imprese|             Imprese / Enti|Non Disponibile|  Società per azioni|ATTIVITÀ DEI SERV...|            55.10.00|            Alberghi|                               OROSEI|                                      Nuoro|                                  OROSEI|                                         Nuoro|2021-02-08 00:00:00|        126202.73|                 null|Non Disponibile|         In corso|              0.0|Legale Rappresent...|                             null|                           null|             0.0|(R)ESISTO AVVISO ...|             DAT|      Ass. to al Lavoro|SERVIZIO ATTUAZIO...|                Macro Imprese|                                 Imprese|                                          Imprese|   2021-02-08|   2021-02-22|        15|              4000000|        4000000|                 null|                 null|         3687178|               null|          null|           null|                       NO|               1|\n",
            "|(R)ESISTO - Linea...|  2021SRG21385|          Imprese|             Imprese / Enti|Non Disponibile|Società a respons...|ATTIVITÀ DEI SERV...|            55.10.00|            Alberghi|                                PALAU|                                    Sassari|                    Palau di Olbia Te...|                                       Sassari|2021-02-08 00:00:00|         990000.0|                 null|Non Disponibile|         In corso|              0.0|Legale Rappresent...|                             null|                           null|             0.0|(R)ESISTO AVVISO ...|             DAT|      Ass. to al Lavoro|SERVIZIO ATTUAZIO...|                Macro Imprese|                                 Imprese|                                          Imprese|   2021-02-08|   2021-02-22|        15|              4000000|        4000000|                 null|                 null|         3687178|               null|          null|           null|                       NO|               1|\n",
            "|(R)ESISTO - Linea...|  2021SRG21894|          Imprese|             Imprese / Enti|Non Disponibile|Società a respons...|NOLEGGIO, AGENZIE...|            79.90.19|Altri servizi di ...|                               BUDONI|                                    Sassari|                                  BUDONI|                                       Sassari|2021-02-08 00:00:00|         12413.97|                 null|Non Disponibile|         In corso|              0.0|Legale Rappresent...|                             null|                           null|             0.0|(R)ESISTO AVVISO ...|             DAT|      Ass. to al Lavoro|SERVIZIO ATTUAZIO...|                Macro Imprese|                                 Imprese|                                          Imprese|   2021-02-08|   2021-02-22|        15|              4000000|        4000000|                 null|                 null|         3687178|               null|          null|           null|                       NO|               1|\n",
            "|(R)ESISTO - Linea...|  2021SRG21491|          Imprese|             Imprese / Enti|Non Disponibile|Società a respons...|ATTIVITÀ DEI SERV...|            55.10.00|            Alberghi|                               OROSEI|                                      Nuoro|                                  OROSEI|                                         Nuoro|2021-02-08 00:00:00|         78698.15|                 null|Non Disponibile|         In corso|              0.0|Legale Rappresent...|                             null|                           null|             0.0|(R)ESISTO AVVISO ...|             DAT|      Ass. to al Lavoro|SERVIZIO ATTUAZIO...|                Macro Imprese|                                 Imprese|                                          Imprese|   2021-02-08|   2021-02-22|        15|              4000000|        4000000|                 null|                 null|         3687178|               null|          null|           null|                       NO|               1|\n",
            "|(R)ESISTO - Linea...|  2021SRG21877|          Imprese|             Imprese / Enti|Non Disponibile|Società a respons...|ATTIVITÀ DEI SERV...|            55.10.00|            Alberghi|                        VARNA * VAHRN|                              Bolzano-Bozen|                             VILLASIMIUS|                                  SUD SARDEGNA|2021-02-08 00:00:00|        121732.91|                 null|Non Disponibile|         In corso|              0.0|Legale Rappresent...|                             null|                           null|             0.0|(R)ESISTO AVVISO ...|             DAT|      Ass. to al Lavoro|SERVIZIO ATTUAZIO...|                Macro Imprese|                                 Imprese|                                          Imprese|   2021-02-08|   2021-02-22|        15|              4000000|        4000000|                 null|                 null|         3687178|               null|          null|           null|                       NO|               1|\n",
            "|(R)ESISTO - Linea...|  2021SRG21690|          Imprese|             Imprese / Enti|Non Disponibile|Società a respons...|ATTIVITÀ DEI SERV...|            55.10.00|            Alberghi|                               MILANO|                                     Milano|                                  BUDONI|                                       Sassari|2021-02-08 00:00:00|        211735.39|                 null|Non Disponibile|         In corso|              0.0|Legale Rappresent...|                             null|                           null|             0.0|(R)ESISTO AVVISO ...|             DAT|      Ass. to al Lavoro|SERVIZIO ATTUAZIO...|                Macro Imprese|                                 Imprese|                                          Imprese|   2021-02-08|   2021-02-22|        15|              4000000|        4000000|                 null|                 null|         3687178|               null|          null|           null|                       NO|               1|\n",
            "|(R)ESISTO - Linea...|  2021SRG21449|          Imprese|             Imprese / Enti|Non Disponibile|Società a respons...|ATTIVITÀ DEI SERV...|            55.10.00|            Alberghi|                               OROSEI|                                      Nuoro|                                  BUDONI|                                       Sassari|2021-02-08 00:00:00|          80517.2|                 null|Non Disponibile|         In corso|              0.0|Legale Rappresent...|                             null|                           null|             0.0|(R)ESISTO AVVISO ...|             DAT|      Ass. to al Lavoro|SERVIZIO ATTUAZIO...|                Macro Imprese|                                 Imprese|                                          Imprese|   2021-02-08|   2021-02-22|        15|              4000000|        4000000|                 null|                 null|         3687178|               null|          null|           null|                       NO|               1|\n",
            "|(R)ESISTO - Linea...|  2021SRL23278|          Imprese|             Imprese / Enti|Non Disponibile|   Ditta individuale|ATTIVITÀ PROFESSI...|            70.22.09|Altre attività di...|                             CAGLIARI|                                   Cagliari|                                CAGLIARI|                                      Cagliari|2021-02-11 00:00:00|           8400.0|           2021-05-24|           8479|         Positiva|           8400.0|Legale Rappresent...|              2021-06-09 00:00:00|                           null|             0.0|(R)ESISTO AVVISO ...|             DAT|      Ass. to al Lavoro|SERVIZIO ATTUAZIO...|                   Lavoratori|                              Lavoratori|                                       Lavoratori|   2021-02-11|   2021-02-25|      7425|             22525000|       22525000|                 null|                 null|        32789576|                858|       3430179|           null|                       NO|               1|\n",
            "|(R)ESISTO - Linea...|  2021SRL23342|          Imprese|             Imprese / Enti|Non Disponibile|   Ditta individuale|ATTIVITÀ PROFESSI...|            74.20.11|Attività di fotor...|                          CASTELSARDO|                                    Sassari|                             CASTELSARDO|                                       Sassari|2021-02-11 00:00:00|            739.8|           2021-06-01|           8477|         Positiva|            739.8|Legale Rappresent...|              2021-06-09 00:00:00|                           null|             0.0|(R)ESISTO AVVISO ...|             DAT|      Ass. to al Lavoro|SERVIZIO ATTUAZIO...|                   Lavoratori|                              Lavoratori|                                       Lavoratori|   2021-02-11|   2021-02-25|      7425|             22525000|       22525000|                 null|                 null|        32789576|                858|       3430179|           null|                       NO|               1|\n",
            "|(R)ESISTO - Linea...|  2021SRL23350|          Imprese|             Imprese / Enti|Non Disponibile|   Ditta individuale|AGRICOLTURA, SILV...|            01.21.00| Coltivazione di uva|                               LOCERI|                                      Nuoro|                                  LOCERI|                                         Nuoro|2021-02-11 00:00:00|           8400.0|           2021-05-06|           8478|         Positiva|           8400.0|Legale Rappresent...|              2021-05-20 00:00:00|                           null|             0.0|(R)ESISTO AVVISO ...|             DAT|      Ass. to al Lavoro|SERVIZIO ATTUAZIO...|                   Lavoratori|                              Lavoratori|                                       Lavoratori|   2021-02-11|   2021-02-25|      7425|             22525000|       22525000|                 null|                 null|        32789576|                858|       3430179|           null|                       NO|               1|\n",
            "|(R)ESISTO - Linea...|  2021SRL23361|          Imprese|             Imprese / Enti|Non Disponibile|   Ditta individuale|ATTIVITÀ DEI SERV...|            56.10.20|Ristorazione senz...|                         PORTO TORRES|                                    Sassari|                            PORTO TORRES|                                       Sassari|2021-02-11 00:00:00|           3912.0|           2021-04-27|           7348|         Positiva|           3912.0|Legale Rappresent...|              2021-05-20 00:00:00|                           null|             0.0|(R)ESISTO AVVISO ...|             DAT|      Ass. to al Lavoro|SERVIZIO ATTUAZIO...|                   Lavoratori|                              Lavoratori|                                       Lavoratori|   2021-02-11|   2021-02-25|      7425|             22525000|       22525000|                 null|                 null|        32789576|                858|       3430179|           null|                       NO|               1|\n",
            "|(R)ESISTO - Linea...|  2021SRL23376|          Imprese|             Imprese / Enti|Non Disponibile|   Ditta individuale|COMMERCIO ALL'ING...|            47.71.10|Commercio al dett...|                 TEMPIO PAU di Ori...|                                    Sassari|                    TEMPIO PAU di Ori...|                                       Sassari|2021-02-11 00:00:00|           2300.0|           2021-05-28|           7348|         Positiva|           2300.0|Legale Rappresent...|              2021-06-09 00:00:00|                           null|             0.0|(R)ESISTO AVVISO ...|             DAT|      Ass. to al Lavoro|SERVIZIO ATTUAZIO...|                   Lavoratori|                              Lavoratori|                                       Lavoratori|   2021-02-11|   2021-02-25|      7425|             22525000|       22525000|                 null|                 null|        32789576|                858|       3430179|           null|                       NO|               1|\n",
            "+--------------------+--------------+-----------------+---------------------------+---------------+--------------------+--------------------+--------------------+--------------------+-------------------------------------+-------------------------------------------+----------------------------------------+----------------------------------------------+-------------------+-----------------+---------------------+---------------+-----------------+-----------------+--------------------+---------------------------------+-------------------------------+----------------+--------------------+----------------+-----------------------+--------------------+-----------------------------+----------------------------------------+-------------------------------------------------+-------------+-------------+----------+---------------------+---------------+---------------------+---------------------+----------------+-------------------+--------------+---------------+-------------------------+----------------+\n",
            "only showing top 20 rows\n",
            "\n"
          ],
          "name": "stdout"
        }
      ]
    },
    {
      "cell_type": "markdown",
      "metadata": {
        "id": "M7u58hVOfWro"
      },
      "source": [
        "### Selezione degli interventi COVID"
      ]
    },
    {
      "cell_type": "code",
      "metadata": {
        "id": "6Hjn8-FEiGuX",
        "colab": {
          "base_uri": "https://localhost:8080/"
        },
        "outputId": "313bea29-57c8-4c4a-85ed-13f79d0915d3"
      },
      "source": [
        "df_domande_j =  df_domande_j.filter(df_domande_j['Intervento COVID'] == 1)\n",
        "df_domande_j.count()"
      ],
      "execution_count": 39,
      "outputs": [
        {
          "output_type": "execute_result",
          "data": {
            "text/plain": [
              "55666"
            ]
          },
          "metadata": {
            "tags": []
          },
          "execution_count": 39
        }
      ]
    },
    {
      "cell_type": "markdown",
      "metadata": {
        "id": "xP2MNxq2ezd7"
      },
      "source": [
        "## Analisi della presentazione delle domande (Partecipazione)\n",
        "Sono analizzate le domande sulla base del perioro di presentazione e sulla ripartizione dei partecipanti, in base al numero e alle somme destinate alle diverse tipologie di target."
      ]
    },
    {
      "cell_type": "markdown",
      "metadata": {
        "id": "eR3Djo1U7WXD"
      },
      "source": [
        "###Panoramica interventi COVID\n",
        "Sono esplorati e visualizzati gli \"interventi COVID\" distinti per tipologia, budget assegnato e budget prenotato:\n",
        "1. Ammortizzatori sociali\n",
        "2. Domanda di Aiuto Telematica (DAT)\n",
        "3. Domanda di Candidatura Telematica (DCT)\n",
        "4. Domanda di finanziamento\n",
        "5. Domanda di Incentivo Telematica (DIT)"
      ]
    },
    {
      "cell_type": "code",
      "metadata": {
        "id": "aA46SGFYYa6h"
      },
      "source": [
        "# Solo avvisi classificati \"Intervento COVID\"\n",
        "Avvisi_covid = df_avvisi.filter(df_avvisi['Intervento COVID'] == 1).na.fill(value=0).withColumnRenamed(\"N. Domande\",\"Domande\")\n",
        "Avvisi_covid_pd = Avvisi_covid.toPandas()"
      ],
      "execution_count": 40,
      "outputs": []
    },
    {
      "cell_type": "code",
      "metadata": {
        "id": "FngD5PmNyvUv"
      },
      "source": [
        "Avvisi_tipologia = Avvisi_covid.filter(col(\"Intervento COVID\")==1).groupBy(\"Tipologia Avviso\").agg({'Dotazione Finanziaria':'sum', 'Budget prenotato':'sum'})\n",
        "Avvisi_tipologia_pd = Avvisi_tipologia.toPandas()"
      ],
      "execution_count": 41,
      "outputs": []
    },
    {
      "cell_type": "code",
      "metadata": {
        "colab": {
          "base_uri": "https://localhost:8080/",
          "height": 542
        },
        "id": "tBatYEzyhh2P",
        "outputId": "b13a0839-e6a0-42a1-9134-b23cc2d90f03"
      },
      "source": [
        "tipologie = Avvisi_tipologia_pd[\"Tipologia Avviso\"].unique()\n",
        "# Create traces\n",
        "fig = make_subplots(\n",
        "    rows=2, cols=1,\n",
        "    vertical_spacing=0.05,\n",
        "    #row_heights=[100,200],\n",
        "    specs=[[{\"type\": \"table\"}],\n",
        "           [{'type':'bar'}]\n",
        "           ]\n",
        ")\n",
        "fig.add_trace(go.Table(\n",
        "    header=dict(\n",
        "        values=[\"Codice Avviso\", \"Descrizione estesa\", \"Tipologia\",\"Data di Apertura\",\n",
        "                    \"Data di chiusura\", \"Dotazione<br>Finanziaria\"],\n",
        "            font=dict(size=10),\n",
        "            align=\"left\"),\n",
        "    cells=dict(\n",
        "        values=[Avvisi_covid_pd[k].tolist() for k in Avvisi_covid_pd.iloc[:,[0,1,2,8,9,11]].columns],\n",
        "        align = \"left\"\n",
        "    ),\n",
        "    columnwidth= [14,30,8,7,7,7]\n",
        "  ),1,1)\n",
        "\n",
        "fig.add_trace(go.Bar(\n",
        "    x= tipologie,\n",
        "    y= Avvisi_tipologia_pd[\"sum(Dotazione Finanziaria)\"],\n",
        "    name= \"Dotazione iniziale\",\n",
        "    hovertext = \"Dotazione\",\n",
        "    marker_color='darkgrey',\n",
        "    hovertemplate = '<br><b><i>%{x}</i></b>'+\n",
        "    '<br><i>Dotazione Finanziaria</i>:<br><b>%{y:.2f}</b>'+\n",
        "    '<extra></extra>')\n",
        ",2,1)\n",
        "fig.add_trace(go.Bar(\n",
        "    x= tipologie,\n",
        "    y= Avvisi_tipologia_pd[\"sum(Budget prenotato)\"],\n",
        "    name=\"Budget prenotato\",\n",
        "    hovertext = \"Budget prenotato\",\n",
        "    marker_color='indianred',\n",
        "    hovertemplate = '<br><b><i>%{x}</i></b>'+\n",
        "    '<br><i>Budget Prenotato</i>:<br><b>%{y:.2f}</b>'+\n",
        "    '<extra></extra>')\n",
        ",2,1)\n",
        "\n",
        "fig.update_yaxes(type=\"log\")\n",
        "#fig.update_xaxes(tickangle = 90)\n",
        "fig.update_layout(\n",
        "    title_text=\"Panoramica interventi COVID per tipologia\")\n",
        "\n",
        "fig.update_layout(barmode='group')\n",
        "\n",
        "fig.show()"
      ],
      "execution_count": 42,
      "outputs": [
        {
          "output_type": "display_data",
          "data": {
            "text/html": [
              "<html>\n",
              "<head><meta charset=\"utf-8\" /></head>\n",
              "<body>\n",
              "    <div>            <script src=\"https://cdnjs.cloudflare.com/ajax/libs/mathjax/2.7.5/MathJax.js?config=TeX-AMS-MML_SVG\"></script><script type=\"text/javascript\">if (window.MathJax) {MathJax.Hub.Config({SVG: {font: \"STIX-Web\"}});}</script>                <script type=\"text/javascript\">window.PlotlyConfig = {MathJaxConfig: 'local'};</script>\n",
              "        <script src=\"https://cdn.plot.ly/plotly-2.2.0.min.js\"></script>                <div id=\"f04ee36a-fdb0-4fd9-bfd0-3abc58110310\" class=\"plotly-graph-div\" style=\"height:525px; width:100%;\"></div>            <script type=\"text/javascript\">                                    window.PLOTLYENV=window.PLOTLYENV || {};                                    if (document.getElementById(\"f04ee36a-fdb0-4fd9-bfd0-3abc58110310\")) {                    Plotly.newPlot(                        \"f04ee36a-fdb0-4fd9-bfd0-3abc58110310\",                        [{\"cells\":{\"align\":\"left\",\"values\":[[\"Fondo di rotazione\",\"DSAL 2020 - Under 35\",\"DSAL 2020 - Over 35\",\"CIG Deroga 2020 covid 19\",\"SSE Lavoro Sardegna LR 22 ART 12 comma 1 e 2\",\"SSE Lavoro Sardegna LR 22 ART 12 comma 3\",\"LR22 ART. 11 - Percorsi formativi disoccupati\",\"SSE Lavoro Sardegna LR 22 ART 12 comma 4\",\"LR22 ART. 11 - Comma 1, lett.a-b\",\"LR30 ART. 5\",\"(R)ESISTO - Linea Grandi imprese\",\"(R)ESISTO - Linea Lavoratori e Lavoratrici\",\"(R)ESISTO - Linea Micro e Piccole Medie Imprese\",\"LR22ART9\",\"LR22ART8\",\"LR22ART9D\"],[\"AVVISO PUBBLICO RIVOLTO AI SOGGETTI PROPONENTI CHE INTENDANO ACCEDERE AL FONDO DI ROTAZIONE PER LA CONCESSIONE DI FINANZIAMENTI CHIROGRAFARI ALLE MICRO E PICCOLE IMPRESE DELLA FILIERA TURISTICA DELLA SARDEGNA, ai sensi dell'art. 7 della LR 8/2020\",\"Avviso Destinazione Sardegna Lavoro 2020. Avviso pubblico a sportello per la concessione di aiuti finalizzati al sostegno urgente dell'occupazione nella filiera turistica - Annualit\\u00e0 2020. Target Under 35\",\"Avviso Destinazione Sardegna Lavoro 2020. Avviso pubblico a sportello per la concessione di aiuti finalizzati al sostegno urgente dell'occupazione nella filiera turistica - Annualit\\u00e0 2020. Target Over 35\",\"AVVISO PUBBLICO PER LA CONCESSIONE DEI TRATTAMENTI DI CASSA INTEGRAZIONE SALARIALE IN DEROGA AI SENSI DELL\\u2019ART. 22 del Decreto Legge 17 MARZO 2020, n. 18\",\"Avviso pubblico a sportello per la concessione concessione di aiuti diretti in conto occupazione a favore dei soggetti operanti nell'ambito dell'editoria libraria, delle feste e sagre paesane, del settore dello spettacolo dal vivo inclusi i professio\",\"Avviso pubblico a sportello per la concessione di un aiuto finalizzato al sostegno delle Micro, Piccole e Medie imprese (MPMI) operanti nei settori delle tonnare fisse, dell'allevamento delle cozze e dei mitili e dell'apicoltura.\",\"AVVISO PUBBLICO A FAVORE DI DISOCCUPATI PER LA COSTITUZIONE DELL'OFFERTA DI PERCORSI DI QUALIFICAZIONE DI CUI ALLA LETT. B), COMMA 3, ART. 11 DELLA LEGGE REGIONALE 23 LUGLIO 2020, N. 22\",\"Avviso pubblico a sportello per la concessione di un aiuto finalizzato al sostegno delle Micro, Piccole e Medie imprese (MPMI) operanti operanti nel settore vitivinicolo.\",\"AVVISO PUBBLICO A SPORTELLO PER LA CONCESSIONE DI AIUTI A FAVORE DELLE AGENZIE FORMATIVE ACCREDITATE (Art. 11, Comma 1, lett. a - b della Legge Regionale 23 luglio 2020, n. 22 - D.G.R. n. 53/20 del 28.10.2020, D.G.R. n. 56/47 del 13.11.2020)\",\"Avviso Pubblico a sportello per la concessione di una indennit\\u00e0 una tantum a compensazione del mancato reddito dovuto all'emergenza epidemiologica da COVID_19 - Legge Regionale 15 dicembre 2020, n.30 Art. 5.\",\"(R)ESISTO AVVISO PUBBLICO A SPORTELLO PER LA CONCESSIONE DI SOVVENZIONI A FAVORE DELLE IMPRESE E DEI LAVORATORI AUTONOMI, EX ART. 14 DELLA LEGGE REGIONALE N. 22/2020\",\"(R)ESISTO AVVISO PUBBLICO A SPORTELLO PER LA CONCESSIONE DI SOVVENZIONI A FAVORE DELLE IMPRESE E DEI LAVORATORI AUTONOMI, EX ART. 14 DELLA LEGGE REGIONALE N. 22/2020\",\"(R)ESISTO AVVISO PUBBLICO A SPORTELLO PER LA CONCESSIONE DI SOVVENZIONI A FAVORE DELLE IMPRESE E DEI LAVORATORI AUTONOMI, EX ART. 14 DELLA LEGGE REGIONALE N. 22/2020\",\"Interventi straordinari in favore dei lavoratori in situazione di crisi da Covid - 19 - ART9 L. a- b\",\"Interventi straordinari in favore dei lavoratori in situazione di crisi da Covid - 19 - ART8\",\"Interventi straordinari in favore dei lavoratori in situazione di crisi da Covid - 19 - ART9 L. d\"],[\"Domanda di Finanziamento\",\"DAT\",\"DAT\",\"Ammortizzatori Sociali\",\"DAT\",\"DAT\",\"DCT\",\"DAT\",\"DCT\",\"DIT\",\"DAT\",\"DAT\",\"DAT\",\"DIT\",\"DIT\",\"DIT\"],[\"2020-04-29\",\"2020-08-04\",\"2020-08-04\",\"2020-04-08\",\"2020-09-10\",\"2020-10-26\",\"2020-11-06\",\"2020-12-04\",\"2021-01-26\",\"2021-02-04\",\"2021-02-08\",\"2021-02-11\",\"2021-02-17\",\"2020-11-11\",\"2020-12-04\",\"2021-04-15\"],[\"2020-07-31\",\"2020-09-10\",\"2020-09-10\",\"2020-08-31\",\"2020-09-30\",\"2020-11-12\",\"2020-11-30\",\"2020-12-18\",\"2021-02-10\",\"2021-02-22\",\"2021-02-22\",\"2021-02-25\",\"2021-03-03\",\"2021-03-31\",\"2021-04-04\",\"2021-04-15\"],[14500000,8500000,6500000,69850000,2000000,1500000,4000000,1000000,2000000,7300000,4000000,22525000,37014000,14000000,7150000,1500000]]},\"columnwidth\":[14,30,8,7,7,7],\"domain\":{\"x\":[0.0,1.0],\"y\":[0.525,1.0]},\"header\":{\"align\":\"left\",\"font\":{\"size\":10},\"values\":[\"Codice Avviso\",\"Descrizione estesa\",\"Tipologia\",\"Data di Apertura\",\"Data di chiusura\",\"Dotazione<br>Finanziaria\"]},\"type\":\"table\"},{\"hovertemplate\":\"<br><b><i>%{x}</i></b><br><i>Dotazione Finanziaria</i>:<br><b>%{y:.2f}</b><extra></extra>\",\"hovertext\":\"Dotazione\",\"marker\":{\"color\":\"darkgrey\"},\"name\":\"Dotazione iniziale\",\"type\":\"bar\",\"x\":[\"Ammortizzatori Sociali\",\"DAT\",\"DCT\",\"Domanda di Finanziamento\",\"DIT\"],\"xaxis\":\"x\",\"y\":[69850000,83039000,6000000,14500000,29950000],\"yaxis\":\"y\"},{\"hovertemplate\":\"<br><b><i>%{x}</i></b><br><i>Budget Prenotato</i>:<br><b>%{y:.2f}</b><extra></extra>\",\"hovertext\":\"Budget prenotato\",\"marker\":{\"color\":\"indianred\"},\"name\":\"Budget prenotato\",\"type\":\"bar\",\"x\":[\"Ammortizzatori Sociali\",\"DAT\",\"DCT\",\"Domanda di Finanziamento\",\"DIT\"],\"xaxis\":\"x\",\"y\":[62219275,285382799,2768661,14395000,58386948],\"yaxis\":\"y\"}],                        {\"barmode\":\"group\",\"template\":{\"data\":{\"bar\":[{\"error_x\":{\"color\":\"rgb(36,36,36)\"},\"error_y\":{\"color\":\"rgb(36,36,36)\"},\"marker\":{\"line\":{\"color\":\"rgb(234,234,242)\",\"width\":0.5},\"pattern\":{\"fillmode\":\"overlay\",\"size\":10,\"solidity\":0.2}},\"type\":\"bar\"}],\"barpolar\":[{\"marker\":{\"line\":{\"color\":\"rgb(234,234,242)\",\"width\":0.5},\"pattern\":{\"fillmode\":\"overlay\",\"size\":10,\"solidity\":0.2}},\"type\":\"barpolar\"}],\"carpet\":[{\"aaxis\":{\"endlinecolor\":\"rgb(36,36,36)\",\"gridcolor\":\"white\",\"linecolor\":\"white\",\"minorgridcolor\":\"white\",\"startlinecolor\":\"rgb(36,36,36)\"},\"baxis\":{\"endlinecolor\":\"rgb(36,36,36)\",\"gridcolor\":\"white\",\"linecolor\":\"white\",\"minorgridcolor\":\"white\",\"startlinecolor\":\"rgb(36,36,36)\"},\"type\":\"carpet\"}],\"choropleth\":[{\"colorbar\":{\"outlinewidth\":0,\"tickcolor\":\"rgb(36,36,36)\",\"ticklen\":8,\"ticks\":\"outside\",\"tickwidth\":2},\"type\":\"choropleth\"}],\"contour\":[{\"colorbar\":{\"outlinewidth\":0,\"tickcolor\":\"rgb(36,36,36)\",\"ticklen\":8,\"ticks\":\"outside\",\"tickwidth\":2},\"colorscale\":[[0.0,\"rgb(2,4,25)\"],[0.06274509803921569,\"rgb(24,15,41)\"],[0.12549019607843137,\"rgb(47,23,57)\"],[0.18823529411764706,\"rgb(71,28,72)\"],[0.25098039215686274,\"rgb(97,30,82)\"],[0.3137254901960784,\"rgb(123,30,89)\"],[0.3764705882352941,\"rgb(150,27,91)\"],[0.4392156862745098,\"rgb(177,22,88)\"],[0.5019607843137255,\"rgb(203,26,79)\"],[0.5647058823529412,\"rgb(223,47,67)\"],[0.6274509803921569,\"rgb(236,76,61)\"],[0.6901960784313725,\"rgb(242,107,73)\"],[0.7529411764705882,\"rgb(244,135,95)\"],[0.8156862745098039,\"rgb(245,162,122)\"],[0.8784313725490196,\"rgb(246,188,153)\"],[0.9411764705882353,\"rgb(247,212,187)\"],[1.0,\"rgb(250,234,220)\"]],\"type\":\"contour\"}],\"contourcarpet\":[{\"colorbar\":{\"outlinewidth\":0,\"tickcolor\":\"rgb(36,36,36)\",\"ticklen\":8,\"ticks\":\"outside\",\"tickwidth\":2},\"type\":\"contourcarpet\"}],\"heatmap\":[{\"colorbar\":{\"outlinewidth\":0,\"tickcolor\":\"rgb(36,36,36)\",\"ticklen\":8,\"ticks\":\"outside\",\"tickwidth\":2},\"colorscale\":[[0.0,\"rgb(2,4,25)\"],[0.06274509803921569,\"rgb(24,15,41)\"],[0.12549019607843137,\"rgb(47,23,57)\"],[0.18823529411764706,\"rgb(71,28,72)\"],[0.25098039215686274,\"rgb(97,30,82)\"],[0.3137254901960784,\"rgb(123,30,89)\"],[0.3764705882352941,\"rgb(150,27,91)\"],[0.4392156862745098,\"rgb(177,22,88)\"],[0.5019607843137255,\"rgb(203,26,79)\"],[0.5647058823529412,\"rgb(223,47,67)\"],[0.6274509803921569,\"rgb(236,76,61)\"],[0.6901960784313725,\"rgb(242,107,73)\"],[0.7529411764705882,\"rgb(244,135,95)\"],[0.8156862745098039,\"rgb(245,162,122)\"],[0.8784313725490196,\"rgb(246,188,153)\"],[0.9411764705882353,\"rgb(247,212,187)\"],[1.0,\"rgb(250,234,220)\"]],\"type\":\"heatmap\"}],\"heatmapgl\":[{\"colorbar\":{\"outlinewidth\":0,\"tickcolor\":\"rgb(36,36,36)\",\"ticklen\":8,\"ticks\":\"outside\",\"tickwidth\":2},\"colorscale\":[[0.0,\"rgb(2,4,25)\"],[0.06274509803921569,\"rgb(24,15,41)\"],[0.12549019607843137,\"rgb(47,23,57)\"],[0.18823529411764706,\"rgb(71,28,72)\"],[0.25098039215686274,\"rgb(97,30,82)\"],[0.3137254901960784,\"rgb(123,30,89)\"],[0.3764705882352941,\"rgb(150,27,91)\"],[0.4392156862745098,\"rgb(177,22,88)\"],[0.5019607843137255,\"rgb(203,26,79)\"],[0.5647058823529412,\"rgb(223,47,67)\"],[0.6274509803921569,\"rgb(236,76,61)\"],[0.6901960784313725,\"rgb(242,107,73)\"],[0.7529411764705882,\"rgb(244,135,95)\"],[0.8156862745098039,\"rgb(245,162,122)\"],[0.8784313725490196,\"rgb(246,188,153)\"],[0.9411764705882353,\"rgb(247,212,187)\"],[1.0,\"rgb(250,234,220)\"]],\"type\":\"heatmapgl\"}],\"histogram\":[{\"marker\":{\"pattern\":{\"fillmode\":\"overlay\",\"size\":10,\"solidity\":0.2}},\"type\":\"histogram\"}],\"histogram2d\":[{\"colorbar\":{\"outlinewidth\":0,\"tickcolor\":\"rgb(36,36,36)\",\"ticklen\":8,\"ticks\":\"outside\",\"tickwidth\":2},\"colorscale\":[[0.0,\"rgb(2,4,25)\"],[0.06274509803921569,\"rgb(24,15,41)\"],[0.12549019607843137,\"rgb(47,23,57)\"],[0.18823529411764706,\"rgb(71,28,72)\"],[0.25098039215686274,\"rgb(97,30,82)\"],[0.3137254901960784,\"rgb(123,30,89)\"],[0.3764705882352941,\"rgb(150,27,91)\"],[0.4392156862745098,\"rgb(177,22,88)\"],[0.5019607843137255,\"rgb(203,26,79)\"],[0.5647058823529412,\"rgb(223,47,67)\"],[0.6274509803921569,\"rgb(236,76,61)\"],[0.6901960784313725,\"rgb(242,107,73)\"],[0.7529411764705882,\"rgb(244,135,95)\"],[0.8156862745098039,\"rgb(245,162,122)\"],[0.8784313725490196,\"rgb(246,188,153)\"],[0.9411764705882353,\"rgb(247,212,187)\"],[1.0,\"rgb(250,234,220)\"]],\"type\":\"histogram2d\"}],\"histogram2dcontour\":[{\"colorbar\":{\"outlinewidth\":0,\"tickcolor\":\"rgb(36,36,36)\",\"ticklen\":8,\"ticks\":\"outside\",\"tickwidth\":2},\"colorscale\":[[0.0,\"rgb(2,4,25)\"],[0.06274509803921569,\"rgb(24,15,41)\"],[0.12549019607843137,\"rgb(47,23,57)\"],[0.18823529411764706,\"rgb(71,28,72)\"],[0.25098039215686274,\"rgb(97,30,82)\"],[0.3137254901960784,\"rgb(123,30,89)\"],[0.3764705882352941,\"rgb(150,27,91)\"],[0.4392156862745098,\"rgb(177,22,88)\"],[0.5019607843137255,\"rgb(203,26,79)\"],[0.5647058823529412,\"rgb(223,47,67)\"],[0.6274509803921569,\"rgb(236,76,61)\"],[0.6901960784313725,\"rgb(242,107,73)\"],[0.7529411764705882,\"rgb(244,135,95)\"],[0.8156862745098039,\"rgb(245,162,122)\"],[0.8784313725490196,\"rgb(246,188,153)\"],[0.9411764705882353,\"rgb(247,212,187)\"],[1.0,\"rgb(250,234,220)\"]],\"type\":\"histogram2dcontour\"}],\"mesh3d\":[{\"colorbar\":{\"outlinewidth\":0,\"tickcolor\":\"rgb(36,36,36)\",\"ticklen\":8,\"ticks\":\"outside\",\"tickwidth\":2},\"type\":\"mesh3d\"}],\"parcoords\":[{\"line\":{\"colorbar\":{\"outlinewidth\":0,\"tickcolor\":\"rgb(36,36,36)\",\"ticklen\":8,\"ticks\":\"outside\",\"tickwidth\":2}},\"type\":\"parcoords\"}],\"pie\":[{\"automargin\":true,\"type\":\"pie\"}],\"scatter\":[{\"marker\":{\"colorbar\":{\"outlinewidth\":0,\"tickcolor\":\"rgb(36,36,36)\",\"ticklen\":8,\"ticks\":\"outside\",\"tickwidth\":2}},\"type\":\"scatter\"}],\"scatter3d\":[{\"line\":{\"colorbar\":{\"outlinewidth\":0,\"tickcolor\":\"rgb(36,36,36)\",\"ticklen\":8,\"ticks\":\"outside\",\"tickwidth\":2}},\"marker\":{\"colorbar\":{\"outlinewidth\":0,\"tickcolor\":\"rgb(36,36,36)\",\"ticklen\":8,\"ticks\":\"outside\",\"tickwidth\":2}},\"type\":\"scatter3d\"}],\"scattercarpet\":[{\"marker\":{\"colorbar\":{\"outlinewidth\":0,\"tickcolor\":\"rgb(36,36,36)\",\"ticklen\":8,\"ticks\":\"outside\",\"tickwidth\":2}},\"type\":\"scattercarpet\"}],\"scattergeo\":[{\"marker\":{\"colorbar\":{\"outlinewidth\":0,\"tickcolor\":\"rgb(36,36,36)\",\"ticklen\":8,\"ticks\":\"outside\",\"tickwidth\":2}},\"type\":\"scattergeo\"}],\"scattergl\":[{\"marker\":{\"colorbar\":{\"outlinewidth\":0,\"tickcolor\":\"rgb(36,36,36)\",\"ticklen\":8,\"ticks\":\"outside\",\"tickwidth\":2}},\"type\":\"scattergl\"}],\"scattermapbox\":[{\"marker\":{\"colorbar\":{\"outlinewidth\":0,\"tickcolor\":\"rgb(36,36,36)\",\"ticklen\":8,\"ticks\":\"outside\",\"tickwidth\":2}},\"type\":\"scattermapbox\"}],\"scatterpolar\":[{\"marker\":{\"colorbar\":{\"outlinewidth\":0,\"tickcolor\":\"rgb(36,36,36)\",\"ticklen\":8,\"ticks\":\"outside\",\"tickwidth\":2}},\"type\":\"scatterpolar\"}],\"scatterpolargl\":[{\"marker\":{\"colorbar\":{\"outlinewidth\":0,\"tickcolor\":\"rgb(36,36,36)\",\"ticklen\":8,\"ticks\":\"outside\",\"tickwidth\":2}},\"type\":\"scatterpolargl\"}],\"scatterternary\":[{\"marker\":{\"colorbar\":{\"outlinewidth\":0,\"tickcolor\":\"rgb(36,36,36)\",\"ticklen\":8,\"ticks\":\"outside\",\"tickwidth\":2}},\"type\":\"scatterternary\"}],\"surface\":[{\"colorbar\":{\"outlinewidth\":0,\"tickcolor\":\"rgb(36,36,36)\",\"ticklen\":8,\"ticks\":\"outside\",\"tickwidth\":2},\"colorscale\":[[0.0,\"rgb(2,4,25)\"],[0.06274509803921569,\"rgb(24,15,41)\"],[0.12549019607843137,\"rgb(47,23,57)\"],[0.18823529411764706,\"rgb(71,28,72)\"],[0.25098039215686274,\"rgb(97,30,82)\"],[0.3137254901960784,\"rgb(123,30,89)\"],[0.3764705882352941,\"rgb(150,27,91)\"],[0.4392156862745098,\"rgb(177,22,88)\"],[0.5019607843137255,\"rgb(203,26,79)\"],[0.5647058823529412,\"rgb(223,47,67)\"],[0.6274509803921569,\"rgb(236,76,61)\"],[0.6901960784313725,\"rgb(242,107,73)\"],[0.7529411764705882,\"rgb(244,135,95)\"],[0.8156862745098039,\"rgb(245,162,122)\"],[0.8784313725490196,\"rgb(246,188,153)\"],[0.9411764705882353,\"rgb(247,212,187)\"],[1.0,\"rgb(250,234,220)\"]],\"type\":\"surface\"}],\"table\":[{\"cells\":{\"fill\":{\"color\":\"rgb(231,231,240)\"},\"line\":{\"color\":\"white\"}},\"header\":{\"fill\":{\"color\":\"rgb(183,183,191)\"},\"line\":{\"color\":\"white\"}},\"type\":\"table\"}]},\"layout\":{\"annotationdefaults\":{\"arrowcolor\":\"rgb(67,103,167)\"},\"autotypenumbers\":\"strict\",\"coloraxis\":{\"colorbar\":{\"outlinewidth\":0,\"tickcolor\":\"rgb(36,36,36)\",\"ticklen\":8,\"ticks\":\"outside\",\"tickwidth\":2}},\"colorscale\":{\"sequential\":[[0.0,\"rgb(2,4,25)\"],[0.06274509803921569,\"rgb(24,15,41)\"],[0.12549019607843137,\"rgb(47,23,57)\"],[0.18823529411764706,\"rgb(71,28,72)\"],[0.25098039215686274,\"rgb(97,30,82)\"],[0.3137254901960784,\"rgb(123,30,89)\"],[0.3764705882352941,\"rgb(150,27,91)\"],[0.4392156862745098,\"rgb(177,22,88)\"],[0.5019607843137255,\"rgb(203,26,79)\"],[0.5647058823529412,\"rgb(223,47,67)\"],[0.6274509803921569,\"rgb(236,76,61)\"],[0.6901960784313725,\"rgb(242,107,73)\"],[0.7529411764705882,\"rgb(244,135,95)\"],[0.8156862745098039,\"rgb(245,162,122)\"],[0.8784313725490196,\"rgb(246,188,153)\"],[0.9411764705882353,\"rgb(247,212,187)\"],[1.0,\"rgb(250,234,220)\"]],\"sequentialminus\":[[0.0,\"rgb(2,4,25)\"],[0.06274509803921569,\"rgb(24,15,41)\"],[0.12549019607843137,\"rgb(47,23,57)\"],[0.18823529411764706,\"rgb(71,28,72)\"],[0.25098039215686274,\"rgb(97,30,82)\"],[0.3137254901960784,\"rgb(123,30,89)\"],[0.3764705882352941,\"rgb(150,27,91)\"],[0.4392156862745098,\"rgb(177,22,88)\"],[0.5019607843137255,\"rgb(203,26,79)\"],[0.5647058823529412,\"rgb(223,47,67)\"],[0.6274509803921569,\"rgb(236,76,61)\"],[0.6901960784313725,\"rgb(242,107,73)\"],[0.7529411764705882,\"rgb(244,135,95)\"],[0.8156862745098039,\"rgb(245,162,122)\"],[0.8784313725490196,\"rgb(246,188,153)\"],[0.9411764705882353,\"rgb(247,212,187)\"],[1.0,\"rgb(250,234,220)\"]]},\"colorway\":[\"rgb(76,114,176)\",\"rgb(221,132,82)\",\"rgb(85,168,104)\",\"rgb(196,78,82)\",\"rgb(129,114,179)\",\"rgb(147,120,96)\",\"rgb(218,139,195)\",\"rgb(140,140,140)\",\"rgb(204,185,116)\",\"rgb(100,181,205)\"],\"font\":{\"color\":\"rgb(36,36,36)\"},\"geo\":{\"bgcolor\":\"white\",\"lakecolor\":\"white\",\"landcolor\":\"rgb(234,234,242)\",\"showlakes\":true,\"showland\":true,\"subunitcolor\":\"white\"},\"hoverlabel\":{\"align\":\"left\"},\"hovermode\":\"closest\",\"paper_bgcolor\":\"white\",\"plot_bgcolor\":\"rgb(234,234,242)\",\"polar\":{\"angularaxis\":{\"gridcolor\":\"white\",\"linecolor\":\"white\",\"showgrid\":true,\"ticks\":\"\"},\"bgcolor\":\"rgb(234,234,242)\",\"radialaxis\":{\"gridcolor\":\"white\",\"linecolor\":\"white\",\"showgrid\":true,\"ticks\":\"\"}},\"scene\":{\"xaxis\":{\"backgroundcolor\":\"rgb(234,234,242)\",\"gridcolor\":\"white\",\"gridwidth\":2,\"linecolor\":\"white\",\"showbackground\":true,\"showgrid\":true,\"ticks\":\"\",\"zerolinecolor\":\"white\"},\"yaxis\":{\"backgroundcolor\":\"rgb(234,234,242)\",\"gridcolor\":\"white\",\"gridwidth\":2,\"linecolor\":\"white\",\"showbackground\":true,\"showgrid\":true,\"ticks\":\"\",\"zerolinecolor\":\"white\"},\"zaxis\":{\"backgroundcolor\":\"rgb(234,234,242)\",\"gridcolor\":\"white\",\"gridwidth\":2,\"linecolor\":\"white\",\"showbackground\":true,\"showgrid\":true,\"ticks\":\"\",\"zerolinecolor\":\"white\"}},\"shapedefaults\":{\"fillcolor\":\"rgb(67,103,167)\",\"line\":{\"width\":0},\"opacity\":0.5},\"ternary\":{\"aaxis\":{\"gridcolor\":\"white\",\"linecolor\":\"white\",\"showgrid\":true,\"ticks\":\"\"},\"baxis\":{\"gridcolor\":\"white\",\"linecolor\":\"white\",\"showgrid\":true,\"ticks\":\"\"},\"bgcolor\":\"rgb(234,234,242)\",\"caxis\":{\"gridcolor\":\"white\",\"linecolor\":\"white\",\"showgrid\":true,\"ticks\":\"\"}},\"xaxis\":{\"automargin\":true,\"gridcolor\":\"white\",\"linecolor\":\"white\",\"showgrid\":true,\"ticks\":\"\",\"title\":{\"standoff\":15},\"zerolinecolor\":\"white\"},\"yaxis\":{\"automargin\":true,\"gridcolor\":\"white\",\"linecolor\":\"white\",\"showgrid\":true,\"ticks\":\"\",\"title\":{\"standoff\":15},\"zerolinecolor\":\"white\"}}},\"title\":{\"text\":\"Panoramica interventi COVID per tipologia\"},\"xaxis\":{\"anchor\":\"y\",\"domain\":[0.0,1.0]},\"yaxis\":{\"anchor\":\"x\",\"domain\":[0.0,0.475],\"type\":\"log\"}},                        {\"responsive\": true}                    ).then(function(){\n",
              "                            \n",
              "var gd = document.getElementById('f04ee36a-fdb0-4fd9-bfd0-3abc58110310');\n",
              "var x = new MutationObserver(function (mutations, observer) {{\n",
              "        var display = window.getComputedStyle(gd).display;\n",
              "        if (!display || display === 'none') {{\n",
              "            console.log([gd, 'removed!']);\n",
              "            Plotly.purge(gd);\n",
              "            observer.disconnect();\n",
              "        }}\n",
              "}});\n",
              "\n",
              "// Listen for the removal of the full notebook cells\n",
              "var notebookContainer = gd.closest('#notebook-container');\n",
              "if (notebookContainer) {{\n",
              "    x.observe(notebookContainer, {childList: true});\n",
              "}}\n",
              "\n",
              "// Listen for the clearing of the current output cell\n",
              "var outputEl = gd.closest('.output');\n",
              "if (outputEl) {{\n",
              "    x.observe(outputEl, {childList: true});\n",
              "}}\n",
              "\n",
              "                        })                };                            </script>        </div>\n",
              "</body>\n",
              "</html>"
            ]
          },
          "metadata": {
            "tags": []
          }
        }
      ]
    },
    {
      "cell_type": "markdown",
      "metadata": {
        "id": "XUrlQE6qSuNX"
      },
      "source": [
        "###Andamento nel tempo\n",
        "E' analizzata la numerosità delle domande presentate giornalmente per tutto il periodo di osservazione, nel grafico sono stati riportati anche i \"momenti\" di apertura dei diversi Avvisi pubblici e una fascia in semi trasparenza per la durata dell'apertura dell'avviso (finestra di apertura). <br>\n",
        "E' interessante notare i picchi in relazione all'apertura di alcuni avvisi che sono stati gestiti in modalità \"a sportello\" \"Click Day\".\n"
      ]
    },
    {
      "cell_type": "code",
      "metadata": {
        "id": "BpL8MvQje-53"
      },
      "source": [
        "Somme_richieste_daily = df_domande_j.na.fill(value=0).groupBy(\"Data Invio\").agg({'Importo Richiesto':'sum', 'Codice Domanda':'count'})\n",
        "Somme_richieste_daily_pd = Somme_richieste_daily.sort(\"Data Invio\").toPandas()\n"
      ],
      "execution_count": 43,
      "outputs": []
    },
    {
      "cell_type": "code",
      "metadata": {
        "id": "sT4M7JpwoKMi"
      },
      "source": [
        "Somme_richieste_daily_pd['Data formatted'] = Somme_richieste_daily_pd['Data Invio'].dt.strftime('%m/%d/%Y')\n",
        "#Somme_richieste_daily_pd.head()"
      ],
      "execution_count": 44,
      "outputs": []
    },
    {
      "cell_type": "code",
      "metadata": {
        "id": "4FXtZOPpYxBb"
      },
      "source": [
        "Avvisi_covid_pd.sort_values(\"Data Apertura\", ascending = True,\n",
        "                 inplace = True, na_position ='last')"
      ],
      "execution_count": 45,
      "outputs": []
    },
    {
      "cell_type": "code",
      "metadata": {
        "colab": {
          "base_uri": "https://localhost:8080/",
          "height": 542
        },
        "id": "w9cciLEZikf4",
        "outputId": "49a53fae-0ded-44a3-a872-0e84ed20d5ec"
      },
      "source": [
        "avvisi = Avvisi_covid_pd[\"Codice Avviso\"].unique()\n",
        "fig = px.line(Somme_richieste_daily_pd, x=\"Data Invio\", y='count(Codice Domanda)',\n",
        "              title='Andamento presentazione delle domande', \n",
        "              #line_group= df1.index.get_level_values(0), \n",
        "              labels={ # replaces default labels by column name\n",
        "                     \"count(Codice Domanda)\": \"N. Domande\", \"sum(Importo Richiesto)\": \"Somma Importi (€)\"},\n",
        "              #log_y = True,\n",
        "              hover_name= \"Data formatted\",\n",
        "              hover_data=[\"count(Codice Domanda)\",\"sum(Importo Richiesto)\"]\n",
        "\n",
        "            )\n",
        "fig.add_trace(go.Scatter(x=Avvisi_covid_pd[\"Data Apertura\"], y=Avvisi_covid_pd[\"Intervento COVID\"],\n",
        "                mode='markers',\n",
        "                name='Apertura avviso',\n",
        "                hovertext = \"Femmine\",\n",
        "                marker_color='indianred',\n",
        "                hovertemplate = '<br><b><i>%{x}</i></b>'+\n",
        "                '<br><i>Avviso</i>:<br> <b>'+ Avvisi_covid_pd[\"Codice Avviso\"] +'</b>'+\n",
        "                '<extra></extra>'\n",
        "                )\n",
        ")\n",
        "for index, avviso in enumerate(avvisi):\n",
        "    fig.add_vrect(x0=Avvisi_covid_pd.loc[Avvisi_covid_pd[\"Codice Avviso\"] == avviso, \"Data Apertura\"].item().strftime('%Y-%m-%d'), \n",
        "                  x1=Avvisi_covid_pd.loc[Avvisi_covid_pd[\"Codice Avviso\"] == avviso, \"Data Chiusura\"].item().strftime('%Y-%m-%d'), \n",
        "                  #annotation_text=Avvisi_covid_pd.loc[Avvisi_covid_pd[\"Codice Avviso\"] == avviso, \"Codice Avviso\"].item(), annotation_position=\"top left\", \n",
        "                  fillcolor=\"green\", opacity=0.10, line_width=0, \n",
        "                  #annotation_textangle=-45\n",
        "                  )\n",
        "\n",
        "fig.show()\n"
      ],
      "execution_count": 46,
      "outputs": [
        {
          "output_type": "display_data",
          "data": {
            "text/html": [
              "<html>\n",
              "<head><meta charset=\"utf-8\" /></head>\n",
              "<body>\n",
              "    <div>            <script src=\"https://cdnjs.cloudflare.com/ajax/libs/mathjax/2.7.5/MathJax.js?config=TeX-AMS-MML_SVG\"></script><script type=\"text/javascript\">if (window.MathJax) {MathJax.Hub.Config({SVG: {font: \"STIX-Web\"}});}</script>                <script type=\"text/javascript\">window.PlotlyConfig = {MathJaxConfig: 'local'};</script>\n",
              "        <script src=\"https://cdn.plot.ly/plotly-2.2.0.min.js\"></script>                <div id=\"13cd512a-ea86-4e26-8818-64376513d4ba\" class=\"plotly-graph-div\" style=\"height:525px; width:100%;\"></div>            <script type=\"text/javascript\">                                    window.PLOTLYENV=window.PLOTLYENV || {};                                    if (document.getElementById(\"13cd512a-ea86-4e26-8818-64376513d4ba\")) {                    Plotly.newPlot(                        \"13cd512a-ea86-4e26-8818-64376513d4ba\",                        [{\"customdata\":[[16179936.289161682],[4422032.994369507],[2619702.001449585],[914303.7004394531],[63406.799743652344],[274193.09979248047],[1414357.1988716125],[1131181.1961364746],[666694.798324585],[1182883.5013580322],[134622.00122070312],[72559.80001831055],[794002.4998397827],[563597.9981842041],[480184.2010498047],[362061.9004974365],[1343231.1003417969],[34676.09997558594],[75305.70166015625],[285152.3991394043],[230129.09992980957],[302032.8007507324],[209482.2000427246],[216383.40043640137],[690136.2016906738],[283370.3994140625],[1703114.097808838],[1810058.3967132568],[1387408.4994506836],[2126071.8016967773],[2022092.1091003418],[470861.09799194336],[198757.80117797852],[3162855.599029541],[1748133.8968048096],[2891343.5960006714],[1263235.4964294434],[882883.7978973389],[260585.10137939453],[91586.69970703125],[411220.79831695557],[529286.4001407623],[277425.0014343262],[286731.9005279541],[368720.1037750244],[24543.000610351562],[3426.3001098632812],[202459.49925231934],[384733.79904937744],[356262.3006706238],[462372.29948425293],[463806.00171661377],[48089.69943237305],[80384.40023803711],[76196.70008087158],[33898.5],[110694.60029602051],[139328.0994873047],[233660.70449829102],[19245.600463867188],[7516.799911499023],[154191.5994796753],[202759.19873809814],[67213.79923629761],[83673.00086975098],[25207.19965362549],[19132.199996948242],[1806.300048828125],[78853.50159454346],[115530.30058288574],[180532.8020553589],[96276.60112953186],[94794.2998046875],[19974.600219726562],[1036.7999877929688],[42176.69997406006],[81955.80030441284],[101492.99998092651],[113448.6012802124],[30261.599716186523],[46194.30029296875],[54091.80017089844],[46510.19997024536],[29338.2001953125],[44023.50109100342],[27305.099685668945],[54845.09997558594],[23830.2000579834],[28868.39990234375],[13583.700004577637],[6690.599914550781],[13891.499755859375],[64475.99980163574],[52082.99981689453],[100731.5997543335],[14409.899940490723],[36490.50012207031],[2170.8000106811523],[12546.900207519531],[11971.79987335205],[36595.80027770996],[38879.99921417236],[10165.499938964844],[761.4000015258789],[8691.300155639648],[8950.499885559082],[17050.499969482422],[10165.499908447266],[14458.500442504883],[8982.899993896484],[25775569.340698242],[1606733.400024414],[1573095.200012207],[661086.01953125],[110120.0],[33679.8203125],[309091.79998779297],[493210.59998321533],[914763.799987793],[617715.0000991821],[505353.30000686646],[510.29998779296875],[307808.80004119873],[529797.0],[434648.40002441406],[490253.90003967285],[228458.69995117188],[25273.0],[3688.2000122070312],[174600.20000457764],[183248.03959655762],[249347.69996643066],[715361.799987793],[453948.79998779297],[347646.1201171875],[71074.0],[1750197.0698547363],[35605.0],[79397.09990310669],[33956.20004272461],[17985.0],[2268.0],[3570.0],[13666.699981689453],[76056.20004272461],[147833.0],[1401126.6000061035],[166827.0],[63677.0],[11000.0],[64603.79998779297],[100110.3999786377],[86000.0],[35296.0],[61000.699951171875],[45332.80001831055],[8000.0],[71499.89986038208],[88129.60000610352],[73009.50006103516],[99000.0],[82000.0],[59123.60009765625],[11000.0],[168802.59997558594],[198741.50003051758],[196581.59994506836],[1458.0],[907.2000122070312],[1101.5999755859375],[3928.5],[6787.7998046875],[12417.300170898438],[388.79998779296875],[5653.7998046875],[8253.899993896484],[1951701.6627197266],[85377.50085449219],[49652.50057220459],[52052.10008239746],[83701.3501586914],[8553.59992980957],[21520.2001953125],[30472.99981689453],[25466.99951171875],[65400.29919433594],[33815.70009613037],[113985.40319824219],[196049.49926757812],[3248623.210784912],[1791743.056640625],[1275264.5889587402],[383188.0100097656],[237316.3596343994],[728056.6090087891],[711467.6697540283],[536458.4395751953],[438781.63970947266],[370887.04878234863],[130810.56005859375],[67158.33006286621],[187278.16928100586],[266356.02961730957],[214729.8197631836],[187587.4606781006],[155012.50032043457],[39357.99002075195],[51866.65962219238],[153605.2599029541],[79510.01020812988],[107571.4900970459],[105367.94026184082],[980905.8830871582],[60281.31004333496],[28253.329986572266],[121881.99015808105],[26925.07989501953],[137692.6596069336],[72040.36994934082],[63291.350006103516],[17426.66976928711],[17293.3299407959],[54555.9596862793],[81456.13017272949],[141382.1598968506],[59076.650482177734],[145160.96990966797],[12875.659973144531],[15454.750030517578],[14084.469909667969],[34100.069885253906],[19357.4100189209],[2799.9999389648438],[2733.3300170898438],[5599.999938964844],[7016.669952392578],[12219.99984741211],[8046.660064697266],[10693.339965820312],[2840.0],[1666.6700134277344],[17486.669982910156],[3626.669921875],[4740.0],[9940.0],[2646.6599731445312],[2503.56005859375],[1000.0],[10053.33999633789],[14046.659912109375],[6999.999923706055],[15206.669738769531],[13266.659973144531],[5800.0],[3240.0],[10046.679992675781],[4366.669921875],[8453.330001831055],[14460.000061035156],[8813.339965820312],[2740.0],[1546.6699829101562],[15833.340209960938],[2651383.539916992],[36835.28938293457],[9986.660095214844],[2733.3300170898438],[7613.330078125],[2566.6699829101562],[6366.670013427734],[19126.67007446289],[5886.659912109375],[28071459.989990234],[3785935.0303344727],[989533.3400268555],[400126.66998291016],[5115114.20425415],[1941419.9199523926],[1127401.568725586],[25300043.577209473],[2388740.868286133],[562079.8595581055],[246126.4702758789],[1335036.0207824707],[1370596.7395629883],[186443061.3360443],[6688132.828567505],[3980145.1495666504],[854900.6708984375],[319544.87890625],[2664765.439804077],[2106703.575454712],[1410015.2496643066],[1731981.2507019043],[911016.4236450195],[111102.57989501953],[60632.60008239746],[1156535.8660888672],[1108727.9878845215],[2367538.146774292],[21640.019897460938],[16673.329956054688],[8899.999801635742],[8586.670043945312],[13819.989837646484],[12520.0],[8520.0],[18640.0],[4760.0],[3280.0],[1040.0],[800.0],[3440.0],[9440.0],[18259.99005126953],[18253.329971313477],[3620.0],[5879.999969482422],[19920.000030517578],[16753.339965820312],[11270.729919433594],[17366.689880371094],[10405.09994506836],[13432.169921875],[680.0],[13476.329940795898],[17731.680053710938],[22037.329879760742],[12393.330123901367],[14906.669982910156],[7120.0],[5333.3299560546875],[3513.3299560546875],[16346.660018920898],[22433.34002685547],[43965.240234375],[32935.66015625],[6106.6700439453125],[10626.660034179688],[13849.56997680664],[15520.009872436523],[9519.929916381836],[26487.5299949646],[20429.830001831055],[12266.019989013672],[4560.770050048828],[22529.309951782227],[12671.919982910156],[25959.209884643555],[14556.97002029419],[22766.039960861206],[7174.740005493164],[5371.790004730225],[18861.009925842285],[26053.520036697388],[20653.660133361816],[13822.02001953125],[10380.459854125977],[3876.150026321411],[1900.0],[6393.330078125],[16402.770065307617],[8968.419891357422],[14732.930099487305],[5593.220031738281],[700.0],[1326.6700134277344],[10484.250183105469],[12731.950073242188],[16080.0],[8163.2698974609375],[10220.670043945312],[5764.269968032837],[6633.3299560546875],[5601.349922180176],[4905.490051269531],[4666.669998168945],[7893.330139160156],[4133.340042114258],[2866.669921875],[2453.3299865722656],[3693.3299560546875],[2828.250015258789],[3965.8599853515625],[600.0],[1160.0],[533.3300170898438],[1220.0],[2019.6300163269043],[1143.8999938964844],[9333.339965820312],[2165.8599853515625],[2073.3300018310547],[1966.6700439453125],[1620.0],[720.0],[3978.1099853515625],[2653.3299560546875],[2053.3300018310547]],\"hovertemplate\":\"<b>%{hovertext}</b><br><br>Data Invio=%{x}<br>N. Domande=%{y}<br>Somma Importi (\\u20ac)=%{customdata[0]}<extra></extra>\",\"hovertext\":[\"04/08/2020\",\"04/09/2020\",\"04/10/2020\",\"04/11/2020\",\"04/12/2020\",\"04/13/2020\",\"04/14/2020\",\"04/15/2020\",\"04/16/2020\",\"04/17/2020\",\"04/18/2020\",\"04/19/2020\",\"04/20/2020\",\"04/21/2020\",\"04/22/2020\",\"04/23/2020\",\"04/24/2020\",\"04/25/2020\",\"04/26/2020\",\"04/27/2020\",\"04/28/2020\",\"04/29/2020\",\"04/30/2020\",\"05/01/2020\",\"05/02/2020\",\"05/03/2020\",\"05/04/2020\",\"05/05/2020\",\"05/06/2020\",\"05/07/2020\",\"05/08/2020\",\"05/09/2020\",\"05/10/2020\",\"05/11/2020\",\"05/12/2020\",\"05/13/2020\",\"05/14/2020\",\"05/15/2020\",\"05/16/2020\",\"05/17/2020\",\"05/18/2020\",\"05/19/2020\",\"05/20/2020\",\"05/21/2020\",\"05/22/2020\",\"05/23/2020\",\"05/24/2020\",\"05/25/2020\",\"05/26/2020\",\"05/27/2020\",\"05/28/2020\",\"05/29/2020\",\"05/30/2020\",\"05/31/2020\",\"06/01/2020\",\"06/02/2020\",\"06/03/2020\",\"06/04/2020\",\"06/05/2020\",\"06/06/2020\",\"06/07/2020\",\"06/08/2020\",\"06/09/2020\",\"06/10/2020\",\"06/11/2020\",\"06/12/2020\",\"06/13/2020\",\"06/14/2020\",\"06/15/2020\",\"06/16/2020\",\"06/17/2020\",\"06/18/2020\",\"06/19/2020\",\"06/20/2020\",\"06/21/2020\",\"06/22/2020\",\"06/23/2020\",\"06/24/2020\",\"06/25/2020\",\"06/26/2020\",\"06/29/2020\",\"06/30/2020\",\"07/01/2020\",\"07/02/2020\",\"07/03/2020\",\"07/06/2020\",\"07/07/2020\",\"07/08/2020\",\"07/09/2020\",\"07/10/2020\",\"07/11/2020\",\"07/12/2020\",\"07/13/2020\",\"07/14/2020\",\"07/15/2020\",\"07/16/2020\",\"07/17/2020\",\"07/18/2020\",\"07/20/2020\",\"07/21/2020\",\"07/22/2020\",\"07/23/2020\",\"07/24/2020\",\"07/25/2020\",\"07/27/2020\",\"07/28/2020\",\"07/29/2020\",\"07/30/2020\",\"07/31/2020\",\"08/03/2020\",\"08/04/2020\",\"08/05/2020\",\"08/06/2020\",\"08/07/2020\",\"08/08/2020\",\"08/09/2020\",\"08/10/2020\",\"08/11/2020\",\"08/12/2020\",\"08/13/2020\",\"08/14/2020\",\"08/16/2020\",\"08/17/2020\",\"08/18/2020\",\"08/19/2020\",\"08/20/2020\",\"08/21/2020\",\"08/22/2020\",\"08/23/2020\",\"08/24/2020\",\"08/25/2020\",\"08/26/2020\",\"08/27/2020\",\"08/28/2020\",\"08/29/2020\",\"08/30/2020\",\"08/31/2020\",\"09/01/2020\",\"09/02/2020\",\"09/03/2020\",\"09/04/2020\",\"09/05/2020\",\"09/06/2020\",\"09/07/2020\",\"09/08/2020\",\"09/09/2020\",\"09/10/2020\",\"09/11/2020\",\"09/12/2020\",\"09/13/2020\",\"09/14/2020\",\"09/15/2020\",\"09/16/2020\",\"09/17/2020\",\"09/18/2020\",\"09/19/2020\",\"09/20/2020\",\"09/21/2020\",\"09/22/2020\",\"09/23/2020\",\"09/24/2020\",\"09/25/2020\",\"09/26/2020\",\"09/27/2020\",\"09/28/2020\",\"09/29/2020\",\"09/30/2020\",\"10/01/2020\",\"10/06/2020\",\"10/07/2020\",\"10/08/2020\",\"10/13/2020\",\"10/15/2020\",\"10/20/2020\",\"10/22/2020\",\"10/23/2020\",\"10/26/2020\",\"10/27/2020\",\"10/28/2020\",\"10/29/2020\",\"10/30/2020\",\"10/31/2020\",\"11/02/2020\",\"11/03/2020\",\"11/04/2020\",\"11/05/2020\",\"11/06/2020\",\"11/09/2020\",\"11/10/2020\",\"11/11/2020\",\"11/12/2020\",\"11/13/2020\",\"11/14/2020\",\"11/15/2020\",\"11/16/2020\",\"11/17/2020\",\"11/18/2020\",\"11/19/2020\",\"11/20/2020\",\"11/21/2020\",\"11/22/2020\",\"11/23/2020\",\"11/24/2020\",\"11/25/2020\",\"11/26/2020\",\"11/27/2020\",\"11/28/2020\",\"11/29/2020\",\"11/30/2020\",\"12/01/2020\",\"12/02/2020\",\"12/03/2020\",\"12/04/2020\",\"12/05/2020\",\"12/06/2020\",\"12/07/2020\",\"12/08/2020\",\"12/09/2020\",\"12/10/2020\",\"12/11/2020\",\"12/12/2020\",\"12/13/2020\",\"12/14/2020\",\"12/15/2020\",\"12/16/2020\",\"12/17/2020\",\"12/18/2020\",\"12/19/2020\",\"12/20/2020\",\"12/21/2020\",\"12/22/2020\",\"12/23/2020\",\"12/24/2020\",\"12/25/2020\",\"12/27/2020\",\"12/28/2020\",\"12/29/2020\",\"12/30/2020\",\"12/31/2020\",\"01/02/2021\",\"01/03/2021\",\"01/04/2021\",\"01/05/2021\",\"01/06/2021\",\"01/07/2021\",\"01/08/2021\",\"01/09/2021\",\"01/10/2021\",\"01/11/2021\",\"01/12/2021\",\"01/13/2021\",\"01/14/2021\",\"01/15/2021\",\"01/16/2021\",\"01/17/2021\",\"01/18/2021\",\"01/19/2021\",\"01/20/2021\",\"01/21/2021\",\"01/22/2021\",\"01/23/2021\",\"01/24/2021\",\"01/25/2021\",\"01/26/2021\",\"01/27/2021\",\"01/28/2021\",\"01/29/2021\",\"01/30/2021\",\"01/31/2021\",\"02/01/2021\",\"02/02/2021\",\"02/03/2021\",\"02/04/2021\",\"02/05/2021\",\"02/06/2021\",\"02/07/2021\",\"02/08/2021\",\"02/09/2021\",\"02/10/2021\",\"02/11/2021\",\"02/12/2021\",\"02/13/2021\",\"02/14/2021\",\"02/15/2021\",\"02/16/2021\",\"02/17/2021\",\"02/18/2021\",\"02/19/2021\",\"02/20/2021\",\"02/21/2021\",\"02/22/2021\",\"02/23/2021\",\"02/24/2021\",\"02/25/2021\",\"02/26/2021\",\"02/27/2021\",\"02/28/2021\",\"03/01/2021\",\"03/02/2021\",\"03/03/2021\",\"03/04/2021\",\"03/05/2021\",\"03/06/2021\",\"03/07/2021\",\"03/08/2021\",\"03/09/2021\",\"03/10/2021\",\"03/11/2021\",\"03/12/2021\",\"03/13/2021\",\"03/14/2021\",\"03/15/2021\",\"03/16/2021\",\"03/17/2021\",\"03/18/2021\",\"03/19/2021\",\"03/20/2021\",\"03/21/2021\",\"03/22/2021\",\"03/23/2021\",\"03/24/2021\",\"03/25/2021\",\"03/26/2021\",\"03/27/2021\",\"03/28/2021\",\"03/29/2021\",\"03/30/2021\",\"03/31/2021\",\"04/01/2021\",\"04/02/2021\",\"04/03/2021\",\"04/04/2021\",\"04/05/2021\",\"04/06/2021\",\"04/07/2021\",\"04/08/2021\",\"04/09/2021\",\"04/10/2021\",\"04/11/2021\",\"04/12/2021\",\"04/13/2021\",\"04/14/2021\",\"04/15/2021\",\"04/16/2021\",\"04/17/2021\",\"04/18/2021\",\"04/19/2021\",\"04/20/2021\",\"04/21/2021\",\"04/22/2021\",\"04/23/2021\",\"04/24/2021\",\"04/25/2021\",\"04/26/2021\",\"04/27/2021\",\"04/28/2021\",\"04/29/2021\",\"04/30/2021\",\"05/01/2021\",\"05/02/2021\",\"05/03/2021\",\"05/04/2021\",\"05/05/2021\",\"05/06/2021\",\"05/07/2021\",\"05/08/2021\",\"05/09/2021\",\"05/10/2021\",\"05/11/2021\",\"05/12/2021\",\"05/13/2021\",\"05/14/2021\",\"05/15/2021\",\"05/17/2021\",\"05/18/2021\",\"05/19/2021\",\"05/20/2021\",\"05/21/2021\",\"05/22/2021\",\"05/23/2021\",\"05/24/2021\",\"05/25/2021\",\"05/26/2021\",\"05/27/2021\",\"05/28/2021\",\"05/31/2021\",\"06/02/2021\",\"06/03/2021\",\"06/04/2021\",\"06/06/2021\",\"06/07/2021\",\"06/08/2021\",\"06/09/2021\",\"06/10/2021\",\"06/11/2021\",\"06/12/2021\",\"06/15/2021\",\"06/16/2021\",\"06/17/2021\"],\"legendgroup\":\"\",\"line\":{\"color\":\"rgb(76,114,176)\",\"dash\":\"solid\"},\"mode\":\"lines\",\"name\":\"\",\"orientation\":\"v\",\"showlegend\":false,\"type\":\"scatter\",\"x\":[\"2020-04-08T00:00:00\",\"2020-04-09T00:00:00\",\"2020-04-10T00:00:00\",\"2020-04-11T00:00:00\",\"2020-04-12T00:00:00\",\"2020-04-13T00:00:00\",\"2020-04-14T00:00:00\",\"2020-04-15T00:00:00\",\"2020-04-16T00:00:00\",\"2020-04-17T00:00:00\",\"2020-04-18T00:00:00\",\"2020-04-19T00:00:00\",\"2020-04-20T00:00:00\",\"2020-04-21T00:00:00\",\"2020-04-22T00:00:00\",\"2020-04-23T00:00:00\",\"2020-04-24T00:00:00\",\"2020-04-25T00:00:00\",\"2020-04-26T00:00:00\",\"2020-04-27T00:00:00\",\"2020-04-28T00:00:00\",\"2020-04-29T00:00:00\",\"2020-04-30T00:00:00\",\"2020-05-01T00:00:00\",\"2020-05-02T00:00:00\",\"2020-05-03T00:00:00\",\"2020-05-04T00:00:00\",\"2020-05-05T00:00:00\",\"2020-05-06T00:00:00\",\"2020-05-07T00:00:00\",\"2020-05-08T00:00:00\",\"2020-05-09T00:00:00\",\"2020-05-10T00:00:00\",\"2020-05-11T00:00:00\",\"2020-05-12T00:00:00\",\"2020-05-13T00:00:00\",\"2020-05-14T00:00:00\",\"2020-05-15T00:00:00\",\"2020-05-16T00:00:00\",\"2020-05-17T00:00:00\",\"2020-05-18T00:00:00\",\"2020-05-19T00:00:00\",\"2020-05-20T00:00:00\",\"2020-05-21T00:00:00\",\"2020-05-22T00:00:00\",\"2020-05-23T00:00:00\",\"2020-05-24T00:00:00\",\"2020-05-25T00:00:00\",\"2020-05-26T00:00:00\",\"2020-05-27T00:00:00\",\"2020-05-28T00:00:00\",\"2020-05-29T00:00:00\",\"2020-05-30T00:00:00\",\"2020-05-31T00:00:00\",\"2020-06-01T00:00:00\",\"2020-06-02T00:00:00\",\"2020-06-03T00:00:00\",\"2020-06-04T00:00:00\",\"2020-06-05T00:00:00\",\"2020-06-06T00:00:00\",\"2020-06-07T00:00:00\",\"2020-06-08T00:00:00\",\"2020-06-09T00:00:00\",\"2020-06-10T00:00:00\",\"2020-06-11T00:00:00\",\"2020-06-12T00:00:00\",\"2020-06-13T00:00:00\",\"2020-06-14T00:00:00\",\"2020-06-15T00:00:00\",\"2020-06-16T00:00:00\",\"2020-06-17T00:00:00\",\"2020-06-18T00:00:00\",\"2020-06-19T00:00:00\",\"2020-06-20T00:00:00\",\"2020-06-21T00:00:00\",\"2020-06-22T00:00:00\",\"2020-06-23T00:00:00\",\"2020-06-24T00:00:00\",\"2020-06-25T00:00:00\",\"2020-06-26T00:00:00\",\"2020-06-29T00:00:00\",\"2020-06-30T00:00:00\",\"2020-07-01T00:00:00\",\"2020-07-02T00:00:00\",\"2020-07-03T00:00:00\",\"2020-07-06T00:00:00\",\"2020-07-07T00:00:00\",\"2020-07-08T00:00:00\",\"2020-07-09T00:00:00\",\"2020-07-10T00:00:00\",\"2020-07-11T00:00:00\",\"2020-07-12T00:00:00\",\"2020-07-13T00:00:00\",\"2020-07-14T00:00:00\",\"2020-07-15T00:00:00\",\"2020-07-16T00:00:00\",\"2020-07-17T00:00:00\",\"2020-07-18T00:00:00\",\"2020-07-20T00:00:00\",\"2020-07-21T00:00:00\",\"2020-07-22T00:00:00\",\"2020-07-23T00:00:00\",\"2020-07-24T00:00:00\",\"2020-07-25T00:00:00\",\"2020-07-27T00:00:00\",\"2020-07-28T00:00:00\",\"2020-07-29T00:00:00\",\"2020-07-30T00:00:00\",\"2020-07-31T00:00:00\",\"2020-08-03T00:00:00\",\"2020-08-04T00:00:00\",\"2020-08-05T00:00:00\",\"2020-08-06T00:00:00\",\"2020-08-07T00:00:00\",\"2020-08-08T00:00:00\",\"2020-08-09T00:00:00\",\"2020-08-10T00:00:00\",\"2020-08-11T00:00:00\",\"2020-08-12T00:00:00\",\"2020-08-13T00:00:00\",\"2020-08-14T00:00:00\",\"2020-08-16T00:00:00\",\"2020-08-17T00:00:00\",\"2020-08-18T00:00:00\",\"2020-08-19T00:00:00\",\"2020-08-20T00:00:00\",\"2020-08-21T00:00:00\",\"2020-08-22T00:00:00\",\"2020-08-23T00:00:00\",\"2020-08-24T00:00:00\",\"2020-08-25T00:00:00\",\"2020-08-26T00:00:00\",\"2020-08-27T00:00:00\",\"2020-08-28T00:00:00\",\"2020-08-29T00:00:00\",\"2020-08-30T00:00:00\",\"2020-08-31T00:00:00\",\"2020-09-01T00:00:00\",\"2020-09-02T00:00:00\",\"2020-09-03T00:00:00\",\"2020-09-04T00:00:00\",\"2020-09-05T00:00:00\",\"2020-09-06T00:00:00\",\"2020-09-07T00:00:00\",\"2020-09-08T00:00:00\",\"2020-09-09T00:00:00\",\"2020-09-10T00:00:00\",\"2020-09-11T00:00:00\",\"2020-09-12T00:00:00\",\"2020-09-13T00:00:00\",\"2020-09-14T00:00:00\",\"2020-09-15T00:00:00\",\"2020-09-16T00:00:00\",\"2020-09-17T00:00:00\",\"2020-09-18T00:00:00\",\"2020-09-19T00:00:00\",\"2020-09-20T00:00:00\",\"2020-09-21T00:00:00\",\"2020-09-22T00:00:00\",\"2020-09-23T00:00:00\",\"2020-09-24T00:00:00\",\"2020-09-25T00:00:00\",\"2020-09-26T00:00:00\",\"2020-09-27T00:00:00\",\"2020-09-28T00:00:00\",\"2020-09-29T00:00:00\",\"2020-09-30T00:00:00\",\"2020-10-01T00:00:00\",\"2020-10-06T00:00:00\",\"2020-10-07T00:00:00\",\"2020-10-08T00:00:00\",\"2020-10-13T00:00:00\",\"2020-10-15T00:00:00\",\"2020-10-20T00:00:00\",\"2020-10-22T00:00:00\",\"2020-10-23T00:00:00\",\"2020-10-26T00:00:00\",\"2020-10-27T00:00:00\",\"2020-10-28T00:00:00\",\"2020-10-29T00:00:00\",\"2020-10-30T00:00:00\",\"2020-10-31T00:00:00\",\"2020-11-02T00:00:00\",\"2020-11-03T00:00:00\",\"2020-11-04T00:00:00\",\"2020-11-05T00:00:00\",\"2020-11-06T00:00:00\",\"2020-11-09T00:00:00\",\"2020-11-10T00:00:00\",\"2020-11-11T00:00:00\",\"2020-11-12T00:00:00\",\"2020-11-13T00:00:00\",\"2020-11-14T00:00:00\",\"2020-11-15T00:00:00\",\"2020-11-16T00:00:00\",\"2020-11-17T00:00:00\",\"2020-11-18T00:00:00\",\"2020-11-19T00:00:00\",\"2020-11-20T00:00:00\",\"2020-11-21T00:00:00\",\"2020-11-22T00:00:00\",\"2020-11-23T00:00:00\",\"2020-11-24T00:00:00\",\"2020-11-25T00:00:00\",\"2020-11-26T00:00:00\",\"2020-11-27T00:00:00\",\"2020-11-28T00:00:00\",\"2020-11-29T00:00:00\",\"2020-11-30T00:00:00\",\"2020-12-01T00:00:00\",\"2020-12-02T00:00:00\",\"2020-12-03T00:00:00\",\"2020-12-04T00:00:00\",\"2020-12-05T00:00:00\",\"2020-12-06T00:00:00\",\"2020-12-07T00:00:00\",\"2020-12-08T00:00:00\",\"2020-12-09T00:00:00\",\"2020-12-10T00:00:00\",\"2020-12-11T00:00:00\",\"2020-12-12T00:00:00\",\"2020-12-13T00:00:00\",\"2020-12-14T00:00:00\",\"2020-12-15T00:00:00\",\"2020-12-16T00:00:00\",\"2020-12-17T00:00:00\",\"2020-12-18T00:00:00\",\"2020-12-19T00:00:00\",\"2020-12-20T00:00:00\",\"2020-12-21T00:00:00\",\"2020-12-22T00:00:00\",\"2020-12-23T00:00:00\",\"2020-12-24T00:00:00\",\"2020-12-25T00:00:00\",\"2020-12-27T00:00:00\",\"2020-12-28T00:00:00\",\"2020-12-29T00:00:00\",\"2020-12-30T00:00:00\",\"2020-12-31T00:00:00\",\"2021-01-02T00:00:00\",\"2021-01-03T00:00:00\",\"2021-01-04T00:00:00\",\"2021-01-05T00:00:00\",\"2021-01-06T00:00:00\",\"2021-01-07T00:00:00\",\"2021-01-08T00:00:00\",\"2021-01-09T00:00:00\",\"2021-01-10T00:00:00\",\"2021-01-11T00:00:00\",\"2021-01-12T00:00:00\",\"2021-01-13T00:00:00\",\"2021-01-14T00:00:00\",\"2021-01-15T00:00:00\",\"2021-01-16T00:00:00\",\"2021-01-17T00:00:00\",\"2021-01-18T00:00:00\",\"2021-01-19T00:00:00\",\"2021-01-20T00:00:00\",\"2021-01-21T00:00:00\",\"2021-01-22T00:00:00\",\"2021-01-23T00:00:00\",\"2021-01-24T00:00:00\",\"2021-01-25T00:00:00\",\"2021-01-26T00:00:00\",\"2021-01-27T00:00:00\",\"2021-01-28T00:00:00\",\"2021-01-29T00:00:00\",\"2021-01-30T00:00:00\",\"2021-01-31T00:00:00\",\"2021-02-01T00:00:00\",\"2021-02-02T00:00:00\",\"2021-02-03T00:00:00\",\"2021-02-04T00:00:00\",\"2021-02-05T00:00:00\",\"2021-02-06T00:00:00\",\"2021-02-07T00:00:00\",\"2021-02-08T00:00:00\",\"2021-02-09T00:00:00\",\"2021-02-10T00:00:00\",\"2021-02-11T00:00:00\",\"2021-02-12T00:00:00\",\"2021-02-13T00:00:00\",\"2021-02-14T00:00:00\",\"2021-02-15T00:00:00\",\"2021-02-16T00:00:00\",\"2021-02-17T00:00:00\",\"2021-02-18T00:00:00\",\"2021-02-19T00:00:00\",\"2021-02-20T00:00:00\",\"2021-02-21T00:00:00\",\"2021-02-22T00:00:00\",\"2021-02-23T00:00:00\",\"2021-02-24T00:00:00\",\"2021-02-25T00:00:00\",\"2021-02-26T00:00:00\",\"2021-02-27T00:00:00\",\"2021-02-28T00:00:00\",\"2021-03-01T00:00:00\",\"2021-03-02T00:00:00\",\"2021-03-03T00:00:00\",\"2021-03-04T00:00:00\",\"2021-03-05T00:00:00\",\"2021-03-06T00:00:00\",\"2021-03-07T00:00:00\",\"2021-03-08T00:00:00\",\"2021-03-09T00:00:00\",\"2021-03-10T00:00:00\",\"2021-03-11T00:00:00\",\"2021-03-12T00:00:00\",\"2021-03-13T00:00:00\",\"2021-03-14T00:00:00\",\"2021-03-15T00:00:00\",\"2021-03-16T00:00:00\",\"2021-03-17T00:00:00\",\"2021-03-18T00:00:00\",\"2021-03-19T00:00:00\",\"2021-03-20T00:00:00\",\"2021-03-21T00:00:00\",\"2021-03-22T00:00:00\",\"2021-03-23T00:00:00\",\"2021-03-24T00:00:00\",\"2021-03-25T00:00:00\",\"2021-03-26T00:00:00\",\"2021-03-27T00:00:00\",\"2021-03-28T00:00:00\",\"2021-03-29T00:00:00\",\"2021-03-30T00:00:00\",\"2021-03-31T00:00:00\",\"2021-04-01T00:00:00\",\"2021-04-02T00:00:00\",\"2021-04-03T00:00:00\",\"2021-04-04T00:00:00\",\"2021-04-05T00:00:00\",\"2021-04-06T00:00:00\",\"2021-04-07T00:00:00\",\"2021-04-08T00:00:00\",\"2021-04-09T00:00:00\",\"2021-04-10T00:00:00\",\"2021-04-11T00:00:00\",\"2021-04-12T00:00:00\",\"2021-04-13T00:00:00\",\"2021-04-14T00:00:00\",\"2021-04-15T00:00:00\",\"2021-04-16T00:00:00\",\"2021-04-17T00:00:00\",\"2021-04-18T00:00:00\",\"2021-04-19T00:00:00\",\"2021-04-20T00:00:00\",\"2021-04-21T00:00:00\",\"2021-04-22T00:00:00\",\"2021-04-23T00:00:00\",\"2021-04-24T00:00:00\",\"2021-04-25T00:00:00\",\"2021-04-26T00:00:00\",\"2021-04-27T00:00:00\",\"2021-04-28T00:00:00\",\"2021-04-29T00:00:00\",\"2021-04-30T00:00:00\",\"2021-05-01T00:00:00\",\"2021-05-02T00:00:00\",\"2021-05-03T00:00:00\",\"2021-05-04T00:00:00\",\"2021-05-05T00:00:00\",\"2021-05-06T00:00:00\",\"2021-05-07T00:00:00\",\"2021-05-08T00:00:00\",\"2021-05-09T00:00:00\",\"2021-05-10T00:00:00\",\"2021-05-11T00:00:00\",\"2021-05-12T00:00:00\",\"2021-05-13T00:00:00\",\"2021-05-14T00:00:00\",\"2021-05-15T00:00:00\",\"2021-05-17T00:00:00\",\"2021-05-18T00:00:00\",\"2021-05-19T00:00:00\",\"2021-05-20T00:00:00\",\"2021-05-21T00:00:00\",\"2021-05-22T00:00:00\",\"2021-05-23T00:00:00\",\"2021-05-24T00:00:00\",\"2021-05-25T00:00:00\",\"2021-05-26T00:00:00\",\"2021-05-27T00:00:00\",\"2021-05-28T00:00:00\",\"2021-05-31T00:00:00\",\"2021-06-02T00:00:00\",\"2021-06-03T00:00:00\",\"2021-06-04T00:00:00\",\"2021-06-06T00:00:00\",\"2021-06-07T00:00:00\",\"2021-06-08T00:00:00\",\"2021-06-09T00:00:00\",\"2021-06-10T00:00:00\",\"2021-06-11T00:00:00\",\"2021-06-12T00:00:00\",\"2021-06-15T00:00:00\",\"2021-06-16T00:00:00\",\"2021-06-17T00:00:00\"],\"xaxis\":\"x\",\"y\":[4290,1279,764,247,21,80,435,342,199,372,45,23,237,185,168,112,129,12,13,94,72,279,128,60,168,68,413,413,375,516,406,143,59,732,458,468,286,206,40,17,157,134,89,95,81,5,2,84,75,137,110,114,28,39,41,2,45,58,53,6,8,45,63,42,33,30,13,4,40,43,47,32,32,9,2,31,47,46,66,18,37,66,42,24,33,26,26,10,21,6,3,3,15,31,48,20,44,3,7,9,7,15,5,2,7,14,11,11,3,4,1265,155,124,101,17,5,43,74,73,66,62,1,36,28,37,51,13,5,2,30,38,42,45,64,20,6,206,4,8,9,7,1,1,7,10,10,317,71,28,5,31,47,37,17,30,23,4,37,42,34,47,37,27,5,82,94,98,1,1,1,1,1,2,1,3,4,48,12,16,33,22,7,5,3,6,16,3,7,9,2381,1383,962,310,204,590,572,415,345,278,109,55,180,211,187,181,154,43,45,148,74,94,102,210,58,31,85,24,72,64,56,23,17,55,61,64,45,63,10,13,12,26,21,2,2,6,10,9,9,6,3,3,11,4,4,7,3,2,1,10,10,5,10,13,2,2,9,5,6,13,7,3,2,14,127,9,10,8,7,3,11,17,6,4021,551,144,64,315,199,167,5650,506,112,45,274,262,8173,626,436,122,50,379,202,214,314,76,15,11,75,119,195,18,11,7,5,13,10,9,13,3,4,1,2,5,6,13,20,5,4,24,17,12,14,13,11,2,10,16,18,11,20,6,5,4,19,25,29,26,7,8,16,19,9,43,28,15,5,27,14,23,21,34,6,11,23,23,24,17,13,8,3,5,16,11,13,5,2,2,11,12,11,7,9,10,6,5,5,7,6,4,1,4,4,5,5,1,2,1,2,4,2,6,2,4,1,3,1,3,2,3],\"yaxis\":\"y\"},{\"hovertemplate\":[\"<br><b><i>%{x}</i></b><br><i>Avviso</i>:<br> <b>CIG Deroga 2020 covid 19</b><extra></extra>\",\"<br><b><i>%{x}</i></b><br><i>Avviso</i>:<br> <b>Fondo di rotazione</b><extra></extra>\",\"<br><b><i>%{x}</i></b><br><i>Avviso</i>:<br> <b>DSAL 2020 - Under 35</b><extra></extra>\",\"<br><b><i>%{x}</i></b><br><i>Avviso</i>:<br> <b>DSAL 2020 - Over 35</b><extra></extra>\",\"<br><b><i>%{x}</i></b><br><i>Avviso</i>:<br> <b>SSE Lavoro Sardegna LR 22 ART 12 comma 1 e 2</b><extra></extra>\",\"<br><b><i>%{x}</i></b><br><i>Avviso</i>:<br> <b>SSE Lavoro Sardegna LR 22 ART 12 comma 3</b><extra></extra>\",\"<br><b><i>%{x}</i></b><br><i>Avviso</i>:<br> <b>LR22 ART. 11 - Percorsi formativi disoccupati</b><extra></extra>\",\"<br><b><i>%{x}</i></b><br><i>Avviso</i>:<br> <b>LR22ART9</b><extra></extra>\",\"<br><b><i>%{x}</i></b><br><i>Avviso</i>:<br> <b>SSE Lavoro Sardegna LR 22 ART 12 comma 4</b><extra></extra>\",\"<br><b><i>%{x}</i></b><br><i>Avviso</i>:<br> <b>LR22ART8</b><extra></extra>\",\"<br><b><i>%{x}</i></b><br><i>Avviso</i>:<br> <b>LR22 ART. 11 - Comma 1, lett.a-b</b><extra></extra>\",\"<br><b><i>%{x}</i></b><br><i>Avviso</i>:<br> <b>LR30 ART. 5</b><extra></extra>\",\"<br><b><i>%{x}</i></b><br><i>Avviso</i>:<br> <b>(R)ESISTO - Linea Grandi imprese</b><extra></extra>\",\"<br><b><i>%{x}</i></b><br><i>Avviso</i>:<br> <b>(R)ESISTO - Linea Lavoratori e Lavoratrici</b><extra></extra>\",\"<br><b><i>%{x}</i></b><br><i>Avviso</i>:<br> <b>(R)ESISTO - Linea Micro e Piccole Medie Imprese</b><extra></extra>\",\"<br><b><i>%{x}</i></b><br><i>Avviso</i>:<br> <b>LR22ART9D</b><extra></extra>\"],\"hovertext\":\"Femmine\",\"marker\":{\"color\":\"indianred\"},\"mode\":\"markers\",\"name\":\"Apertura avviso\",\"type\":\"scatter\",\"x\":[\"2020-04-08\",\"2020-04-29\",\"2020-08-04\",\"2020-08-04\",\"2020-09-10\",\"2020-10-26\",\"2020-11-06\",\"2020-11-11\",\"2020-12-04\",\"2020-12-04\",\"2021-01-26\",\"2021-02-04\",\"2021-02-08\",\"2021-02-11\",\"2021-02-17\",\"2021-04-15\"],\"y\":[1,1,1,1,1,1,1,1,1,1,1,1,1,1,1,1]}],                        {\"legend\":{\"tracegroupgap\":0},\"shapes\":[{\"fillcolor\":\"green\",\"line\":{\"width\":0},\"opacity\":0.1,\"type\":\"rect\",\"x0\":\"2020-04-08\",\"x1\":\"2020-08-31\",\"xref\":\"x\",\"y0\":0,\"y1\":1,\"yref\":\"y domain\"},{\"fillcolor\":\"green\",\"line\":{\"width\":0},\"opacity\":0.1,\"type\":\"rect\",\"x0\":\"2020-04-29\",\"x1\":\"2020-07-31\",\"xref\":\"x\",\"y0\":0,\"y1\":1,\"yref\":\"y domain\"},{\"fillcolor\":\"green\",\"line\":{\"width\":0},\"opacity\":0.1,\"type\":\"rect\",\"x0\":\"2020-08-04\",\"x1\":\"2020-09-10\",\"xref\":\"x\",\"y0\":0,\"y1\":1,\"yref\":\"y domain\"},{\"fillcolor\":\"green\",\"line\":{\"width\":0},\"opacity\":0.1,\"type\":\"rect\",\"x0\":\"2020-08-04\",\"x1\":\"2020-09-10\",\"xref\":\"x\",\"y0\":0,\"y1\":1,\"yref\":\"y domain\"},{\"fillcolor\":\"green\",\"line\":{\"width\":0},\"opacity\":0.1,\"type\":\"rect\",\"x0\":\"2020-09-10\",\"x1\":\"2020-09-30\",\"xref\":\"x\",\"y0\":0,\"y1\":1,\"yref\":\"y domain\"},{\"fillcolor\":\"green\",\"line\":{\"width\":0},\"opacity\":0.1,\"type\":\"rect\",\"x0\":\"2020-10-26\",\"x1\":\"2020-11-12\",\"xref\":\"x\",\"y0\":0,\"y1\":1,\"yref\":\"y domain\"},{\"fillcolor\":\"green\",\"line\":{\"width\":0},\"opacity\":0.1,\"type\":\"rect\",\"x0\":\"2020-11-06\",\"x1\":\"2020-11-30\",\"xref\":\"x\",\"y0\":0,\"y1\":1,\"yref\":\"y domain\"},{\"fillcolor\":\"green\",\"line\":{\"width\":0},\"opacity\":0.1,\"type\":\"rect\",\"x0\":\"2020-11-11\",\"x1\":\"2021-03-31\",\"xref\":\"x\",\"y0\":0,\"y1\":1,\"yref\":\"y domain\"},{\"fillcolor\":\"green\",\"line\":{\"width\":0},\"opacity\":0.1,\"type\":\"rect\",\"x0\":\"2020-12-04\",\"x1\":\"2020-12-18\",\"xref\":\"x\",\"y0\":0,\"y1\":1,\"yref\":\"y domain\"},{\"fillcolor\":\"green\",\"line\":{\"width\":0},\"opacity\":0.1,\"type\":\"rect\",\"x0\":\"2020-12-04\",\"x1\":\"2021-04-04\",\"xref\":\"x\",\"y0\":0,\"y1\":1,\"yref\":\"y domain\"},{\"fillcolor\":\"green\",\"line\":{\"width\":0},\"opacity\":0.1,\"type\":\"rect\",\"x0\":\"2021-01-26\",\"x1\":\"2021-02-10\",\"xref\":\"x\",\"y0\":0,\"y1\":1,\"yref\":\"y domain\"},{\"fillcolor\":\"green\",\"line\":{\"width\":0},\"opacity\":0.1,\"type\":\"rect\",\"x0\":\"2021-02-04\",\"x1\":\"2021-02-22\",\"xref\":\"x\",\"y0\":0,\"y1\":1,\"yref\":\"y domain\"},{\"fillcolor\":\"green\",\"line\":{\"width\":0},\"opacity\":0.1,\"type\":\"rect\",\"x0\":\"2021-02-08\",\"x1\":\"2021-02-22\",\"xref\":\"x\",\"y0\":0,\"y1\":1,\"yref\":\"y domain\"},{\"fillcolor\":\"green\",\"line\":{\"width\":0},\"opacity\":0.1,\"type\":\"rect\",\"x0\":\"2021-02-11\",\"x1\":\"2021-02-25\",\"xref\":\"x\",\"y0\":0,\"y1\":1,\"yref\":\"y domain\"},{\"fillcolor\":\"green\",\"line\":{\"width\":0},\"opacity\":0.1,\"type\":\"rect\",\"x0\":\"2021-02-17\",\"x1\":\"2021-03-03\",\"xref\":\"x\",\"y0\":0,\"y1\":1,\"yref\":\"y domain\"},{\"fillcolor\":\"green\",\"line\":{\"width\":0},\"opacity\":0.1,\"type\":\"rect\",\"x0\":\"2021-04-15\",\"x1\":\"2021-04-15\",\"xref\":\"x\",\"y0\":0,\"y1\":1,\"yref\":\"y domain\"}],\"template\":{\"data\":{\"bar\":[{\"error_x\":{\"color\":\"rgb(36,36,36)\"},\"error_y\":{\"color\":\"rgb(36,36,36)\"},\"marker\":{\"line\":{\"color\":\"rgb(234,234,242)\",\"width\":0.5},\"pattern\":{\"fillmode\":\"overlay\",\"size\":10,\"solidity\":0.2}},\"type\":\"bar\"}],\"barpolar\":[{\"marker\":{\"line\":{\"color\":\"rgb(234,234,242)\",\"width\":0.5},\"pattern\":{\"fillmode\":\"overlay\",\"size\":10,\"solidity\":0.2}},\"type\":\"barpolar\"}],\"carpet\":[{\"aaxis\":{\"endlinecolor\":\"rgb(36,36,36)\",\"gridcolor\":\"white\",\"linecolor\":\"white\",\"minorgridcolor\":\"white\",\"startlinecolor\":\"rgb(36,36,36)\"},\"baxis\":{\"endlinecolor\":\"rgb(36,36,36)\",\"gridcolor\":\"white\",\"linecolor\":\"white\",\"minorgridcolor\":\"white\",\"startlinecolor\":\"rgb(36,36,36)\"},\"type\":\"carpet\"}],\"choropleth\":[{\"colorbar\":{\"outlinewidth\":0,\"tickcolor\":\"rgb(36,36,36)\",\"ticklen\":8,\"ticks\":\"outside\",\"tickwidth\":2},\"type\":\"choropleth\"}],\"contour\":[{\"colorbar\":{\"outlinewidth\":0,\"tickcolor\":\"rgb(36,36,36)\",\"ticklen\":8,\"ticks\":\"outside\",\"tickwidth\":2},\"colorscale\":[[0.0,\"rgb(2,4,25)\"],[0.06274509803921569,\"rgb(24,15,41)\"],[0.12549019607843137,\"rgb(47,23,57)\"],[0.18823529411764706,\"rgb(71,28,72)\"],[0.25098039215686274,\"rgb(97,30,82)\"],[0.3137254901960784,\"rgb(123,30,89)\"],[0.3764705882352941,\"rgb(150,27,91)\"],[0.4392156862745098,\"rgb(177,22,88)\"],[0.5019607843137255,\"rgb(203,26,79)\"],[0.5647058823529412,\"rgb(223,47,67)\"],[0.6274509803921569,\"rgb(236,76,61)\"],[0.6901960784313725,\"rgb(242,107,73)\"],[0.7529411764705882,\"rgb(244,135,95)\"],[0.8156862745098039,\"rgb(245,162,122)\"],[0.8784313725490196,\"rgb(246,188,153)\"],[0.9411764705882353,\"rgb(247,212,187)\"],[1.0,\"rgb(250,234,220)\"]],\"type\":\"contour\"}],\"contourcarpet\":[{\"colorbar\":{\"outlinewidth\":0,\"tickcolor\":\"rgb(36,36,36)\",\"ticklen\":8,\"ticks\":\"outside\",\"tickwidth\":2},\"type\":\"contourcarpet\"}],\"heatmap\":[{\"colorbar\":{\"outlinewidth\":0,\"tickcolor\":\"rgb(36,36,36)\",\"ticklen\":8,\"ticks\":\"outside\",\"tickwidth\":2},\"colorscale\":[[0.0,\"rgb(2,4,25)\"],[0.06274509803921569,\"rgb(24,15,41)\"],[0.12549019607843137,\"rgb(47,23,57)\"],[0.18823529411764706,\"rgb(71,28,72)\"],[0.25098039215686274,\"rgb(97,30,82)\"],[0.3137254901960784,\"rgb(123,30,89)\"],[0.3764705882352941,\"rgb(150,27,91)\"],[0.4392156862745098,\"rgb(177,22,88)\"],[0.5019607843137255,\"rgb(203,26,79)\"],[0.5647058823529412,\"rgb(223,47,67)\"],[0.6274509803921569,\"rgb(236,76,61)\"],[0.6901960784313725,\"rgb(242,107,73)\"],[0.7529411764705882,\"rgb(244,135,95)\"],[0.8156862745098039,\"rgb(245,162,122)\"],[0.8784313725490196,\"rgb(246,188,153)\"],[0.9411764705882353,\"rgb(247,212,187)\"],[1.0,\"rgb(250,234,220)\"]],\"type\":\"heatmap\"}],\"heatmapgl\":[{\"colorbar\":{\"outlinewidth\":0,\"tickcolor\":\"rgb(36,36,36)\",\"ticklen\":8,\"ticks\":\"outside\",\"tickwidth\":2},\"colorscale\":[[0.0,\"rgb(2,4,25)\"],[0.06274509803921569,\"rgb(24,15,41)\"],[0.12549019607843137,\"rgb(47,23,57)\"],[0.18823529411764706,\"rgb(71,28,72)\"],[0.25098039215686274,\"rgb(97,30,82)\"],[0.3137254901960784,\"rgb(123,30,89)\"],[0.3764705882352941,\"rgb(150,27,91)\"],[0.4392156862745098,\"rgb(177,22,88)\"],[0.5019607843137255,\"rgb(203,26,79)\"],[0.5647058823529412,\"rgb(223,47,67)\"],[0.6274509803921569,\"rgb(236,76,61)\"],[0.6901960784313725,\"rgb(242,107,73)\"],[0.7529411764705882,\"rgb(244,135,95)\"],[0.8156862745098039,\"rgb(245,162,122)\"],[0.8784313725490196,\"rgb(246,188,153)\"],[0.9411764705882353,\"rgb(247,212,187)\"],[1.0,\"rgb(250,234,220)\"]],\"type\":\"heatmapgl\"}],\"histogram\":[{\"marker\":{\"pattern\":{\"fillmode\":\"overlay\",\"size\":10,\"solidity\":0.2}},\"type\":\"histogram\"}],\"histogram2d\":[{\"colorbar\":{\"outlinewidth\":0,\"tickcolor\":\"rgb(36,36,36)\",\"ticklen\":8,\"ticks\":\"outside\",\"tickwidth\":2},\"colorscale\":[[0.0,\"rgb(2,4,25)\"],[0.06274509803921569,\"rgb(24,15,41)\"],[0.12549019607843137,\"rgb(47,23,57)\"],[0.18823529411764706,\"rgb(71,28,72)\"],[0.25098039215686274,\"rgb(97,30,82)\"],[0.3137254901960784,\"rgb(123,30,89)\"],[0.3764705882352941,\"rgb(150,27,91)\"],[0.4392156862745098,\"rgb(177,22,88)\"],[0.5019607843137255,\"rgb(203,26,79)\"],[0.5647058823529412,\"rgb(223,47,67)\"],[0.6274509803921569,\"rgb(236,76,61)\"],[0.6901960784313725,\"rgb(242,107,73)\"],[0.7529411764705882,\"rgb(244,135,95)\"],[0.8156862745098039,\"rgb(245,162,122)\"],[0.8784313725490196,\"rgb(246,188,153)\"],[0.9411764705882353,\"rgb(247,212,187)\"],[1.0,\"rgb(250,234,220)\"]],\"type\":\"histogram2d\"}],\"histogram2dcontour\":[{\"colorbar\":{\"outlinewidth\":0,\"tickcolor\":\"rgb(36,36,36)\",\"ticklen\":8,\"ticks\":\"outside\",\"tickwidth\":2},\"colorscale\":[[0.0,\"rgb(2,4,25)\"],[0.06274509803921569,\"rgb(24,15,41)\"],[0.12549019607843137,\"rgb(47,23,57)\"],[0.18823529411764706,\"rgb(71,28,72)\"],[0.25098039215686274,\"rgb(97,30,82)\"],[0.3137254901960784,\"rgb(123,30,89)\"],[0.3764705882352941,\"rgb(150,27,91)\"],[0.4392156862745098,\"rgb(177,22,88)\"],[0.5019607843137255,\"rgb(203,26,79)\"],[0.5647058823529412,\"rgb(223,47,67)\"],[0.6274509803921569,\"rgb(236,76,61)\"],[0.6901960784313725,\"rgb(242,107,73)\"],[0.7529411764705882,\"rgb(244,135,95)\"],[0.8156862745098039,\"rgb(245,162,122)\"],[0.8784313725490196,\"rgb(246,188,153)\"],[0.9411764705882353,\"rgb(247,212,187)\"],[1.0,\"rgb(250,234,220)\"]],\"type\":\"histogram2dcontour\"}],\"mesh3d\":[{\"colorbar\":{\"outlinewidth\":0,\"tickcolor\":\"rgb(36,36,36)\",\"ticklen\":8,\"ticks\":\"outside\",\"tickwidth\":2},\"type\":\"mesh3d\"}],\"parcoords\":[{\"line\":{\"colorbar\":{\"outlinewidth\":0,\"tickcolor\":\"rgb(36,36,36)\",\"ticklen\":8,\"ticks\":\"outside\",\"tickwidth\":2}},\"type\":\"parcoords\"}],\"pie\":[{\"automargin\":true,\"type\":\"pie\"}],\"scatter\":[{\"marker\":{\"colorbar\":{\"outlinewidth\":0,\"tickcolor\":\"rgb(36,36,36)\",\"ticklen\":8,\"ticks\":\"outside\",\"tickwidth\":2}},\"type\":\"scatter\"}],\"scatter3d\":[{\"line\":{\"colorbar\":{\"outlinewidth\":0,\"tickcolor\":\"rgb(36,36,36)\",\"ticklen\":8,\"ticks\":\"outside\",\"tickwidth\":2}},\"marker\":{\"colorbar\":{\"outlinewidth\":0,\"tickcolor\":\"rgb(36,36,36)\",\"ticklen\":8,\"ticks\":\"outside\",\"tickwidth\":2}},\"type\":\"scatter3d\"}],\"scattercarpet\":[{\"marker\":{\"colorbar\":{\"outlinewidth\":0,\"tickcolor\":\"rgb(36,36,36)\",\"ticklen\":8,\"ticks\":\"outside\",\"tickwidth\":2}},\"type\":\"scattercarpet\"}],\"scattergeo\":[{\"marker\":{\"colorbar\":{\"outlinewidth\":0,\"tickcolor\":\"rgb(36,36,36)\",\"ticklen\":8,\"ticks\":\"outside\",\"tickwidth\":2}},\"type\":\"scattergeo\"}],\"scattergl\":[{\"marker\":{\"colorbar\":{\"outlinewidth\":0,\"tickcolor\":\"rgb(36,36,36)\",\"ticklen\":8,\"ticks\":\"outside\",\"tickwidth\":2}},\"type\":\"scattergl\"}],\"scattermapbox\":[{\"marker\":{\"colorbar\":{\"outlinewidth\":0,\"tickcolor\":\"rgb(36,36,36)\",\"ticklen\":8,\"ticks\":\"outside\",\"tickwidth\":2}},\"type\":\"scattermapbox\"}],\"scatterpolar\":[{\"marker\":{\"colorbar\":{\"outlinewidth\":0,\"tickcolor\":\"rgb(36,36,36)\",\"ticklen\":8,\"ticks\":\"outside\",\"tickwidth\":2}},\"type\":\"scatterpolar\"}],\"scatterpolargl\":[{\"marker\":{\"colorbar\":{\"outlinewidth\":0,\"tickcolor\":\"rgb(36,36,36)\",\"ticklen\":8,\"ticks\":\"outside\",\"tickwidth\":2}},\"type\":\"scatterpolargl\"}],\"scatterternary\":[{\"marker\":{\"colorbar\":{\"outlinewidth\":0,\"tickcolor\":\"rgb(36,36,36)\",\"ticklen\":8,\"ticks\":\"outside\",\"tickwidth\":2}},\"type\":\"scatterternary\"}],\"surface\":[{\"colorbar\":{\"outlinewidth\":0,\"tickcolor\":\"rgb(36,36,36)\",\"ticklen\":8,\"ticks\":\"outside\",\"tickwidth\":2},\"colorscale\":[[0.0,\"rgb(2,4,25)\"],[0.06274509803921569,\"rgb(24,15,41)\"],[0.12549019607843137,\"rgb(47,23,57)\"],[0.18823529411764706,\"rgb(71,28,72)\"],[0.25098039215686274,\"rgb(97,30,82)\"],[0.3137254901960784,\"rgb(123,30,89)\"],[0.3764705882352941,\"rgb(150,27,91)\"],[0.4392156862745098,\"rgb(177,22,88)\"],[0.5019607843137255,\"rgb(203,26,79)\"],[0.5647058823529412,\"rgb(223,47,67)\"],[0.6274509803921569,\"rgb(236,76,61)\"],[0.6901960784313725,\"rgb(242,107,73)\"],[0.7529411764705882,\"rgb(244,135,95)\"],[0.8156862745098039,\"rgb(245,162,122)\"],[0.8784313725490196,\"rgb(246,188,153)\"],[0.9411764705882353,\"rgb(247,212,187)\"],[1.0,\"rgb(250,234,220)\"]],\"type\":\"surface\"}],\"table\":[{\"cells\":{\"fill\":{\"color\":\"rgb(231,231,240)\"},\"line\":{\"color\":\"white\"}},\"header\":{\"fill\":{\"color\":\"rgb(183,183,191)\"},\"line\":{\"color\":\"white\"}},\"type\":\"table\"}]},\"layout\":{\"annotationdefaults\":{\"arrowcolor\":\"rgb(67,103,167)\"},\"autotypenumbers\":\"strict\",\"coloraxis\":{\"colorbar\":{\"outlinewidth\":0,\"tickcolor\":\"rgb(36,36,36)\",\"ticklen\":8,\"ticks\":\"outside\",\"tickwidth\":2}},\"colorscale\":{\"sequential\":[[0.0,\"rgb(2,4,25)\"],[0.06274509803921569,\"rgb(24,15,41)\"],[0.12549019607843137,\"rgb(47,23,57)\"],[0.18823529411764706,\"rgb(71,28,72)\"],[0.25098039215686274,\"rgb(97,30,82)\"],[0.3137254901960784,\"rgb(123,30,89)\"],[0.3764705882352941,\"rgb(150,27,91)\"],[0.4392156862745098,\"rgb(177,22,88)\"],[0.5019607843137255,\"rgb(203,26,79)\"],[0.5647058823529412,\"rgb(223,47,67)\"],[0.6274509803921569,\"rgb(236,76,61)\"],[0.6901960784313725,\"rgb(242,107,73)\"],[0.7529411764705882,\"rgb(244,135,95)\"],[0.8156862745098039,\"rgb(245,162,122)\"],[0.8784313725490196,\"rgb(246,188,153)\"],[0.9411764705882353,\"rgb(247,212,187)\"],[1.0,\"rgb(250,234,220)\"]],\"sequentialminus\":[[0.0,\"rgb(2,4,25)\"],[0.06274509803921569,\"rgb(24,15,41)\"],[0.12549019607843137,\"rgb(47,23,57)\"],[0.18823529411764706,\"rgb(71,28,72)\"],[0.25098039215686274,\"rgb(97,30,82)\"],[0.3137254901960784,\"rgb(123,30,89)\"],[0.3764705882352941,\"rgb(150,27,91)\"],[0.4392156862745098,\"rgb(177,22,88)\"],[0.5019607843137255,\"rgb(203,26,79)\"],[0.5647058823529412,\"rgb(223,47,67)\"],[0.6274509803921569,\"rgb(236,76,61)\"],[0.6901960784313725,\"rgb(242,107,73)\"],[0.7529411764705882,\"rgb(244,135,95)\"],[0.8156862745098039,\"rgb(245,162,122)\"],[0.8784313725490196,\"rgb(246,188,153)\"],[0.9411764705882353,\"rgb(247,212,187)\"],[1.0,\"rgb(250,234,220)\"]]},\"colorway\":[\"rgb(76,114,176)\",\"rgb(221,132,82)\",\"rgb(85,168,104)\",\"rgb(196,78,82)\",\"rgb(129,114,179)\",\"rgb(147,120,96)\",\"rgb(218,139,195)\",\"rgb(140,140,140)\",\"rgb(204,185,116)\",\"rgb(100,181,205)\"],\"font\":{\"color\":\"rgb(36,36,36)\"},\"geo\":{\"bgcolor\":\"white\",\"lakecolor\":\"white\",\"landcolor\":\"rgb(234,234,242)\",\"showlakes\":true,\"showland\":true,\"subunitcolor\":\"white\"},\"hoverlabel\":{\"align\":\"left\"},\"hovermode\":\"closest\",\"paper_bgcolor\":\"white\",\"plot_bgcolor\":\"rgb(234,234,242)\",\"polar\":{\"angularaxis\":{\"gridcolor\":\"white\",\"linecolor\":\"white\",\"showgrid\":true,\"ticks\":\"\"},\"bgcolor\":\"rgb(234,234,242)\",\"radialaxis\":{\"gridcolor\":\"white\",\"linecolor\":\"white\",\"showgrid\":true,\"ticks\":\"\"}},\"scene\":{\"xaxis\":{\"backgroundcolor\":\"rgb(234,234,242)\",\"gridcolor\":\"white\",\"gridwidth\":2,\"linecolor\":\"white\",\"showbackground\":true,\"showgrid\":true,\"ticks\":\"\",\"zerolinecolor\":\"white\"},\"yaxis\":{\"backgroundcolor\":\"rgb(234,234,242)\",\"gridcolor\":\"white\",\"gridwidth\":2,\"linecolor\":\"white\",\"showbackground\":true,\"showgrid\":true,\"ticks\":\"\",\"zerolinecolor\":\"white\"},\"zaxis\":{\"backgroundcolor\":\"rgb(234,234,242)\",\"gridcolor\":\"white\",\"gridwidth\":2,\"linecolor\":\"white\",\"showbackground\":true,\"showgrid\":true,\"ticks\":\"\",\"zerolinecolor\":\"white\"}},\"shapedefaults\":{\"fillcolor\":\"rgb(67,103,167)\",\"line\":{\"width\":0},\"opacity\":0.5},\"ternary\":{\"aaxis\":{\"gridcolor\":\"white\",\"linecolor\":\"white\",\"showgrid\":true,\"ticks\":\"\"},\"baxis\":{\"gridcolor\":\"white\",\"linecolor\":\"white\",\"showgrid\":true,\"ticks\":\"\"},\"bgcolor\":\"rgb(234,234,242)\",\"caxis\":{\"gridcolor\":\"white\",\"linecolor\":\"white\",\"showgrid\":true,\"ticks\":\"\"}},\"xaxis\":{\"automargin\":true,\"gridcolor\":\"white\",\"linecolor\":\"white\",\"showgrid\":true,\"ticks\":\"\",\"title\":{\"standoff\":15},\"zerolinecolor\":\"white\"},\"yaxis\":{\"automargin\":true,\"gridcolor\":\"white\",\"linecolor\":\"white\",\"showgrid\":true,\"ticks\":\"\",\"title\":{\"standoff\":15},\"zerolinecolor\":\"white\"}}},\"title\":{\"text\":\"Andamento presentazione delle domande\"},\"xaxis\":{\"anchor\":\"y\",\"domain\":[0.0,1.0],\"title\":{\"text\":\"Data Invio\"}},\"yaxis\":{\"anchor\":\"x\",\"domain\":[0.0,1.0],\"title\":{\"text\":\"N. Domande\"}}},                        {\"responsive\": true}                    ).then(function(){\n",
              "                            \n",
              "var gd = document.getElementById('13cd512a-ea86-4e26-8818-64376513d4ba');\n",
              "var x = new MutationObserver(function (mutations, observer) {{\n",
              "        var display = window.getComputedStyle(gd).display;\n",
              "        if (!display || display === 'none') {{\n",
              "            console.log([gd, 'removed!']);\n",
              "            Plotly.purge(gd);\n",
              "            observer.disconnect();\n",
              "        }}\n",
              "}});\n",
              "\n",
              "// Listen for the removal of the full notebook cells\n",
              "var notebookContainer = gd.closest('#notebook-container');\n",
              "if (notebookContainer) {{\n",
              "    x.observe(notebookContainer, {childList: true});\n",
              "}}\n",
              "\n",
              "// Listen for the clearing of the current output cell\n",
              "var outputEl = gd.closest('.output');\n",
              "if (outputEl) {{\n",
              "    x.observe(outputEl, {childList: true});\n",
              "}}\n",
              "\n",
              "                        })                };                            </script>        </div>\n",
              "</body>\n",
              "</html>"
            ]
          },
          "metadata": {
            "tags": []
          }
        }
      ]
    },
    {
      "cell_type": "markdown",
      "metadata": {
        "id": "-O3DyHK0gglb"
      },
      "source": [
        "###Erogazione dei fondi\n",
        "E' esplorato l'andamento generale di tre elementi relativi ai fondi tracciati sul SIL Sardegna:\n",
        "1. Budget Prenotato (somma degli importi richiesti attraverso presentazione di domanda telematica)\n",
        "2. Budget Approvato (somma degli importi approvati attraverso esito istruttorio)\n",
        "3. Budget Concesso (somma degli importi che sono stati inseriti in determina di concessione verso i beneficiari)\n"
      ]
    },
    {
      "cell_type": "code",
      "metadata": {
        "id": "oYuuZOimce7H"
      },
      "source": [
        "Domande_richiesto = df_domande_j.na.fill(value=0)\\\n",
        "            .filter(col(\"Istruttoria extra-sistema\")==\"NO\")\\\n",
        "            .groupBy(month(\"Data Invio\"), year(\"Data Invio\"))\\\n",
        "            .agg({'Importo Richiesto':'sum'})\n",
        "Domande_approvato = df_domande_j.na.fill(value=0).groupBy(month(\"Data fine istruttoria\"), year(\"Data fine istruttoria\"))\\\n",
        "            .agg({'Importo approvato':'sum'})\n",
        "Domande_concesso = df_domande_j.na.fill(value=0).groupBy(month(\"Data Determinazione Ammissibilità\"), year(\"Data Determinazione Ammissibilità\"))\\\n",
        "            .agg({'Importo concesso':'sum'})\n",
        "Stat_domande = Domande_richiesto.join(Domande_approvato, (Domande_richiesto['month(Data Invio)']==Domande_approvato['month(Data fine istruttoria)'])\\\n",
        "                                      & (Domande_richiesto['year(Data Invio)']==Domande_approvato['year(Data fine istruttoria)']), how='left')\\\n",
        "                                      .join(Domande_concesso, (Domande_richiesto['month(Data Invio)']==Domande_concesso['month(Data Determinazione Ammissibilità)'])\\\n",
        "                                            & (Domande_richiesto['year(Data Invio)']==Domande_concesso['year(Data Determinazione Ammissibilità)']), how = 'left')\n",
        "#Aggiungo la colonna \"Mese-Anno\"\n",
        "Stat_domande = Stat_domande.na.fill(0).withColumn(\"Mese-Anno\", concat(col(\"month(Data Invio)\"), lit(\"/\"),col(\"year(Data Invio)\"))).sort([\"year(Data Invio)\",\"month(Data Invio)\"])\n"
      ],
      "execution_count": 47,
      "outputs": []
    },
    {
      "cell_type": "code",
      "metadata": {
        "id": "z0-fYzOeQKw_"
      },
      "source": [
        "#Calcolo le somme cumulative usando le \"Finestre\" Spark\n",
        "\n",
        "from pyspark.sql import Window\n",
        "\n",
        "window = Window.orderBy([\"year(Data Invio)\",\"month(Data Invio)\"])\n",
        "  \n",
        "\n",
        "df_domande_cumulative = Stat_domande\\\n",
        "                .withColumn('Avanzamento Prenotato', sum('sum(Importo Richiesto)').over(window))\\\n",
        "                .withColumn('Avanzamento Approvato', sum('sum(Importo approvato)').over(window))\\\n",
        "                .withColumn('Avanzamento Concesso', sum('sum(Importo concesso)').over(window))\n",
        "#df_domande_cumulative.show()"
      ],
      "execution_count": 48,
      "outputs": []
    },
    {
      "cell_type": "code",
      "metadata": {
        "id": "Bop4hm7GhthT"
      },
      "source": [
        "Stat_domande_pd = df_domande_cumulative.toPandas()"
      ],
      "execution_count": 49,
      "outputs": []
    },
    {
      "cell_type": "code",
      "metadata": {
        "id": "ohTOcidyfa3v"
      },
      "source": [
        "#Stat_domande_pd.head()"
      ],
      "execution_count": 50,
      "outputs": []
    },
    {
      "cell_type": "code",
      "metadata": {
        "colab": {
          "base_uri": "https://localhost:8080/",
          "height": 542
        },
        "id": "uqhcBbCj6EF0",
        "outputId": "0425c446-4a43-43f6-b8ae-6eb3147ef32d"
      },
      "source": [
        "x = Stat_domande_pd[\"Mese-Anno\"]\n",
        "y1 = Stat_domande_pd[\"Avanzamento Prenotato\"]\n",
        "y2 = Stat_domande_pd[\"Avanzamento Approvato\"]\n",
        "y3 = Stat_domande_pd[\"Avanzamento Concesso\"]\n",
        "\n",
        "# Create traces\n",
        "fig = go.Figure()\n",
        "fig.add_trace(go.Scatter(x=x, y=y1,\n",
        "                    mode='lines',\n",
        "                    fill=\"tozeroy\",\n",
        "                    name='Budget prenotato',\n",
        "                    hovertemplate = '<br><b><i>%{x}</i></b>'+\n",
        "                    '<br><i>Budget prenotao</i>:<br>€ <b>%{y:.2f}</b>'+\n",
        "                    '<extra></extra>', # Rimuove il trace durante l'hover\n",
        "                    ))\n",
        "fig.add_trace(go.Scatter(x=x, y=y2,\n",
        "                    mode='lines',\n",
        "                    fill=\"tozeroy\",\n",
        "                    name='Budget approvato',\n",
        "                    hovertemplate = '<br><b><i>%{x}</i></b>'+\n",
        "                    '<br><i>Budget approvato</i>:<br>€ <b>%{y:.2f}</b>'+\n",
        "                    '<extra></extra>', # Rimuove il trace durante l'hover\n",
        "                    ))\n",
        "fig.add_trace(go.Scatter(x=x, y=y3,\n",
        "                    mode='lines',\n",
        "                    fill=\"tozeroy\",\n",
        "                    name='Budget concesso',\n",
        "                    hovertemplate = '<br><b><i>%{x}</i></b>'+\n",
        "                    '<br><i>Budget concesso</i>:<br>€ <b>%{y:.2f}</b>'+\n",
        "                    '<extra></extra>', # Rimuove il trace durante l'hover\n",
        "                    ))\n",
        "\n",
        "fig.update_yaxes(type=\"linear\", title_text=\"Somme (€)\")\n",
        "#fig.update_yaxes(title_text=\"Somme (€)\")\n",
        "fig.update_layout(title=\"Confronto avanzamento pratiche\", hovermode=\"x\")\n",
        "\n",
        "fig.show()"
      ],
      "execution_count": 64,
      "outputs": [
        {
          "output_type": "display_data",
          "data": {
            "text/html": [
              "<html>\n",
              "<head><meta charset=\"utf-8\" /></head>\n",
              "<body>\n",
              "    <div>            <script src=\"https://cdnjs.cloudflare.com/ajax/libs/mathjax/2.7.5/MathJax.js?config=TeX-AMS-MML_SVG\"></script><script type=\"text/javascript\">if (window.MathJax) {MathJax.Hub.Config({SVG: {font: \"STIX-Web\"}});}</script>                <script type=\"text/javascript\">window.PlotlyConfig = {MathJaxConfig: 'local'};</script>\n",
              "        <script src=\"https://cdn.plot.ly/plotly-2.2.0.min.js\"></script>                <div id=\"d2a32c74-1b38-44ea-be52-b184785fd2b0\" class=\"plotly-graph-div\" style=\"height:525px; width:100%;\"></div>            <script type=\"text/javascript\">                                    window.PLOTLYENV=window.PLOTLYENV || {};                                    if (document.getElementById(\"d2a32c74-1b38-44ea-be52-b184785fd2b0\")) {                    Plotly.newPlot(                        \"d2a32c74-1b38-44ea-be52-b184785fd2b0\",                        [{\"fill\":\"tozeroy\",\"hovertemplate\":\"<br><b><i>%{x}</i></b><br><i>Budget prenotao</i>:<br>\\u20ac <b>%{y:.2f}</b><extra></extra>\",\"mode\":\"lines\",\"name\":\"Budget prenotato\",\"type\":\"scatter\",\"x\":[\"4/2020\",\"5/2020\",\"6/2020\",\"7/2020\",\"8/2020\",\"9/2020\",\"10/2020\",\"11/2020\",\"12/2020\",\"1/2021\",\"2/2021\",\"3/2021\",\"4/2021\",\"5/2021\",\"6/2021\"],\"y\":[33755729.382297516,58864068.87978554,61095213.88964081,61824699.88951492,61925180.38951874,64218450.18940735,66490385.803474426,78152646.31694031,79334841.00675964,79546644.29663086,314864618.26976013,319818566.969574,320246685.9797058,320408402.2500458,320437115.58003235]},{\"fill\":\"tozeroy\",\"hovertemplate\":\"<br><b><i>%{x}</i></b><br><i>Budget approvato</i>:<br>\\u20ac <b>%{y:.2f}</b><extra></extra>\",\"mode\":\"lines\",\"name\":\"Budget approvato\",\"type\":\"scatter\",\"x\":[\"4/2020\",\"5/2020\",\"6/2020\",\"7/2020\",\"8/2020\",\"9/2020\",\"10/2020\",\"11/2020\",\"12/2020\",\"1/2021\",\"2/2021\",\"3/2021\",\"4/2021\",\"5/2021\",\"6/2021\"],\"y\":[4641251.396026611,51230102.390815735,53616613.5001297,54216572.40177536,54289156.50186157,54332880.30202484,54385344.00176239,54525384.90143585,54540329.401527405,54569942.39151764,61275044.22253418,83767187.98390198,97367210.23620605,119904425.90489197,133718876.52941895]},{\"fill\":\"tozeroy\",\"hovertemplate\":\"<br><b><i>%{x}</i></b><br><i>Budget concesso</i>:<br>\\u20ac <b>%{y:.2f}</b><extra></extra>\",\"mode\":\"lines\",\"name\":\"Budget concesso\",\"type\":\"scatter\",\"x\":[\"4/2020\",\"5/2020\",\"6/2020\",\"7/2020\",\"8/2020\",\"9/2020\",\"10/2020\",\"11/2020\",\"12/2020\",\"1/2021\",\"2/2021\",\"3/2021\",\"4/2021\",\"5/2021\",\"6/2021\"],\"y\":[0.0,23465673.198039234,53204186.98394221,55734827.18808298,59032346.388268754,60643274.48559423,60799614.084848836,61173903.78382631,61273361.683459714,61322859.08385797,62664420.854823545,65240608.12558313,66427519.87584253,86446225.88502832,86574758.49539514]}],                        {\"hovermode\":\"x\",\"template\":{\"data\":{\"bar\":[{\"error_x\":{\"color\":\"rgb(36,36,36)\"},\"error_y\":{\"color\":\"rgb(36,36,36)\"},\"marker\":{\"line\":{\"color\":\"rgb(234,234,242)\",\"width\":0.5},\"pattern\":{\"fillmode\":\"overlay\",\"size\":10,\"solidity\":0.2}},\"type\":\"bar\"}],\"barpolar\":[{\"marker\":{\"line\":{\"color\":\"rgb(234,234,242)\",\"width\":0.5},\"pattern\":{\"fillmode\":\"overlay\",\"size\":10,\"solidity\":0.2}},\"type\":\"barpolar\"}],\"carpet\":[{\"aaxis\":{\"endlinecolor\":\"rgb(36,36,36)\",\"gridcolor\":\"white\",\"linecolor\":\"white\",\"minorgridcolor\":\"white\",\"startlinecolor\":\"rgb(36,36,36)\"},\"baxis\":{\"endlinecolor\":\"rgb(36,36,36)\",\"gridcolor\":\"white\",\"linecolor\":\"white\",\"minorgridcolor\":\"white\",\"startlinecolor\":\"rgb(36,36,36)\"},\"type\":\"carpet\"}],\"choropleth\":[{\"colorbar\":{\"outlinewidth\":0,\"tickcolor\":\"rgb(36,36,36)\",\"ticklen\":8,\"ticks\":\"outside\",\"tickwidth\":2},\"type\":\"choropleth\"}],\"contour\":[{\"colorbar\":{\"outlinewidth\":0,\"tickcolor\":\"rgb(36,36,36)\",\"ticklen\":8,\"ticks\":\"outside\",\"tickwidth\":2},\"colorscale\":[[0.0,\"rgb(2,4,25)\"],[0.06274509803921569,\"rgb(24,15,41)\"],[0.12549019607843137,\"rgb(47,23,57)\"],[0.18823529411764706,\"rgb(71,28,72)\"],[0.25098039215686274,\"rgb(97,30,82)\"],[0.3137254901960784,\"rgb(123,30,89)\"],[0.3764705882352941,\"rgb(150,27,91)\"],[0.4392156862745098,\"rgb(177,22,88)\"],[0.5019607843137255,\"rgb(203,26,79)\"],[0.5647058823529412,\"rgb(223,47,67)\"],[0.6274509803921569,\"rgb(236,76,61)\"],[0.6901960784313725,\"rgb(242,107,73)\"],[0.7529411764705882,\"rgb(244,135,95)\"],[0.8156862745098039,\"rgb(245,162,122)\"],[0.8784313725490196,\"rgb(246,188,153)\"],[0.9411764705882353,\"rgb(247,212,187)\"],[1.0,\"rgb(250,234,220)\"]],\"type\":\"contour\"}],\"contourcarpet\":[{\"colorbar\":{\"outlinewidth\":0,\"tickcolor\":\"rgb(36,36,36)\",\"ticklen\":8,\"ticks\":\"outside\",\"tickwidth\":2},\"type\":\"contourcarpet\"}],\"heatmap\":[{\"colorbar\":{\"outlinewidth\":0,\"tickcolor\":\"rgb(36,36,36)\",\"ticklen\":8,\"ticks\":\"outside\",\"tickwidth\":2},\"colorscale\":[[0.0,\"rgb(2,4,25)\"],[0.06274509803921569,\"rgb(24,15,41)\"],[0.12549019607843137,\"rgb(47,23,57)\"],[0.18823529411764706,\"rgb(71,28,72)\"],[0.25098039215686274,\"rgb(97,30,82)\"],[0.3137254901960784,\"rgb(123,30,89)\"],[0.3764705882352941,\"rgb(150,27,91)\"],[0.4392156862745098,\"rgb(177,22,88)\"],[0.5019607843137255,\"rgb(203,26,79)\"],[0.5647058823529412,\"rgb(223,47,67)\"],[0.6274509803921569,\"rgb(236,76,61)\"],[0.6901960784313725,\"rgb(242,107,73)\"],[0.7529411764705882,\"rgb(244,135,95)\"],[0.8156862745098039,\"rgb(245,162,122)\"],[0.8784313725490196,\"rgb(246,188,153)\"],[0.9411764705882353,\"rgb(247,212,187)\"],[1.0,\"rgb(250,234,220)\"]],\"type\":\"heatmap\"}],\"heatmapgl\":[{\"colorbar\":{\"outlinewidth\":0,\"tickcolor\":\"rgb(36,36,36)\",\"ticklen\":8,\"ticks\":\"outside\",\"tickwidth\":2},\"colorscale\":[[0.0,\"rgb(2,4,25)\"],[0.06274509803921569,\"rgb(24,15,41)\"],[0.12549019607843137,\"rgb(47,23,57)\"],[0.18823529411764706,\"rgb(71,28,72)\"],[0.25098039215686274,\"rgb(97,30,82)\"],[0.3137254901960784,\"rgb(123,30,89)\"],[0.3764705882352941,\"rgb(150,27,91)\"],[0.4392156862745098,\"rgb(177,22,88)\"],[0.5019607843137255,\"rgb(203,26,79)\"],[0.5647058823529412,\"rgb(223,47,67)\"],[0.6274509803921569,\"rgb(236,76,61)\"],[0.6901960784313725,\"rgb(242,107,73)\"],[0.7529411764705882,\"rgb(244,135,95)\"],[0.8156862745098039,\"rgb(245,162,122)\"],[0.8784313725490196,\"rgb(246,188,153)\"],[0.9411764705882353,\"rgb(247,212,187)\"],[1.0,\"rgb(250,234,220)\"]],\"type\":\"heatmapgl\"}],\"histogram\":[{\"marker\":{\"pattern\":{\"fillmode\":\"overlay\",\"size\":10,\"solidity\":0.2}},\"type\":\"histogram\"}],\"histogram2d\":[{\"colorbar\":{\"outlinewidth\":0,\"tickcolor\":\"rgb(36,36,36)\",\"ticklen\":8,\"ticks\":\"outside\",\"tickwidth\":2},\"colorscale\":[[0.0,\"rgb(2,4,25)\"],[0.06274509803921569,\"rgb(24,15,41)\"],[0.12549019607843137,\"rgb(47,23,57)\"],[0.18823529411764706,\"rgb(71,28,72)\"],[0.25098039215686274,\"rgb(97,30,82)\"],[0.3137254901960784,\"rgb(123,30,89)\"],[0.3764705882352941,\"rgb(150,27,91)\"],[0.4392156862745098,\"rgb(177,22,88)\"],[0.5019607843137255,\"rgb(203,26,79)\"],[0.5647058823529412,\"rgb(223,47,67)\"],[0.6274509803921569,\"rgb(236,76,61)\"],[0.6901960784313725,\"rgb(242,107,73)\"],[0.7529411764705882,\"rgb(244,135,95)\"],[0.8156862745098039,\"rgb(245,162,122)\"],[0.8784313725490196,\"rgb(246,188,153)\"],[0.9411764705882353,\"rgb(247,212,187)\"],[1.0,\"rgb(250,234,220)\"]],\"type\":\"histogram2d\"}],\"histogram2dcontour\":[{\"colorbar\":{\"outlinewidth\":0,\"tickcolor\":\"rgb(36,36,36)\",\"ticklen\":8,\"ticks\":\"outside\",\"tickwidth\":2},\"colorscale\":[[0.0,\"rgb(2,4,25)\"],[0.06274509803921569,\"rgb(24,15,41)\"],[0.12549019607843137,\"rgb(47,23,57)\"],[0.18823529411764706,\"rgb(71,28,72)\"],[0.25098039215686274,\"rgb(97,30,82)\"],[0.3137254901960784,\"rgb(123,30,89)\"],[0.3764705882352941,\"rgb(150,27,91)\"],[0.4392156862745098,\"rgb(177,22,88)\"],[0.5019607843137255,\"rgb(203,26,79)\"],[0.5647058823529412,\"rgb(223,47,67)\"],[0.6274509803921569,\"rgb(236,76,61)\"],[0.6901960784313725,\"rgb(242,107,73)\"],[0.7529411764705882,\"rgb(244,135,95)\"],[0.8156862745098039,\"rgb(245,162,122)\"],[0.8784313725490196,\"rgb(246,188,153)\"],[0.9411764705882353,\"rgb(247,212,187)\"],[1.0,\"rgb(250,234,220)\"]],\"type\":\"histogram2dcontour\"}],\"mesh3d\":[{\"colorbar\":{\"outlinewidth\":0,\"tickcolor\":\"rgb(36,36,36)\",\"ticklen\":8,\"ticks\":\"outside\",\"tickwidth\":2},\"type\":\"mesh3d\"}],\"parcoords\":[{\"line\":{\"colorbar\":{\"outlinewidth\":0,\"tickcolor\":\"rgb(36,36,36)\",\"ticklen\":8,\"ticks\":\"outside\",\"tickwidth\":2}},\"type\":\"parcoords\"}],\"pie\":[{\"automargin\":true,\"type\":\"pie\"}],\"scatter\":[{\"marker\":{\"colorbar\":{\"outlinewidth\":0,\"tickcolor\":\"rgb(36,36,36)\",\"ticklen\":8,\"ticks\":\"outside\",\"tickwidth\":2}},\"type\":\"scatter\"}],\"scatter3d\":[{\"line\":{\"colorbar\":{\"outlinewidth\":0,\"tickcolor\":\"rgb(36,36,36)\",\"ticklen\":8,\"ticks\":\"outside\",\"tickwidth\":2}},\"marker\":{\"colorbar\":{\"outlinewidth\":0,\"tickcolor\":\"rgb(36,36,36)\",\"ticklen\":8,\"ticks\":\"outside\",\"tickwidth\":2}},\"type\":\"scatter3d\"}],\"scattercarpet\":[{\"marker\":{\"colorbar\":{\"outlinewidth\":0,\"tickcolor\":\"rgb(36,36,36)\",\"ticklen\":8,\"ticks\":\"outside\",\"tickwidth\":2}},\"type\":\"scattercarpet\"}],\"scattergeo\":[{\"marker\":{\"colorbar\":{\"outlinewidth\":0,\"tickcolor\":\"rgb(36,36,36)\",\"ticklen\":8,\"ticks\":\"outside\",\"tickwidth\":2}},\"type\":\"scattergeo\"}],\"scattergl\":[{\"marker\":{\"colorbar\":{\"outlinewidth\":0,\"tickcolor\":\"rgb(36,36,36)\",\"ticklen\":8,\"ticks\":\"outside\",\"tickwidth\":2}},\"type\":\"scattergl\"}],\"scattermapbox\":[{\"marker\":{\"colorbar\":{\"outlinewidth\":0,\"tickcolor\":\"rgb(36,36,36)\",\"ticklen\":8,\"ticks\":\"outside\",\"tickwidth\":2}},\"type\":\"scattermapbox\"}],\"scatterpolar\":[{\"marker\":{\"colorbar\":{\"outlinewidth\":0,\"tickcolor\":\"rgb(36,36,36)\",\"ticklen\":8,\"ticks\":\"outside\",\"tickwidth\":2}},\"type\":\"scatterpolar\"}],\"scatterpolargl\":[{\"marker\":{\"colorbar\":{\"outlinewidth\":0,\"tickcolor\":\"rgb(36,36,36)\",\"ticklen\":8,\"ticks\":\"outside\",\"tickwidth\":2}},\"type\":\"scatterpolargl\"}],\"scatterternary\":[{\"marker\":{\"colorbar\":{\"outlinewidth\":0,\"tickcolor\":\"rgb(36,36,36)\",\"ticklen\":8,\"ticks\":\"outside\",\"tickwidth\":2}},\"type\":\"scatterternary\"}],\"surface\":[{\"colorbar\":{\"outlinewidth\":0,\"tickcolor\":\"rgb(36,36,36)\",\"ticklen\":8,\"ticks\":\"outside\",\"tickwidth\":2},\"colorscale\":[[0.0,\"rgb(2,4,25)\"],[0.06274509803921569,\"rgb(24,15,41)\"],[0.12549019607843137,\"rgb(47,23,57)\"],[0.18823529411764706,\"rgb(71,28,72)\"],[0.25098039215686274,\"rgb(97,30,82)\"],[0.3137254901960784,\"rgb(123,30,89)\"],[0.3764705882352941,\"rgb(150,27,91)\"],[0.4392156862745098,\"rgb(177,22,88)\"],[0.5019607843137255,\"rgb(203,26,79)\"],[0.5647058823529412,\"rgb(223,47,67)\"],[0.6274509803921569,\"rgb(236,76,61)\"],[0.6901960784313725,\"rgb(242,107,73)\"],[0.7529411764705882,\"rgb(244,135,95)\"],[0.8156862745098039,\"rgb(245,162,122)\"],[0.8784313725490196,\"rgb(246,188,153)\"],[0.9411764705882353,\"rgb(247,212,187)\"],[1.0,\"rgb(250,234,220)\"]],\"type\":\"surface\"}],\"table\":[{\"cells\":{\"fill\":{\"color\":\"rgb(231,231,240)\"},\"line\":{\"color\":\"white\"}},\"header\":{\"fill\":{\"color\":\"rgb(183,183,191)\"},\"line\":{\"color\":\"white\"}},\"type\":\"table\"}]},\"layout\":{\"annotationdefaults\":{\"arrowcolor\":\"rgb(67,103,167)\"},\"autotypenumbers\":\"strict\",\"coloraxis\":{\"colorbar\":{\"outlinewidth\":0,\"tickcolor\":\"rgb(36,36,36)\",\"ticklen\":8,\"ticks\":\"outside\",\"tickwidth\":2}},\"colorscale\":{\"sequential\":[[0.0,\"rgb(2,4,25)\"],[0.06274509803921569,\"rgb(24,15,41)\"],[0.12549019607843137,\"rgb(47,23,57)\"],[0.18823529411764706,\"rgb(71,28,72)\"],[0.25098039215686274,\"rgb(97,30,82)\"],[0.3137254901960784,\"rgb(123,30,89)\"],[0.3764705882352941,\"rgb(150,27,91)\"],[0.4392156862745098,\"rgb(177,22,88)\"],[0.5019607843137255,\"rgb(203,26,79)\"],[0.5647058823529412,\"rgb(223,47,67)\"],[0.6274509803921569,\"rgb(236,76,61)\"],[0.6901960784313725,\"rgb(242,107,73)\"],[0.7529411764705882,\"rgb(244,135,95)\"],[0.8156862745098039,\"rgb(245,162,122)\"],[0.8784313725490196,\"rgb(246,188,153)\"],[0.9411764705882353,\"rgb(247,212,187)\"],[1.0,\"rgb(250,234,220)\"]],\"sequentialminus\":[[0.0,\"rgb(2,4,25)\"],[0.06274509803921569,\"rgb(24,15,41)\"],[0.12549019607843137,\"rgb(47,23,57)\"],[0.18823529411764706,\"rgb(71,28,72)\"],[0.25098039215686274,\"rgb(97,30,82)\"],[0.3137254901960784,\"rgb(123,30,89)\"],[0.3764705882352941,\"rgb(150,27,91)\"],[0.4392156862745098,\"rgb(177,22,88)\"],[0.5019607843137255,\"rgb(203,26,79)\"],[0.5647058823529412,\"rgb(223,47,67)\"],[0.6274509803921569,\"rgb(236,76,61)\"],[0.6901960784313725,\"rgb(242,107,73)\"],[0.7529411764705882,\"rgb(244,135,95)\"],[0.8156862745098039,\"rgb(245,162,122)\"],[0.8784313725490196,\"rgb(246,188,153)\"],[0.9411764705882353,\"rgb(247,212,187)\"],[1.0,\"rgb(250,234,220)\"]]},\"colorway\":[\"rgb(76,114,176)\",\"rgb(221,132,82)\",\"rgb(85,168,104)\",\"rgb(196,78,82)\",\"rgb(129,114,179)\",\"rgb(147,120,96)\",\"rgb(218,139,195)\",\"rgb(140,140,140)\",\"rgb(204,185,116)\",\"rgb(100,181,205)\"],\"font\":{\"color\":\"rgb(36,36,36)\"},\"geo\":{\"bgcolor\":\"white\",\"lakecolor\":\"white\",\"landcolor\":\"rgb(234,234,242)\",\"showlakes\":true,\"showland\":true,\"subunitcolor\":\"white\"},\"hoverlabel\":{\"align\":\"left\"},\"hovermode\":\"closest\",\"paper_bgcolor\":\"white\",\"plot_bgcolor\":\"rgb(234,234,242)\",\"polar\":{\"angularaxis\":{\"gridcolor\":\"white\",\"linecolor\":\"white\",\"showgrid\":true,\"ticks\":\"\"},\"bgcolor\":\"rgb(234,234,242)\",\"radialaxis\":{\"gridcolor\":\"white\",\"linecolor\":\"white\",\"showgrid\":true,\"ticks\":\"\"}},\"scene\":{\"xaxis\":{\"backgroundcolor\":\"rgb(234,234,242)\",\"gridcolor\":\"white\",\"gridwidth\":2,\"linecolor\":\"white\",\"showbackground\":true,\"showgrid\":true,\"ticks\":\"\",\"zerolinecolor\":\"white\"},\"yaxis\":{\"backgroundcolor\":\"rgb(234,234,242)\",\"gridcolor\":\"white\",\"gridwidth\":2,\"linecolor\":\"white\",\"showbackground\":true,\"showgrid\":true,\"ticks\":\"\",\"zerolinecolor\":\"white\"},\"zaxis\":{\"backgroundcolor\":\"rgb(234,234,242)\",\"gridcolor\":\"white\",\"gridwidth\":2,\"linecolor\":\"white\",\"showbackground\":true,\"showgrid\":true,\"ticks\":\"\",\"zerolinecolor\":\"white\"}},\"shapedefaults\":{\"fillcolor\":\"rgb(67,103,167)\",\"line\":{\"width\":0},\"opacity\":0.5},\"ternary\":{\"aaxis\":{\"gridcolor\":\"white\",\"linecolor\":\"white\",\"showgrid\":true,\"ticks\":\"\"},\"baxis\":{\"gridcolor\":\"white\",\"linecolor\":\"white\",\"showgrid\":true,\"ticks\":\"\"},\"bgcolor\":\"rgb(234,234,242)\",\"caxis\":{\"gridcolor\":\"white\",\"linecolor\":\"white\",\"showgrid\":true,\"ticks\":\"\"}},\"xaxis\":{\"automargin\":true,\"gridcolor\":\"white\",\"linecolor\":\"white\",\"showgrid\":true,\"ticks\":\"\",\"title\":{\"standoff\":15},\"zerolinecolor\":\"white\"},\"yaxis\":{\"automargin\":true,\"gridcolor\":\"white\",\"linecolor\":\"white\",\"showgrid\":true,\"ticks\":\"\",\"title\":{\"standoff\":15},\"zerolinecolor\":\"white\"}}},\"title\":{\"text\":\"Confronto avanzamento pratiche\"},\"yaxis\":{\"title\":{\"text\":\"Somme (\\u20ac)\"},\"type\":\"linear\"}},                        {\"responsive\": true}                    ).then(function(){\n",
              "                            \n",
              "var gd = document.getElementById('d2a32c74-1b38-44ea-be52-b184785fd2b0');\n",
              "var x = new MutationObserver(function (mutations, observer) {{\n",
              "        var display = window.getComputedStyle(gd).display;\n",
              "        if (!display || display === 'none') {{\n",
              "            console.log([gd, 'removed!']);\n",
              "            Plotly.purge(gd);\n",
              "            observer.disconnect();\n",
              "        }}\n",
              "}});\n",
              "\n",
              "// Listen for the removal of the full notebook cells\n",
              "var notebookContainer = gd.closest('#notebook-container');\n",
              "if (notebookContainer) {{\n",
              "    x.observe(notebookContainer, {childList: true});\n",
              "}}\n",
              "\n",
              "// Listen for the clearing of the current output cell\n",
              "var outputEl = gd.closest('.output');\n",
              "if (outputEl) {{\n",
              "    x.observe(outputEl, {childList: true});\n",
              "}}\n",
              "\n",
              "                        })                };                            </script>        </div>\n",
              "</body>\n",
              "</html>"
            ]
          },
          "metadata": {
            "tags": []
          }
        }
      ]
    },
    {
      "cell_type": "markdown",
      "metadata": {
        "id": "2kejTSPZhPBe"
      },
      "source": [
        "###Confronto stato istruttoria\n",
        "L'esplorazione è condotta sui soli procedimenti la cui fase istruttoria è gestita attraverso gli strumenti del SIL Sardegna (Istruttoria extra-sistema == NO), con lo scopo di verificare, oltre che lo stato di avanzamento, eventuali anomalie nelle procedure. <br> In particolare si noterà che l'avviso di cui all'Art. 9  della LR 22 presenta una percentuale di istruttorie esitate negativamente pari a oltre il 48%, questa situazione meriterebbe un approfondimento e una riflessione sulle cause di tale fenomeno.\n"
      ]
    },
    {
      "cell_type": "code",
      "metadata": {
        "colab": {
          "base_uri": "https://localhost:8080/"
        },
        "id": "cR7jpHG7Ndfa",
        "outputId": "e0fa61f3-088f-424d-d092-f092086359c0"
      },
      "source": [
        "Domande_per_istruttoria = df_domande_j.na.fill(value=0)\\\n",
        "        .withColumnRenamed(\"N. domande\",\"Domande\")\\\n",
        "        .filter(col(\"Istruttoria extra-sistema\")==\"NO\")\\\n",
        "        .groupBy(\"Codice Avviso\",\"Domande\")\\\n",
        "        .pivot(\"Stato Istruttoria\")\\\n",
        "        .agg({'Codice Domanda': 'count'})\n",
        "\n",
        "Domande_per_istruttoria.show(30)"
      ],
      "execution_count": 52,
      "outputs": [
        {
          "output_type": "stream",
          "text": [
            "+--------------------+-------+--------+--------+---------------+--------+\n",
            "|       Codice Avviso|Domande|In corso|Negativa|Non Disponibile|Positiva|\n",
            "+--------------------+-------+--------+--------+---------------+--------+\n",
            "|(R)ESISTO - Linea...|   9215|    8064|      72|           null|    1079|\n",
            "|  Fondo di rotazione|    242|    null|    null|            242|    null|\n",
            "|            LR22ART9|  11006|     518|    5355|           null|    5135|\n",
            "|SSE Lavoro Sardeg...|    103|    null|    null|            103|    null|\n",
            "|CIG Deroga 2020 c...|  16979|    null|    1304|           null|   15675|\n",
            "|SSE Lavoro Sardeg...|    992|    null|    null|            992|    null|\n",
            "|(R)ESISTO - Linea...|   7425|    6426|     106|           null|     893|\n",
            "|(R)ESISTO - Linea...|     15|      15|    null|           null|    null|\n",
            "+--------------------+-------+--------+--------+---------------+--------+\n",
            "\n"
          ],
          "name": "stdout"
        }
      ]
    },
    {
      "cell_type": "code",
      "metadata": {
        "id": "5-SgAgWWjUOz"
      },
      "source": [
        "Domande_per_istruttoria_pd = Domande_per_istruttoria.na.fill(0).orderBy(\"Codice Avviso\").toPandas()"
      ],
      "execution_count": 53,
      "outputs": []
    },
    {
      "cell_type": "code",
      "metadata": {
        "colab": {
          "base_uri": "https://localhost:8080/",
          "height": 542
        },
        "id": "sT4-0IhGh1EK",
        "outputId": "961ec60e-f238-4664-8df9-593fd21cca72"
      },
      "source": [
        "avvisi = Domande_per_istruttoria_pd[\"Codice Avviso\"].unique()\n",
        "Domande_per_istruttoria_pd[\"Non disp perc\"] = Domande_per_istruttoria_pd[\"Non Disponibile\"]/Domande_per_istruttoria_pd[\"Domande\"] * 100\n",
        "Domande_per_istruttoria_pd[\"In cors perc\"] = Domande_per_istruttoria_pd[\"In corso\"]/Domande_per_istruttoria_pd[\"Domande\"] * 100\n",
        "Domande_per_istruttoria_pd[\"Pos perc\"] = Domande_per_istruttoria_pd[\"Positiva\"]/Domande_per_istruttoria_pd[\"Domande\"] * 100\n",
        "Domande_per_istruttoria_pd[\"Neg perc\"] = Domande_per_istruttoria_pd[\"Negativa\"]/Domande_per_istruttoria_pd[\"Domande\"] * 100\n",
        "Domande_per_istruttoria_pd = Domande_per_istruttoria_pd.round({'Non disp perc': 2, 'In cors perc': 2, 'Pos perc': 2, 'Neg perc': 2})\n",
        "fig = go.Figure()\n",
        "fig.add_trace(go.Bar(\n",
        "    y=avvisi,\n",
        "    x=Domande_per_istruttoria_pd[\"Non disp perc\"],\n",
        "    name='Istanza da lavorare',\n",
        "    orientation='h',\n",
        "    hovertemplate = '<br><b><i>%{y}</i></b>'+\n",
        "    '<br><i>% da lavorare</i>: <b>%{x:.2f}</b>'+\n",
        "    '<extra></extra>', # Rimuove il trace durante l'hover\n",
        "    text= Domande_per_istruttoria_pd[\"Non disp perc\"],\n",
        "    textposition='inside'\n",
        "))\n",
        "fig.add_trace(go.Bar(\n",
        "    y=avvisi,\n",
        "    x=Domande_per_istruttoria_pd[\"In cors perc\"],\n",
        "    name='Istruttoria in corso',\n",
        "    orientation='h',\n",
        "    hovertemplate = '<br><b><i>%{y}</i></b>'+\n",
        "    '<br><i>% in corso</i>: <b>%{x:.2f}</b>'+\n",
        "    '<extra></extra>', # Rimuove il trace durante l'hover\n",
        "    text= Domande_per_istruttoria_pd[\"In cors perc\"],\n",
        "    textposition='inside'\n",
        "))\n",
        "\n",
        "fig.add_trace(go.Bar(\n",
        "    y=avvisi,\n",
        "    x=Domande_per_istruttoria_pd[\"Pos perc\"],\n",
        "    name='Istruttoria positiva',\n",
        "    orientation='h',\n",
        "    hovertemplate = '<br><b><i>%{y}</i></b>'+\n",
        "    '<br><i>% positive</i>: <b>%{x:.2f}</b>'+\n",
        "    '<extra></extra>', # Rimuove il trace durante l'hover\n",
        "    text= Domande_per_istruttoria_pd[\"Pos perc\"],\n",
        "    textposition='inside'\n",
        "))\n",
        "\n",
        "\n",
        "fig.add_trace(go.Bar(\n",
        "    y=avvisi,\n",
        "    x=Domande_per_istruttoria_pd[\"Neg perc\"],\n",
        "    name='Istruttoria negativa',\n",
        "    orientation='h',\n",
        "    hovertemplate = '<br><b><i>%{y}</i></b>'+\n",
        "    '<br><i>% negative</i>: <b>%{x:.2f}</b>'+\n",
        "    '<extra></extra>', # Rimuove il trace durante l'hover\n",
        "    text= Domande_per_istruttoria_pd[\"Neg perc\"],\n",
        "    textposition='inside'\n",
        "))\n",
        "\n",
        "fig.update_xaxes(title_text=\"%\", type=\"linear\")\n",
        "fig.update_yaxes(title_text=\"Avviso\")\n",
        "fig.update_layout(title=\"Confronto avanzamento dell'attività istruttoria\")\n",
        "fig.update_layout(barmode='stack', \n",
        "                  #hovermode=\"x\", \n",
        "                  hovermode = \"closest\",\n",
        "                  hoverlabel= { 'bgcolor': \"#FFF\" }\n",
        ")\n",
        "fig.show()"
      ],
      "execution_count": 54,
      "outputs": [
        {
          "output_type": "display_data",
          "data": {
            "text/html": [
              "<html>\n",
              "<head><meta charset=\"utf-8\" /></head>\n",
              "<body>\n",
              "    <div>            <script src=\"https://cdnjs.cloudflare.com/ajax/libs/mathjax/2.7.5/MathJax.js?config=TeX-AMS-MML_SVG\"></script><script type=\"text/javascript\">if (window.MathJax) {MathJax.Hub.Config({SVG: {font: \"STIX-Web\"}});}</script>                <script type=\"text/javascript\">window.PlotlyConfig = {MathJaxConfig: 'local'};</script>\n",
              "        <script src=\"https://cdn.plot.ly/plotly-2.2.0.min.js\"></script>                <div id=\"254038bc-142b-4b3a-bb59-00996cde947c\" class=\"plotly-graph-div\" style=\"height:525px; width:100%;\"></div>            <script type=\"text/javascript\">                                    window.PLOTLYENV=window.PLOTLYENV || {};                                    if (document.getElementById(\"254038bc-142b-4b3a-bb59-00996cde947c\")) {                    Plotly.newPlot(                        \"254038bc-142b-4b3a-bb59-00996cde947c\",                        [{\"hovertemplate\":\"<br><b><i>%{y}</i></b><br><i>% da lavorare</i>: <b>%{x:.2f}</b><extra></extra>\",\"name\":\"Istanza da lavorare\",\"orientation\":\"h\",\"text\":[\"0.0\",\"0.0\",\"0.0\",\"0.0\",\"100.0\",\"0.0\",\"100.0\",\"100.0\"],\"textposition\":\"inside\",\"type\":\"bar\",\"x\":[0.0,0.0,0.0,0.0,100.0,0.0,100.0,100.0],\"y\":[\"(R)ESISTO - Linea Grandi imprese\",\"(R)ESISTO - Linea Lavoratori e Lavoratrici\",\"(R)ESISTO - Linea Micro e Piccole Medie Imprese\",\"CIG Deroga 2020 covid 19\",\"Fondo di rotazione\",\"LR22ART9\",\"SSE Lavoro Sardegna LR 22 ART 12 comma 1 e 2\",\"SSE Lavoro Sardegna LR 22 ART 12 comma 3\"]},{\"hovertemplate\":\"<br><b><i>%{y}</i></b><br><i>% in corso</i>: <b>%{x:.2f}</b><extra></extra>\",\"name\":\"Istruttoria in corso\",\"orientation\":\"h\",\"text\":[\"100.0\",\"86.55\",\"87.51\",\"0.0\",\"0.0\",\"4.71\",\"0.0\",\"0.0\"],\"textposition\":\"inside\",\"type\":\"bar\",\"x\":[100.0,86.55,87.51,0.0,0.0,4.71,0.0,0.0],\"y\":[\"(R)ESISTO - Linea Grandi imprese\",\"(R)ESISTO - Linea Lavoratori e Lavoratrici\",\"(R)ESISTO - Linea Micro e Piccole Medie Imprese\",\"CIG Deroga 2020 covid 19\",\"Fondo di rotazione\",\"LR22ART9\",\"SSE Lavoro Sardegna LR 22 ART 12 comma 1 e 2\",\"SSE Lavoro Sardegna LR 22 ART 12 comma 3\"]},{\"hovertemplate\":\"<br><b><i>%{y}</i></b><br><i>% positive</i>: <b>%{x:.2f}</b><extra></extra>\",\"name\":\"Istruttoria positiva\",\"orientation\":\"h\",\"text\":[\"0.0\",\"12.03\",\"11.71\",\"92.32\",\"0.0\",\"46.66\",\"0.0\",\"0.0\"],\"textposition\":\"inside\",\"type\":\"bar\",\"x\":[0.0,12.03,11.71,92.32,0.0,46.66,0.0,0.0],\"y\":[\"(R)ESISTO - Linea Grandi imprese\",\"(R)ESISTO - Linea Lavoratori e Lavoratrici\",\"(R)ESISTO - Linea Micro e Piccole Medie Imprese\",\"CIG Deroga 2020 covid 19\",\"Fondo di rotazione\",\"LR22ART9\",\"SSE Lavoro Sardegna LR 22 ART 12 comma 1 e 2\",\"SSE Lavoro Sardegna LR 22 ART 12 comma 3\"]},{\"hovertemplate\":\"<br><b><i>%{y}</i></b><br><i>% negative</i>: <b>%{x:.2f}</b><extra></extra>\",\"name\":\"Istruttoria negativa\",\"orientation\":\"h\",\"text\":[\"0.0\",\"1.43\",\"0.78\",\"7.68\",\"0.0\",\"48.66\",\"0.0\",\"0.0\"],\"textposition\":\"inside\",\"type\":\"bar\",\"x\":[0.0,1.43,0.78,7.68,0.0,48.66,0.0,0.0],\"y\":[\"(R)ESISTO - Linea Grandi imprese\",\"(R)ESISTO - Linea Lavoratori e Lavoratrici\",\"(R)ESISTO - Linea Micro e Piccole Medie Imprese\",\"CIG Deroga 2020 covid 19\",\"Fondo di rotazione\",\"LR22ART9\",\"SSE Lavoro Sardegna LR 22 ART 12 comma 1 e 2\",\"SSE Lavoro Sardegna LR 22 ART 12 comma 3\"]}],                        {\"barmode\":\"stack\",\"hoverlabel\":{\"bgcolor\":\"#FFF\"},\"hovermode\":\"closest\",\"template\":{\"data\":{\"bar\":[{\"error_x\":{\"color\":\"rgb(36,36,36)\"},\"error_y\":{\"color\":\"rgb(36,36,36)\"},\"marker\":{\"line\":{\"color\":\"rgb(234,234,242)\",\"width\":0.5},\"pattern\":{\"fillmode\":\"overlay\",\"size\":10,\"solidity\":0.2}},\"type\":\"bar\"}],\"barpolar\":[{\"marker\":{\"line\":{\"color\":\"rgb(234,234,242)\",\"width\":0.5},\"pattern\":{\"fillmode\":\"overlay\",\"size\":10,\"solidity\":0.2}},\"type\":\"barpolar\"}],\"carpet\":[{\"aaxis\":{\"endlinecolor\":\"rgb(36,36,36)\",\"gridcolor\":\"white\",\"linecolor\":\"white\",\"minorgridcolor\":\"white\",\"startlinecolor\":\"rgb(36,36,36)\"},\"baxis\":{\"endlinecolor\":\"rgb(36,36,36)\",\"gridcolor\":\"white\",\"linecolor\":\"white\",\"minorgridcolor\":\"white\",\"startlinecolor\":\"rgb(36,36,36)\"},\"type\":\"carpet\"}],\"choropleth\":[{\"colorbar\":{\"outlinewidth\":0,\"tickcolor\":\"rgb(36,36,36)\",\"ticklen\":8,\"ticks\":\"outside\",\"tickwidth\":2},\"type\":\"choropleth\"}],\"contour\":[{\"colorbar\":{\"outlinewidth\":0,\"tickcolor\":\"rgb(36,36,36)\",\"ticklen\":8,\"ticks\":\"outside\",\"tickwidth\":2},\"colorscale\":[[0.0,\"rgb(2,4,25)\"],[0.06274509803921569,\"rgb(24,15,41)\"],[0.12549019607843137,\"rgb(47,23,57)\"],[0.18823529411764706,\"rgb(71,28,72)\"],[0.25098039215686274,\"rgb(97,30,82)\"],[0.3137254901960784,\"rgb(123,30,89)\"],[0.3764705882352941,\"rgb(150,27,91)\"],[0.4392156862745098,\"rgb(177,22,88)\"],[0.5019607843137255,\"rgb(203,26,79)\"],[0.5647058823529412,\"rgb(223,47,67)\"],[0.6274509803921569,\"rgb(236,76,61)\"],[0.6901960784313725,\"rgb(242,107,73)\"],[0.7529411764705882,\"rgb(244,135,95)\"],[0.8156862745098039,\"rgb(245,162,122)\"],[0.8784313725490196,\"rgb(246,188,153)\"],[0.9411764705882353,\"rgb(247,212,187)\"],[1.0,\"rgb(250,234,220)\"]],\"type\":\"contour\"}],\"contourcarpet\":[{\"colorbar\":{\"outlinewidth\":0,\"tickcolor\":\"rgb(36,36,36)\",\"ticklen\":8,\"ticks\":\"outside\",\"tickwidth\":2},\"type\":\"contourcarpet\"}],\"heatmap\":[{\"colorbar\":{\"outlinewidth\":0,\"tickcolor\":\"rgb(36,36,36)\",\"ticklen\":8,\"ticks\":\"outside\",\"tickwidth\":2},\"colorscale\":[[0.0,\"rgb(2,4,25)\"],[0.06274509803921569,\"rgb(24,15,41)\"],[0.12549019607843137,\"rgb(47,23,57)\"],[0.18823529411764706,\"rgb(71,28,72)\"],[0.25098039215686274,\"rgb(97,30,82)\"],[0.3137254901960784,\"rgb(123,30,89)\"],[0.3764705882352941,\"rgb(150,27,91)\"],[0.4392156862745098,\"rgb(177,22,88)\"],[0.5019607843137255,\"rgb(203,26,79)\"],[0.5647058823529412,\"rgb(223,47,67)\"],[0.6274509803921569,\"rgb(236,76,61)\"],[0.6901960784313725,\"rgb(242,107,73)\"],[0.7529411764705882,\"rgb(244,135,95)\"],[0.8156862745098039,\"rgb(245,162,122)\"],[0.8784313725490196,\"rgb(246,188,153)\"],[0.9411764705882353,\"rgb(247,212,187)\"],[1.0,\"rgb(250,234,220)\"]],\"type\":\"heatmap\"}],\"heatmapgl\":[{\"colorbar\":{\"outlinewidth\":0,\"tickcolor\":\"rgb(36,36,36)\",\"ticklen\":8,\"ticks\":\"outside\",\"tickwidth\":2},\"colorscale\":[[0.0,\"rgb(2,4,25)\"],[0.06274509803921569,\"rgb(24,15,41)\"],[0.12549019607843137,\"rgb(47,23,57)\"],[0.18823529411764706,\"rgb(71,28,72)\"],[0.25098039215686274,\"rgb(97,30,82)\"],[0.3137254901960784,\"rgb(123,30,89)\"],[0.3764705882352941,\"rgb(150,27,91)\"],[0.4392156862745098,\"rgb(177,22,88)\"],[0.5019607843137255,\"rgb(203,26,79)\"],[0.5647058823529412,\"rgb(223,47,67)\"],[0.6274509803921569,\"rgb(236,76,61)\"],[0.6901960784313725,\"rgb(242,107,73)\"],[0.7529411764705882,\"rgb(244,135,95)\"],[0.8156862745098039,\"rgb(245,162,122)\"],[0.8784313725490196,\"rgb(246,188,153)\"],[0.9411764705882353,\"rgb(247,212,187)\"],[1.0,\"rgb(250,234,220)\"]],\"type\":\"heatmapgl\"}],\"histogram\":[{\"marker\":{\"pattern\":{\"fillmode\":\"overlay\",\"size\":10,\"solidity\":0.2}},\"type\":\"histogram\"}],\"histogram2d\":[{\"colorbar\":{\"outlinewidth\":0,\"tickcolor\":\"rgb(36,36,36)\",\"ticklen\":8,\"ticks\":\"outside\",\"tickwidth\":2},\"colorscale\":[[0.0,\"rgb(2,4,25)\"],[0.06274509803921569,\"rgb(24,15,41)\"],[0.12549019607843137,\"rgb(47,23,57)\"],[0.18823529411764706,\"rgb(71,28,72)\"],[0.25098039215686274,\"rgb(97,30,82)\"],[0.3137254901960784,\"rgb(123,30,89)\"],[0.3764705882352941,\"rgb(150,27,91)\"],[0.4392156862745098,\"rgb(177,22,88)\"],[0.5019607843137255,\"rgb(203,26,79)\"],[0.5647058823529412,\"rgb(223,47,67)\"],[0.6274509803921569,\"rgb(236,76,61)\"],[0.6901960784313725,\"rgb(242,107,73)\"],[0.7529411764705882,\"rgb(244,135,95)\"],[0.8156862745098039,\"rgb(245,162,122)\"],[0.8784313725490196,\"rgb(246,188,153)\"],[0.9411764705882353,\"rgb(247,212,187)\"],[1.0,\"rgb(250,234,220)\"]],\"type\":\"histogram2d\"}],\"histogram2dcontour\":[{\"colorbar\":{\"outlinewidth\":0,\"tickcolor\":\"rgb(36,36,36)\",\"ticklen\":8,\"ticks\":\"outside\",\"tickwidth\":2},\"colorscale\":[[0.0,\"rgb(2,4,25)\"],[0.06274509803921569,\"rgb(24,15,41)\"],[0.12549019607843137,\"rgb(47,23,57)\"],[0.18823529411764706,\"rgb(71,28,72)\"],[0.25098039215686274,\"rgb(97,30,82)\"],[0.3137254901960784,\"rgb(123,30,89)\"],[0.3764705882352941,\"rgb(150,27,91)\"],[0.4392156862745098,\"rgb(177,22,88)\"],[0.5019607843137255,\"rgb(203,26,79)\"],[0.5647058823529412,\"rgb(223,47,67)\"],[0.6274509803921569,\"rgb(236,76,61)\"],[0.6901960784313725,\"rgb(242,107,73)\"],[0.7529411764705882,\"rgb(244,135,95)\"],[0.8156862745098039,\"rgb(245,162,122)\"],[0.8784313725490196,\"rgb(246,188,153)\"],[0.9411764705882353,\"rgb(247,212,187)\"],[1.0,\"rgb(250,234,220)\"]],\"type\":\"histogram2dcontour\"}],\"mesh3d\":[{\"colorbar\":{\"outlinewidth\":0,\"tickcolor\":\"rgb(36,36,36)\",\"ticklen\":8,\"ticks\":\"outside\",\"tickwidth\":2},\"type\":\"mesh3d\"}],\"parcoords\":[{\"line\":{\"colorbar\":{\"outlinewidth\":0,\"tickcolor\":\"rgb(36,36,36)\",\"ticklen\":8,\"ticks\":\"outside\",\"tickwidth\":2}},\"type\":\"parcoords\"}],\"pie\":[{\"automargin\":true,\"type\":\"pie\"}],\"scatter\":[{\"marker\":{\"colorbar\":{\"outlinewidth\":0,\"tickcolor\":\"rgb(36,36,36)\",\"ticklen\":8,\"ticks\":\"outside\",\"tickwidth\":2}},\"type\":\"scatter\"}],\"scatter3d\":[{\"line\":{\"colorbar\":{\"outlinewidth\":0,\"tickcolor\":\"rgb(36,36,36)\",\"ticklen\":8,\"ticks\":\"outside\",\"tickwidth\":2}},\"marker\":{\"colorbar\":{\"outlinewidth\":0,\"tickcolor\":\"rgb(36,36,36)\",\"ticklen\":8,\"ticks\":\"outside\",\"tickwidth\":2}},\"type\":\"scatter3d\"}],\"scattercarpet\":[{\"marker\":{\"colorbar\":{\"outlinewidth\":0,\"tickcolor\":\"rgb(36,36,36)\",\"ticklen\":8,\"ticks\":\"outside\",\"tickwidth\":2}},\"type\":\"scattercarpet\"}],\"scattergeo\":[{\"marker\":{\"colorbar\":{\"outlinewidth\":0,\"tickcolor\":\"rgb(36,36,36)\",\"ticklen\":8,\"ticks\":\"outside\",\"tickwidth\":2}},\"type\":\"scattergeo\"}],\"scattergl\":[{\"marker\":{\"colorbar\":{\"outlinewidth\":0,\"tickcolor\":\"rgb(36,36,36)\",\"ticklen\":8,\"ticks\":\"outside\",\"tickwidth\":2}},\"type\":\"scattergl\"}],\"scattermapbox\":[{\"marker\":{\"colorbar\":{\"outlinewidth\":0,\"tickcolor\":\"rgb(36,36,36)\",\"ticklen\":8,\"ticks\":\"outside\",\"tickwidth\":2}},\"type\":\"scattermapbox\"}],\"scatterpolar\":[{\"marker\":{\"colorbar\":{\"outlinewidth\":0,\"tickcolor\":\"rgb(36,36,36)\",\"ticklen\":8,\"ticks\":\"outside\",\"tickwidth\":2}},\"type\":\"scatterpolar\"}],\"scatterpolargl\":[{\"marker\":{\"colorbar\":{\"outlinewidth\":0,\"tickcolor\":\"rgb(36,36,36)\",\"ticklen\":8,\"ticks\":\"outside\",\"tickwidth\":2}},\"type\":\"scatterpolargl\"}],\"scatterternary\":[{\"marker\":{\"colorbar\":{\"outlinewidth\":0,\"tickcolor\":\"rgb(36,36,36)\",\"ticklen\":8,\"ticks\":\"outside\",\"tickwidth\":2}},\"type\":\"scatterternary\"}],\"surface\":[{\"colorbar\":{\"outlinewidth\":0,\"tickcolor\":\"rgb(36,36,36)\",\"ticklen\":8,\"ticks\":\"outside\",\"tickwidth\":2},\"colorscale\":[[0.0,\"rgb(2,4,25)\"],[0.06274509803921569,\"rgb(24,15,41)\"],[0.12549019607843137,\"rgb(47,23,57)\"],[0.18823529411764706,\"rgb(71,28,72)\"],[0.25098039215686274,\"rgb(97,30,82)\"],[0.3137254901960784,\"rgb(123,30,89)\"],[0.3764705882352941,\"rgb(150,27,91)\"],[0.4392156862745098,\"rgb(177,22,88)\"],[0.5019607843137255,\"rgb(203,26,79)\"],[0.5647058823529412,\"rgb(223,47,67)\"],[0.6274509803921569,\"rgb(236,76,61)\"],[0.6901960784313725,\"rgb(242,107,73)\"],[0.7529411764705882,\"rgb(244,135,95)\"],[0.8156862745098039,\"rgb(245,162,122)\"],[0.8784313725490196,\"rgb(246,188,153)\"],[0.9411764705882353,\"rgb(247,212,187)\"],[1.0,\"rgb(250,234,220)\"]],\"type\":\"surface\"}],\"table\":[{\"cells\":{\"fill\":{\"color\":\"rgb(231,231,240)\"},\"line\":{\"color\":\"white\"}},\"header\":{\"fill\":{\"color\":\"rgb(183,183,191)\"},\"line\":{\"color\":\"white\"}},\"type\":\"table\"}]},\"layout\":{\"annotationdefaults\":{\"arrowcolor\":\"rgb(67,103,167)\"},\"autotypenumbers\":\"strict\",\"coloraxis\":{\"colorbar\":{\"outlinewidth\":0,\"tickcolor\":\"rgb(36,36,36)\",\"ticklen\":8,\"ticks\":\"outside\",\"tickwidth\":2}},\"colorscale\":{\"sequential\":[[0.0,\"rgb(2,4,25)\"],[0.06274509803921569,\"rgb(24,15,41)\"],[0.12549019607843137,\"rgb(47,23,57)\"],[0.18823529411764706,\"rgb(71,28,72)\"],[0.25098039215686274,\"rgb(97,30,82)\"],[0.3137254901960784,\"rgb(123,30,89)\"],[0.3764705882352941,\"rgb(150,27,91)\"],[0.4392156862745098,\"rgb(177,22,88)\"],[0.5019607843137255,\"rgb(203,26,79)\"],[0.5647058823529412,\"rgb(223,47,67)\"],[0.6274509803921569,\"rgb(236,76,61)\"],[0.6901960784313725,\"rgb(242,107,73)\"],[0.7529411764705882,\"rgb(244,135,95)\"],[0.8156862745098039,\"rgb(245,162,122)\"],[0.8784313725490196,\"rgb(246,188,153)\"],[0.9411764705882353,\"rgb(247,212,187)\"],[1.0,\"rgb(250,234,220)\"]],\"sequentialminus\":[[0.0,\"rgb(2,4,25)\"],[0.06274509803921569,\"rgb(24,15,41)\"],[0.12549019607843137,\"rgb(47,23,57)\"],[0.18823529411764706,\"rgb(71,28,72)\"],[0.25098039215686274,\"rgb(97,30,82)\"],[0.3137254901960784,\"rgb(123,30,89)\"],[0.3764705882352941,\"rgb(150,27,91)\"],[0.4392156862745098,\"rgb(177,22,88)\"],[0.5019607843137255,\"rgb(203,26,79)\"],[0.5647058823529412,\"rgb(223,47,67)\"],[0.6274509803921569,\"rgb(236,76,61)\"],[0.6901960784313725,\"rgb(242,107,73)\"],[0.7529411764705882,\"rgb(244,135,95)\"],[0.8156862745098039,\"rgb(245,162,122)\"],[0.8784313725490196,\"rgb(246,188,153)\"],[0.9411764705882353,\"rgb(247,212,187)\"],[1.0,\"rgb(250,234,220)\"]]},\"colorway\":[\"rgb(76,114,176)\",\"rgb(221,132,82)\",\"rgb(85,168,104)\",\"rgb(196,78,82)\",\"rgb(129,114,179)\",\"rgb(147,120,96)\",\"rgb(218,139,195)\",\"rgb(140,140,140)\",\"rgb(204,185,116)\",\"rgb(100,181,205)\"],\"font\":{\"color\":\"rgb(36,36,36)\"},\"geo\":{\"bgcolor\":\"white\",\"lakecolor\":\"white\",\"landcolor\":\"rgb(234,234,242)\",\"showlakes\":true,\"showland\":true,\"subunitcolor\":\"white\"},\"hoverlabel\":{\"align\":\"left\"},\"hovermode\":\"closest\",\"paper_bgcolor\":\"white\",\"plot_bgcolor\":\"rgb(234,234,242)\",\"polar\":{\"angularaxis\":{\"gridcolor\":\"white\",\"linecolor\":\"white\",\"showgrid\":true,\"ticks\":\"\"},\"bgcolor\":\"rgb(234,234,242)\",\"radialaxis\":{\"gridcolor\":\"white\",\"linecolor\":\"white\",\"showgrid\":true,\"ticks\":\"\"}},\"scene\":{\"xaxis\":{\"backgroundcolor\":\"rgb(234,234,242)\",\"gridcolor\":\"white\",\"gridwidth\":2,\"linecolor\":\"white\",\"showbackground\":true,\"showgrid\":true,\"ticks\":\"\",\"zerolinecolor\":\"white\"},\"yaxis\":{\"backgroundcolor\":\"rgb(234,234,242)\",\"gridcolor\":\"white\",\"gridwidth\":2,\"linecolor\":\"white\",\"showbackground\":true,\"showgrid\":true,\"ticks\":\"\",\"zerolinecolor\":\"white\"},\"zaxis\":{\"backgroundcolor\":\"rgb(234,234,242)\",\"gridcolor\":\"white\",\"gridwidth\":2,\"linecolor\":\"white\",\"showbackground\":true,\"showgrid\":true,\"ticks\":\"\",\"zerolinecolor\":\"white\"}},\"shapedefaults\":{\"fillcolor\":\"rgb(67,103,167)\",\"line\":{\"width\":0},\"opacity\":0.5},\"ternary\":{\"aaxis\":{\"gridcolor\":\"white\",\"linecolor\":\"white\",\"showgrid\":true,\"ticks\":\"\"},\"baxis\":{\"gridcolor\":\"white\",\"linecolor\":\"white\",\"showgrid\":true,\"ticks\":\"\"},\"bgcolor\":\"rgb(234,234,242)\",\"caxis\":{\"gridcolor\":\"white\",\"linecolor\":\"white\",\"showgrid\":true,\"ticks\":\"\"}},\"xaxis\":{\"automargin\":true,\"gridcolor\":\"white\",\"linecolor\":\"white\",\"showgrid\":true,\"ticks\":\"\",\"title\":{\"standoff\":15},\"zerolinecolor\":\"white\"},\"yaxis\":{\"automargin\":true,\"gridcolor\":\"white\",\"linecolor\":\"white\",\"showgrid\":true,\"ticks\":\"\",\"title\":{\"standoff\":15},\"zerolinecolor\":\"white\"}}},\"title\":{\"text\":\"Confronto avanzamento dell'attivit\\u00e0 istruttoria\"},\"xaxis\":{\"title\":{\"text\":\"%\"},\"type\":\"linear\"},\"yaxis\":{\"title\":{\"text\":\"Avviso\"}}},                        {\"responsive\": true}                    ).then(function(){\n",
              "                            \n",
              "var gd = document.getElementById('254038bc-142b-4b3a-bb59-00996cde947c');\n",
              "var x = new MutationObserver(function (mutations, observer) {{\n",
              "        var display = window.getComputedStyle(gd).display;\n",
              "        if (!display || display === 'none') {{\n",
              "            console.log([gd, 'removed!']);\n",
              "            Plotly.purge(gd);\n",
              "            observer.disconnect();\n",
              "        }}\n",
              "}});\n",
              "\n",
              "// Listen for the removal of the full notebook cells\n",
              "var notebookContainer = gd.closest('#notebook-container');\n",
              "if (notebookContainer) {{\n",
              "    x.observe(notebookContainer, {childList: true});\n",
              "}}\n",
              "\n",
              "// Listen for the clearing of the current output cell\n",
              "var outputEl = gd.closest('.output');\n",
              "if (outputEl) {{\n",
              "    x.observe(outputEl, {childList: true});\n",
              "}}\n",
              "\n",
              "                        })                };                            </script>        </div>\n",
              "</body>\n",
              "</html>"
            ]
          },
          "metadata": {
            "tags": []
          }
        }
      ]
    },
    {
      "cell_type": "markdown",
      "metadata": {
        "id": "K6zx1LCIS6uo"
      },
      "source": [
        "###Tipologia di partecipanti\n",
        "\n",
        "Sono analizzate alcune caratteristiche principali dei soggetti che hanno presentato istanza di partecipazione. L'analisi è distinta per due macro tipologie: Cittadini e Imprese/Enti.\n",
        "\n"
      ]
    },
    {
      "cell_type": "code",
      "metadata": {
        "id": "G3i7Q6s4m9eL"
      },
      "source": [
        "Stat_partecipanti = df_domande_j.na.fill(value=0).groupBy([\"Macrotipologia destinatario\"]).agg({'Importo Richiesto':'sum', 'Codice Domanda':'count'})\n",
        "Stat_partecipanti_pd = Stat_partecipanti.toPandas()"
      ],
      "execution_count": 55,
      "outputs": []
    },
    {
      "cell_type": "code",
      "metadata": {
        "id": "CbGkHTOjzO9J",
        "colab": {
          "base_uri": "https://localhost:8080/",
          "height": 111
        },
        "outputId": "6bddd36a-35f4-4092-d228-39f6943141d3"
      },
      "source": [
        "Stat_partecipanti_pd.head(30)"
      ],
      "execution_count": 56,
      "outputs": [
        {
          "output_type": "execute_result",
          "data": {
            "text/html": [
              "<div>\n",
              "<style scoped>\n",
              "    .dataframe tbody tr th:only-of-type {\n",
              "        vertical-align: middle;\n",
              "    }\n",
              "\n",
              "    .dataframe tbody tr th {\n",
              "        vertical-align: top;\n",
              "    }\n",
              "\n",
              "    .dataframe thead th {\n",
              "        text-align: right;\n",
              "    }\n",
              "</style>\n",
              "<table border=\"1\" class=\"dataframe\">\n",
              "  <thead>\n",
              "    <tr style=\"text-align: right;\">\n",
              "      <th></th>\n",
              "      <th>Macrotipologia destinatario</th>\n",
              "      <th>sum(Importo Richiesto)</th>\n",
              "      <th>count(Codice Domanda)</th>\n",
              "    </tr>\n",
              "  </thead>\n",
              "  <tbody>\n",
              "    <tr>\n",
              "      <th>0</th>\n",
              "      <td>Imprese / Enti</td>\n",
              "      <td>3.949117e+08</td>\n",
              "      <td>44226</td>\n",
              "    </tr>\n",
              "    <tr>\n",
              "      <th>1</th>\n",
              "      <td>Cittadini</td>\n",
              "      <td>1.384740e+07</td>\n",
              "      <td>11440</td>\n",
              "    </tr>\n",
              "  </tbody>\n",
              "</table>\n",
              "</div>"
            ],
            "text/plain": [
              "  Macrotipologia destinatario  sum(Importo Richiesto)  count(Codice Domanda)\n",
              "0              Imprese / Enti            3.949117e+08                  44226\n",
              "1                   Cittadini            1.384740e+07                  11440"
            ]
          },
          "metadata": {
            "tags": []
          },
          "execution_count": 56
        }
      ]
    },
    {
      "cell_type": "code",
      "metadata": {
        "colab": {
          "base_uri": "https://localhost:8080/",
          "height": 542
        },
        "id": "iyTiLUPBnvRH",
        "outputId": "7524c729-1d0c-4799-ff58-df136789dbaf"
      },
      "source": [
        "from plotly.subplots import make_subplots\n",
        "import plotly.graph_objects as go\n",
        "\n",
        "fig = make_subplots(rows=1, cols=2, subplot_titles=(\"N. di Domande presentate\", \"Budget richiesto (€)\"), specs=[[{'type':'domain'}, {'type':'domain'}]])\n",
        "\n",
        "fig.add_trace(go.Pie(labels=Stat_partecipanti_pd['Macrotipologia destinatario'], values=Stat_partecipanti_pd['count(Codice Domanda)']), 1, 1)\n",
        "\n",
        "fig.add_trace(go.Pie(labels=Stat_partecipanti_pd['Macrotipologia destinatario'], values=Stat_partecipanti_pd['sum(Importo Richiesto)']), 1, 2)\n",
        "\n",
        "fig.update_traces(hole=.4, hoverinfo=\"label+value\")\n",
        "fig.update_layout(\n",
        "    title_text=\"Confronto partecipanti\")\n",
        "fig.show()"
      ],
      "execution_count": 65,
      "outputs": [
        {
          "output_type": "display_data",
          "data": {
            "text/html": [
              "<html>\n",
              "<head><meta charset=\"utf-8\" /></head>\n",
              "<body>\n",
              "    <div>            <script src=\"https://cdnjs.cloudflare.com/ajax/libs/mathjax/2.7.5/MathJax.js?config=TeX-AMS-MML_SVG\"></script><script type=\"text/javascript\">if (window.MathJax) {MathJax.Hub.Config({SVG: {font: \"STIX-Web\"}});}</script>                <script type=\"text/javascript\">window.PlotlyConfig = {MathJaxConfig: 'local'};</script>\n",
              "        <script src=\"https://cdn.plot.ly/plotly-2.2.0.min.js\"></script>                <div id=\"2d45d74f-59db-4b82-9b8f-c0ca45ace437\" class=\"plotly-graph-div\" style=\"height:525px; width:100%;\"></div>            <script type=\"text/javascript\">                                    window.PLOTLYENV=window.PLOTLYENV || {};                                    if (document.getElementById(\"2d45d74f-59db-4b82-9b8f-c0ca45ace437\")) {                    Plotly.newPlot(                        \"2d45d74f-59db-4b82-9b8f-c0ca45ace437\",                        [{\"domain\":{\"x\":[0.0,0.45],\"y\":[0.0,1.0]},\"hole\":0.4,\"hoverinfo\":\"label+value\",\"labels\":[\"Imprese / Enti\",\"Cittadini\"],\"type\":\"pie\",\"values\":[44226,11440]},{\"domain\":{\"x\":[0.55,1.0],\"y\":[0.0,1.0]},\"hole\":0.4,\"hoverinfo\":\"label+value\",\"labels\":[\"Imprese / Enti\",\"Cittadini\"],\"type\":\"pie\",\"values\":[394911735.32051086,13847401.580852509]}],                        {\"annotations\":[{\"font\":{\"size\":16},\"showarrow\":false,\"text\":\"N. di Domande presentate\",\"x\":0.225,\"xanchor\":\"center\",\"xref\":\"paper\",\"y\":1.0,\"yanchor\":\"bottom\",\"yref\":\"paper\"},{\"font\":{\"size\":16},\"showarrow\":false,\"text\":\"Budget richiesto (\\u20ac)\",\"x\":0.775,\"xanchor\":\"center\",\"xref\":\"paper\",\"y\":1.0,\"yanchor\":\"bottom\",\"yref\":\"paper\"}],\"template\":{\"data\":{\"bar\":[{\"error_x\":{\"color\":\"rgb(36,36,36)\"},\"error_y\":{\"color\":\"rgb(36,36,36)\"},\"marker\":{\"line\":{\"color\":\"rgb(234,234,242)\",\"width\":0.5},\"pattern\":{\"fillmode\":\"overlay\",\"size\":10,\"solidity\":0.2}},\"type\":\"bar\"}],\"barpolar\":[{\"marker\":{\"line\":{\"color\":\"rgb(234,234,242)\",\"width\":0.5},\"pattern\":{\"fillmode\":\"overlay\",\"size\":10,\"solidity\":0.2}},\"type\":\"barpolar\"}],\"carpet\":[{\"aaxis\":{\"endlinecolor\":\"rgb(36,36,36)\",\"gridcolor\":\"white\",\"linecolor\":\"white\",\"minorgridcolor\":\"white\",\"startlinecolor\":\"rgb(36,36,36)\"},\"baxis\":{\"endlinecolor\":\"rgb(36,36,36)\",\"gridcolor\":\"white\",\"linecolor\":\"white\",\"minorgridcolor\":\"white\",\"startlinecolor\":\"rgb(36,36,36)\"},\"type\":\"carpet\"}],\"choropleth\":[{\"colorbar\":{\"outlinewidth\":0,\"tickcolor\":\"rgb(36,36,36)\",\"ticklen\":8,\"ticks\":\"outside\",\"tickwidth\":2},\"type\":\"choropleth\"}],\"contour\":[{\"colorbar\":{\"outlinewidth\":0,\"tickcolor\":\"rgb(36,36,36)\",\"ticklen\":8,\"ticks\":\"outside\",\"tickwidth\":2},\"colorscale\":[[0.0,\"rgb(2,4,25)\"],[0.06274509803921569,\"rgb(24,15,41)\"],[0.12549019607843137,\"rgb(47,23,57)\"],[0.18823529411764706,\"rgb(71,28,72)\"],[0.25098039215686274,\"rgb(97,30,82)\"],[0.3137254901960784,\"rgb(123,30,89)\"],[0.3764705882352941,\"rgb(150,27,91)\"],[0.4392156862745098,\"rgb(177,22,88)\"],[0.5019607843137255,\"rgb(203,26,79)\"],[0.5647058823529412,\"rgb(223,47,67)\"],[0.6274509803921569,\"rgb(236,76,61)\"],[0.6901960784313725,\"rgb(242,107,73)\"],[0.7529411764705882,\"rgb(244,135,95)\"],[0.8156862745098039,\"rgb(245,162,122)\"],[0.8784313725490196,\"rgb(246,188,153)\"],[0.9411764705882353,\"rgb(247,212,187)\"],[1.0,\"rgb(250,234,220)\"]],\"type\":\"contour\"}],\"contourcarpet\":[{\"colorbar\":{\"outlinewidth\":0,\"tickcolor\":\"rgb(36,36,36)\",\"ticklen\":8,\"ticks\":\"outside\",\"tickwidth\":2},\"type\":\"contourcarpet\"}],\"heatmap\":[{\"colorbar\":{\"outlinewidth\":0,\"tickcolor\":\"rgb(36,36,36)\",\"ticklen\":8,\"ticks\":\"outside\",\"tickwidth\":2},\"colorscale\":[[0.0,\"rgb(2,4,25)\"],[0.06274509803921569,\"rgb(24,15,41)\"],[0.12549019607843137,\"rgb(47,23,57)\"],[0.18823529411764706,\"rgb(71,28,72)\"],[0.25098039215686274,\"rgb(97,30,82)\"],[0.3137254901960784,\"rgb(123,30,89)\"],[0.3764705882352941,\"rgb(150,27,91)\"],[0.4392156862745098,\"rgb(177,22,88)\"],[0.5019607843137255,\"rgb(203,26,79)\"],[0.5647058823529412,\"rgb(223,47,67)\"],[0.6274509803921569,\"rgb(236,76,61)\"],[0.6901960784313725,\"rgb(242,107,73)\"],[0.7529411764705882,\"rgb(244,135,95)\"],[0.8156862745098039,\"rgb(245,162,122)\"],[0.8784313725490196,\"rgb(246,188,153)\"],[0.9411764705882353,\"rgb(247,212,187)\"],[1.0,\"rgb(250,234,220)\"]],\"type\":\"heatmap\"}],\"heatmapgl\":[{\"colorbar\":{\"outlinewidth\":0,\"tickcolor\":\"rgb(36,36,36)\",\"ticklen\":8,\"ticks\":\"outside\",\"tickwidth\":2},\"colorscale\":[[0.0,\"rgb(2,4,25)\"],[0.06274509803921569,\"rgb(24,15,41)\"],[0.12549019607843137,\"rgb(47,23,57)\"],[0.18823529411764706,\"rgb(71,28,72)\"],[0.25098039215686274,\"rgb(97,30,82)\"],[0.3137254901960784,\"rgb(123,30,89)\"],[0.3764705882352941,\"rgb(150,27,91)\"],[0.4392156862745098,\"rgb(177,22,88)\"],[0.5019607843137255,\"rgb(203,26,79)\"],[0.5647058823529412,\"rgb(223,47,67)\"],[0.6274509803921569,\"rgb(236,76,61)\"],[0.6901960784313725,\"rgb(242,107,73)\"],[0.7529411764705882,\"rgb(244,135,95)\"],[0.8156862745098039,\"rgb(245,162,122)\"],[0.8784313725490196,\"rgb(246,188,153)\"],[0.9411764705882353,\"rgb(247,212,187)\"],[1.0,\"rgb(250,234,220)\"]],\"type\":\"heatmapgl\"}],\"histogram\":[{\"marker\":{\"pattern\":{\"fillmode\":\"overlay\",\"size\":10,\"solidity\":0.2}},\"type\":\"histogram\"}],\"histogram2d\":[{\"colorbar\":{\"outlinewidth\":0,\"tickcolor\":\"rgb(36,36,36)\",\"ticklen\":8,\"ticks\":\"outside\",\"tickwidth\":2},\"colorscale\":[[0.0,\"rgb(2,4,25)\"],[0.06274509803921569,\"rgb(24,15,41)\"],[0.12549019607843137,\"rgb(47,23,57)\"],[0.18823529411764706,\"rgb(71,28,72)\"],[0.25098039215686274,\"rgb(97,30,82)\"],[0.3137254901960784,\"rgb(123,30,89)\"],[0.3764705882352941,\"rgb(150,27,91)\"],[0.4392156862745098,\"rgb(177,22,88)\"],[0.5019607843137255,\"rgb(203,26,79)\"],[0.5647058823529412,\"rgb(223,47,67)\"],[0.6274509803921569,\"rgb(236,76,61)\"],[0.6901960784313725,\"rgb(242,107,73)\"],[0.7529411764705882,\"rgb(244,135,95)\"],[0.8156862745098039,\"rgb(245,162,122)\"],[0.8784313725490196,\"rgb(246,188,153)\"],[0.9411764705882353,\"rgb(247,212,187)\"],[1.0,\"rgb(250,234,220)\"]],\"type\":\"histogram2d\"}],\"histogram2dcontour\":[{\"colorbar\":{\"outlinewidth\":0,\"tickcolor\":\"rgb(36,36,36)\",\"ticklen\":8,\"ticks\":\"outside\",\"tickwidth\":2},\"colorscale\":[[0.0,\"rgb(2,4,25)\"],[0.06274509803921569,\"rgb(24,15,41)\"],[0.12549019607843137,\"rgb(47,23,57)\"],[0.18823529411764706,\"rgb(71,28,72)\"],[0.25098039215686274,\"rgb(97,30,82)\"],[0.3137254901960784,\"rgb(123,30,89)\"],[0.3764705882352941,\"rgb(150,27,91)\"],[0.4392156862745098,\"rgb(177,22,88)\"],[0.5019607843137255,\"rgb(203,26,79)\"],[0.5647058823529412,\"rgb(223,47,67)\"],[0.6274509803921569,\"rgb(236,76,61)\"],[0.6901960784313725,\"rgb(242,107,73)\"],[0.7529411764705882,\"rgb(244,135,95)\"],[0.8156862745098039,\"rgb(245,162,122)\"],[0.8784313725490196,\"rgb(246,188,153)\"],[0.9411764705882353,\"rgb(247,212,187)\"],[1.0,\"rgb(250,234,220)\"]],\"type\":\"histogram2dcontour\"}],\"mesh3d\":[{\"colorbar\":{\"outlinewidth\":0,\"tickcolor\":\"rgb(36,36,36)\",\"ticklen\":8,\"ticks\":\"outside\",\"tickwidth\":2},\"type\":\"mesh3d\"}],\"parcoords\":[{\"line\":{\"colorbar\":{\"outlinewidth\":0,\"tickcolor\":\"rgb(36,36,36)\",\"ticklen\":8,\"ticks\":\"outside\",\"tickwidth\":2}},\"type\":\"parcoords\"}],\"pie\":[{\"automargin\":true,\"type\":\"pie\"}],\"scatter\":[{\"marker\":{\"colorbar\":{\"outlinewidth\":0,\"tickcolor\":\"rgb(36,36,36)\",\"ticklen\":8,\"ticks\":\"outside\",\"tickwidth\":2}},\"type\":\"scatter\"}],\"scatter3d\":[{\"line\":{\"colorbar\":{\"outlinewidth\":0,\"tickcolor\":\"rgb(36,36,36)\",\"ticklen\":8,\"ticks\":\"outside\",\"tickwidth\":2}},\"marker\":{\"colorbar\":{\"outlinewidth\":0,\"tickcolor\":\"rgb(36,36,36)\",\"ticklen\":8,\"ticks\":\"outside\",\"tickwidth\":2}},\"type\":\"scatter3d\"}],\"scattercarpet\":[{\"marker\":{\"colorbar\":{\"outlinewidth\":0,\"tickcolor\":\"rgb(36,36,36)\",\"ticklen\":8,\"ticks\":\"outside\",\"tickwidth\":2}},\"type\":\"scattercarpet\"}],\"scattergeo\":[{\"marker\":{\"colorbar\":{\"outlinewidth\":0,\"tickcolor\":\"rgb(36,36,36)\",\"ticklen\":8,\"ticks\":\"outside\",\"tickwidth\":2}},\"type\":\"scattergeo\"}],\"scattergl\":[{\"marker\":{\"colorbar\":{\"outlinewidth\":0,\"tickcolor\":\"rgb(36,36,36)\",\"ticklen\":8,\"ticks\":\"outside\",\"tickwidth\":2}},\"type\":\"scattergl\"}],\"scattermapbox\":[{\"marker\":{\"colorbar\":{\"outlinewidth\":0,\"tickcolor\":\"rgb(36,36,36)\",\"ticklen\":8,\"ticks\":\"outside\",\"tickwidth\":2}},\"type\":\"scattermapbox\"}],\"scatterpolar\":[{\"marker\":{\"colorbar\":{\"outlinewidth\":0,\"tickcolor\":\"rgb(36,36,36)\",\"ticklen\":8,\"ticks\":\"outside\",\"tickwidth\":2}},\"type\":\"scatterpolar\"}],\"scatterpolargl\":[{\"marker\":{\"colorbar\":{\"outlinewidth\":0,\"tickcolor\":\"rgb(36,36,36)\",\"ticklen\":8,\"ticks\":\"outside\",\"tickwidth\":2}},\"type\":\"scatterpolargl\"}],\"scatterternary\":[{\"marker\":{\"colorbar\":{\"outlinewidth\":0,\"tickcolor\":\"rgb(36,36,36)\",\"ticklen\":8,\"ticks\":\"outside\",\"tickwidth\":2}},\"type\":\"scatterternary\"}],\"surface\":[{\"colorbar\":{\"outlinewidth\":0,\"tickcolor\":\"rgb(36,36,36)\",\"ticklen\":8,\"ticks\":\"outside\",\"tickwidth\":2},\"colorscale\":[[0.0,\"rgb(2,4,25)\"],[0.06274509803921569,\"rgb(24,15,41)\"],[0.12549019607843137,\"rgb(47,23,57)\"],[0.18823529411764706,\"rgb(71,28,72)\"],[0.25098039215686274,\"rgb(97,30,82)\"],[0.3137254901960784,\"rgb(123,30,89)\"],[0.3764705882352941,\"rgb(150,27,91)\"],[0.4392156862745098,\"rgb(177,22,88)\"],[0.5019607843137255,\"rgb(203,26,79)\"],[0.5647058823529412,\"rgb(223,47,67)\"],[0.6274509803921569,\"rgb(236,76,61)\"],[0.6901960784313725,\"rgb(242,107,73)\"],[0.7529411764705882,\"rgb(244,135,95)\"],[0.8156862745098039,\"rgb(245,162,122)\"],[0.8784313725490196,\"rgb(246,188,153)\"],[0.9411764705882353,\"rgb(247,212,187)\"],[1.0,\"rgb(250,234,220)\"]],\"type\":\"surface\"}],\"table\":[{\"cells\":{\"fill\":{\"color\":\"rgb(231,231,240)\"},\"line\":{\"color\":\"white\"}},\"header\":{\"fill\":{\"color\":\"rgb(183,183,191)\"},\"line\":{\"color\":\"white\"}},\"type\":\"table\"}]},\"layout\":{\"annotationdefaults\":{\"arrowcolor\":\"rgb(67,103,167)\"},\"autotypenumbers\":\"strict\",\"coloraxis\":{\"colorbar\":{\"outlinewidth\":0,\"tickcolor\":\"rgb(36,36,36)\",\"ticklen\":8,\"ticks\":\"outside\",\"tickwidth\":2}},\"colorscale\":{\"sequential\":[[0.0,\"rgb(2,4,25)\"],[0.06274509803921569,\"rgb(24,15,41)\"],[0.12549019607843137,\"rgb(47,23,57)\"],[0.18823529411764706,\"rgb(71,28,72)\"],[0.25098039215686274,\"rgb(97,30,82)\"],[0.3137254901960784,\"rgb(123,30,89)\"],[0.3764705882352941,\"rgb(150,27,91)\"],[0.4392156862745098,\"rgb(177,22,88)\"],[0.5019607843137255,\"rgb(203,26,79)\"],[0.5647058823529412,\"rgb(223,47,67)\"],[0.6274509803921569,\"rgb(236,76,61)\"],[0.6901960784313725,\"rgb(242,107,73)\"],[0.7529411764705882,\"rgb(244,135,95)\"],[0.8156862745098039,\"rgb(245,162,122)\"],[0.8784313725490196,\"rgb(246,188,153)\"],[0.9411764705882353,\"rgb(247,212,187)\"],[1.0,\"rgb(250,234,220)\"]],\"sequentialminus\":[[0.0,\"rgb(2,4,25)\"],[0.06274509803921569,\"rgb(24,15,41)\"],[0.12549019607843137,\"rgb(47,23,57)\"],[0.18823529411764706,\"rgb(71,28,72)\"],[0.25098039215686274,\"rgb(97,30,82)\"],[0.3137254901960784,\"rgb(123,30,89)\"],[0.3764705882352941,\"rgb(150,27,91)\"],[0.4392156862745098,\"rgb(177,22,88)\"],[0.5019607843137255,\"rgb(203,26,79)\"],[0.5647058823529412,\"rgb(223,47,67)\"],[0.6274509803921569,\"rgb(236,76,61)\"],[0.6901960784313725,\"rgb(242,107,73)\"],[0.7529411764705882,\"rgb(244,135,95)\"],[0.8156862745098039,\"rgb(245,162,122)\"],[0.8784313725490196,\"rgb(246,188,153)\"],[0.9411764705882353,\"rgb(247,212,187)\"],[1.0,\"rgb(250,234,220)\"]]},\"colorway\":[\"rgb(76,114,176)\",\"rgb(221,132,82)\",\"rgb(85,168,104)\",\"rgb(196,78,82)\",\"rgb(129,114,179)\",\"rgb(147,120,96)\",\"rgb(218,139,195)\",\"rgb(140,140,140)\",\"rgb(204,185,116)\",\"rgb(100,181,205)\"],\"font\":{\"color\":\"rgb(36,36,36)\"},\"geo\":{\"bgcolor\":\"white\",\"lakecolor\":\"white\",\"landcolor\":\"rgb(234,234,242)\",\"showlakes\":true,\"showland\":true,\"subunitcolor\":\"white\"},\"hoverlabel\":{\"align\":\"left\"},\"hovermode\":\"closest\",\"paper_bgcolor\":\"white\",\"plot_bgcolor\":\"rgb(234,234,242)\",\"polar\":{\"angularaxis\":{\"gridcolor\":\"white\",\"linecolor\":\"white\",\"showgrid\":true,\"ticks\":\"\"},\"bgcolor\":\"rgb(234,234,242)\",\"radialaxis\":{\"gridcolor\":\"white\",\"linecolor\":\"white\",\"showgrid\":true,\"ticks\":\"\"}},\"scene\":{\"xaxis\":{\"backgroundcolor\":\"rgb(234,234,242)\",\"gridcolor\":\"white\",\"gridwidth\":2,\"linecolor\":\"white\",\"showbackground\":true,\"showgrid\":true,\"ticks\":\"\",\"zerolinecolor\":\"white\"},\"yaxis\":{\"backgroundcolor\":\"rgb(234,234,242)\",\"gridcolor\":\"white\",\"gridwidth\":2,\"linecolor\":\"white\",\"showbackground\":true,\"showgrid\":true,\"ticks\":\"\",\"zerolinecolor\":\"white\"},\"zaxis\":{\"backgroundcolor\":\"rgb(234,234,242)\",\"gridcolor\":\"white\",\"gridwidth\":2,\"linecolor\":\"white\",\"showbackground\":true,\"showgrid\":true,\"ticks\":\"\",\"zerolinecolor\":\"white\"}},\"shapedefaults\":{\"fillcolor\":\"rgb(67,103,167)\",\"line\":{\"width\":0},\"opacity\":0.5},\"ternary\":{\"aaxis\":{\"gridcolor\":\"white\",\"linecolor\":\"white\",\"showgrid\":true,\"ticks\":\"\"},\"baxis\":{\"gridcolor\":\"white\",\"linecolor\":\"white\",\"showgrid\":true,\"ticks\":\"\"},\"bgcolor\":\"rgb(234,234,242)\",\"caxis\":{\"gridcolor\":\"white\",\"linecolor\":\"white\",\"showgrid\":true,\"ticks\":\"\"}},\"xaxis\":{\"automargin\":true,\"gridcolor\":\"white\",\"linecolor\":\"white\",\"showgrid\":true,\"ticks\":\"\",\"title\":{\"standoff\":15},\"zerolinecolor\":\"white\"},\"yaxis\":{\"automargin\":true,\"gridcolor\":\"white\",\"linecolor\":\"white\",\"showgrid\":true,\"ticks\":\"\",\"title\":{\"standoff\":15},\"zerolinecolor\":\"white\"}}},\"title\":{\"text\":\"Confronto partecipanti\"}},                        {\"responsive\": true}                    ).then(function(){\n",
              "                            \n",
              "var gd = document.getElementById('2d45d74f-59db-4b82-9b8f-c0ca45ace437');\n",
              "var x = new MutationObserver(function (mutations, observer) {{\n",
              "        var display = window.getComputedStyle(gd).display;\n",
              "        if (!display || display === 'none') {{\n",
              "            console.log([gd, 'removed!']);\n",
              "            Plotly.purge(gd);\n",
              "            observer.disconnect();\n",
              "        }}\n",
              "}});\n",
              "\n",
              "// Listen for the removal of the full notebook cells\n",
              "var notebookContainer = gd.closest('#notebook-container');\n",
              "if (notebookContainer) {{\n",
              "    x.observe(notebookContainer, {childList: true});\n",
              "}}\n",
              "\n",
              "// Listen for the clearing of the current output cell\n",
              "var outputEl = gd.closest('.output');\n",
              "if (outputEl) {{\n",
              "    x.observe(outputEl, {childList: true});\n",
              "}}\n",
              "\n",
              "                        })                };                            </script>        </div>\n",
              "</body>\n",
              "</html>"
            ]
          },
          "metadata": {
            "tags": []
          }
        }
      ]
    },
    {
      "cell_type": "markdown",
      "metadata": {
        "id": "uKA_ZYZwTD6p"
      },
      "source": [
        "###Ripartizione Cittadini"
      ]
    },
    {
      "cell_type": "code",
      "metadata": {
        "id": "FoIvyxneTPEA"
      },
      "source": [
        "Stat_cittadini = df_domande_j.orderBy(\"Codice Avviso\").na.fill(value=0).filter(df_domande_j['Tipo destinatario'] == \"Cittadini\").groupBy([\"Codice Avviso\",\"Sesso\"]).agg({'Importo Richiesto':'sum', 'Codice Domanda':'count'})\n",
        "Stat_cittadini_pd = Stat_cittadini.toPandas()"
      ],
      "execution_count": 58,
      "outputs": []
    },
    {
      "cell_type": "code",
      "metadata": {
        "colab": {
          "base_uri": "https://localhost:8080/",
          "height": 235
        },
        "id": "qYNU7lbrVIKR",
        "outputId": "48b910b1-a586-4d76-c87a-b8027dcf46df"
      },
      "source": [
        "Stat_cittadini_pd.head(20)"
      ],
      "execution_count": 59,
      "outputs": [
        {
          "output_type": "execute_result",
          "data": {
            "text/html": [
              "<div>\n",
              "<style scoped>\n",
              "    .dataframe tbody tr th:only-of-type {\n",
              "        vertical-align: middle;\n",
              "    }\n",
              "\n",
              "    .dataframe tbody tr th {\n",
              "        vertical-align: top;\n",
              "    }\n",
              "\n",
              "    .dataframe thead th {\n",
              "        text-align: right;\n",
              "    }\n",
              "</style>\n",
              "<table border=\"1\" class=\"dataframe\">\n",
              "  <thead>\n",
              "    <tr style=\"text-align: right;\">\n",
              "      <th></th>\n",
              "      <th>Codice Avviso</th>\n",
              "      <th>Sesso</th>\n",
              "      <th>sum(Importo Richiesto)</th>\n",
              "      <th>count(Codice Domanda)</th>\n",
              "    </tr>\n",
              "  </thead>\n",
              "  <tbody>\n",
              "    <tr>\n",
              "      <th>0</th>\n",
              "      <td>LR22ART8</td>\n",
              "      <td>M</td>\n",
              "      <td>0.000000e+00</td>\n",
              "      <td>264</td>\n",
              "    </tr>\n",
              "    <tr>\n",
              "      <th>1</th>\n",
              "      <td>LR22ART8</td>\n",
              "      <td>F</td>\n",
              "      <td>0.000000e+00</td>\n",
              "      <td>24</td>\n",
              "    </tr>\n",
              "    <tr>\n",
              "      <th>2</th>\n",
              "      <td>LR22ART9</td>\n",
              "      <td>F</td>\n",
              "      <td>7.505415e+06</td>\n",
              "      <td>5976</td>\n",
              "    </tr>\n",
              "    <tr>\n",
              "      <th>3</th>\n",
              "      <td>LR22ART9</td>\n",
              "      <td>M</td>\n",
              "      <td>6.275201e+06</td>\n",
              "      <td>5032</td>\n",
              "    </tr>\n",
              "    <tr>\n",
              "      <th>4</th>\n",
              "      <td>LR22ART9D</td>\n",
              "      <td>F</td>\n",
              "      <td>4.805882e+04</td>\n",
              "      <td>111</td>\n",
              "    </tr>\n",
              "    <tr>\n",
              "      <th>5</th>\n",
              "      <td>LR22ART9D</td>\n",
              "      <td>M</td>\n",
              "      <td>1.872745e+04</td>\n",
              "      <td>33</td>\n",
              "    </tr>\n",
              "  </tbody>\n",
              "</table>\n",
              "</div>"
            ],
            "text/plain": [
              "  Codice Avviso Sesso  sum(Importo Richiesto)  count(Codice Domanda)\n",
              "0      LR22ART8     M            0.000000e+00                    264\n",
              "1      LR22ART8     F            0.000000e+00                     24\n",
              "2      LR22ART9     F            7.505415e+06                   5976\n",
              "3      LR22ART9     M            6.275201e+06                   5032\n",
              "4     LR22ART9D     F            4.805882e+04                    111\n",
              "5     LR22ART9D     M            1.872745e+04                     33"
            ]
          },
          "metadata": {
            "tags": []
          },
          "execution_count": 59
        }
      ]
    },
    {
      "cell_type": "code",
      "metadata": {
        "colab": {
          "base_uri": "https://localhost:8080/",
          "height": 542
        },
        "id": "mdG5xlvSVHHP",
        "outputId": "926d2313-1c14-4bec-b654-ab95f57d745d"
      },
      "source": [
        "avvisi = Stat_cittadini_pd[\"Codice Avviso\"].unique()\n",
        "\n",
        "fig = make_subplots(rows=1, cols=2, subplot_titles=(\"N. di domande presentate\", \"Budget richiesto (€)\"), specs=[[{'type':'bar'}, {'type':'bar'}]])\n",
        "\n",
        "fig.add_trace(go.Bar(\n",
        "    x= avvisi,\n",
        "    y= Stat_cittadini_pd.loc[(Stat_cittadini_pd[\"Sesso\"] ==\"M\"),  \"count(Codice Domanda)\"],\n",
        "    name= \"Maschi\",\n",
        "    hovertext = \"Maschi\",\n",
        "    marker_color='darkgrey',\n",
        "    hovertemplate = '<br><b><i>%{x}</i></b>'+\n",
        "    '<br><i>N. Maschi</i>: <b>%{y}</b>'+\n",
        "    '<extra></extra>', # Rimuove il trace durante l'hover\n",
        "    legendgroup =\"maschi\")\n",
        ",1,1)\n",
        "fig.add_trace(go.Bar(\n",
        "    x= avvisi,\n",
        "    y=Stat_cittadini_pd.loc[(Stat_cittadini_pd[\"Sesso\"] ==\"F\"),  \"count(Codice Domanda)\"],\n",
        "    name=\"Femmine\",\n",
        "    hovertext = \"Femmine\",\n",
        "    marker_color='indianred',\n",
        "    hovertemplate = '<br><b><i>%{x}</i></b>'+\n",
        "    '<br><i>N. Femmine</i>: <b>%{y}</b>'+\n",
        "    '<extra></extra>', # Rimuove il trace durante l'hover\n",
        "    legendgroup =\"Femmine\")\n",
        ",1,1)\n",
        "fig.add_trace(go.Bar(\n",
        "    x= avvisi,\n",
        "    y=Stat_cittadini_pd.loc[(Stat_cittadini_pd[\"Sesso\"] ==\"M\"),  \"sum(Importo Richiesto)\"],\n",
        "    name= \"Maschi\",\n",
        "    hovertext = \"Maschi\",\n",
        "    marker_color='darkgrey',\n",
        "    hovertemplate = '<br><b><i>%{x}</i></b>'+\n",
        "    '<br><i>Importi Maschi</i>:<br>€ <b>%{y:.2f}</b>'+\n",
        "    '<extra></extra>', # Rimuove il trace durante l'hover\n",
        "    legendgroup =\"maschi\",\n",
        "    showlegend=False)\n",
        ",1,2)\n",
        "fig.add_trace(go.Bar(\n",
        "    x= avvisi,\n",
        "    y=Stat_cittadini_pd.loc[(Stat_cittadini_pd[\"Sesso\"] ==\"F\"),  \"sum(Importo Richiesto)\"],\n",
        "    name=\"Femmine\",\n",
        "    hovertext = \"Femmine\",\n",
        "    marker_color='indianred',\n",
        "    hovertemplate = '<br><b><i>%{x}</i></b>'+\n",
        "    '<br><i>Importi Femmine</i>:<br>€ <b>%{y:.2f}</b>'+\n",
        "    '<extra></extra>', # Rimuove il trace durante l'hover\n",
        "    legendgroup =\"Femmine\",\n",
        "    showlegend=False)\n",
        ",1,2)\n",
        "fig.update_yaxes(type=\"log\")\n",
        "fig.update_xaxes(tickangle = -45)\n",
        "fig.update_layout(\n",
        "    title_text=\"Confronto cittadini per genere\")\n",
        "\n",
        "fig.update_layout(barmode='group', xaxis_tickangle=-45)\n",
        "fig.show()"
      ],
      "execution_count": 66,
      "outputs": [
        {
          "output_type": "display_data",
          "data": {
            "text/html": [
              "<html>\n",
              "<head><meta charset=\"utf-8\" /></head>\n",
              "<body>\n",
              "    <div>            <script src=\"https://cdnjs.cloudflare.com/ajax/libs/mathjax/2.7.5/MathJax.js?config=TeX-AMS-MML_SVG\"></script><script type=\"text/javascript\">if (window.MathJax) {MathJax.Hub.Config({SVG: {font: \"STIX-Web\"}});}</script>                <script type=\"text/javascript\">window.PlotlyConfig = {MathJaxConfig: 'local'};</script>\n",
              "        <script src=\"https://cdn.plot.ly/plotly-2.2.0.min.js\"></script>                <div id=\"a8427fd8-9b53-408a-9a4a-2d6b6f86b301\" class=\"plotly-graph-div\" style=\"height:525px; width:100%;\"></div>            <script type=\"text/javascript\">                                    window.PLOTLYENV=window.PLOTLYENV || {};                                    if (document.getElementById(\"a8427fd8-9b53-408a-9a4a-2d6b6f86b301\")) {                    Plotly.newPlot(                        \"a8427fd8-9b53-408a-9a4a-2d6b6f86b301\",                        [{\"hovertemplate\":\"<br><b><i>%{x}</i></b><br><i>N. Maschi</i>: <b>%{y}</b><extra></extra>\",\"hovertext\":\"Maschi\",\"legendgroup\":\"maschi\",\"marker\":{\"color\":\"darkgrey\"},\"name\":\"Maschi\",\"type\":\"bar\",\"x\":[\"LR22ART8\",\"LR22ART9\",\"LR22ART9D\"],\"xaxis\":\"x\",\"y\":[264,5032,33],\"yaxis\":\"y\"},{\"hovertemplate\":\"<br><b><i>%{x}</i></b><br><i>N. Femmine</i>: <b>%{y}</b><extra></extra>\",\"hovertext\":\"Femmine\",\"legendgroup\":\"Femmine\",\"marker\":{\"color\":\"indianred\"},\"name\":\"Femmine\",\"type\":\"bar\",\"x\":[\"LR22ART8\",\"LR22ART9\",\"LR22ART9D\"],\"xaxis\":\"x\",\"y\":[24,5976,111],\"yaxis\":\"y\"},{\"hovertemplate\":\"<br><b><i>%{x}</i></b><br><i>Importi Maschi</i>:<br>\\u20ac <b>%{y:.2f}</b><extra></extra>\",\"hovertext\":\"Maschi\",\"legendgroup\":\"maschi\",\"marker\":{\"color\":\"darkgrey\"},\"name\":\"Maschi\",\"showlegend\":false,\"type\":\"bar\",\"x\":[\"LR22ART8\",\"LR22ART9\",\"LR22ART9D\"],\"xaxis\":\"x2\",\"y\":[0.0,6275200.729110718,18727.44997024536],\"yaxis\":\"y2\"},{\"hovertemplate\":\"<br><b><i>%{x}</i></b><br><i>Importi Femmine</i>:<br>\\u20ac <b>%{y:.2f}</b><extra></extra>\",\"hovertext\":\"Femmine\",\"legendgroup\":\"Femmine\",\"marker\":{\"color\":\"indianred\"},\"name\":\"Femmine\",\"showlegend\":false,\"type\":\"bar\",\"x\":[\"LR22ART8\",\"LR22ART9\",\"LR22ART9D\"],\"xaxis\":\"x2\",\"y\":[0.0,7505414.581771851,48058.819999694824],\"yaxis\":\"y2\"}],                        {\"annotations\":[{\"font\":{\"size\":16},\"showarrow\":false,\"text\":\"N. di domande presentate\",\"x\":0.225,\"xanchor\":\"center\",\"xref\":\"paper\",\"y\":1.0,\"yanchor\":\"bottom\",\"yref\":\"paper\"},{\"font\":{\"size\":16},\"showarrow\":false,\"text\":\"Budget richiesto (\\u20ac)\",\"x\":0.775,\"xanchor\":\"center\",\"xref\":\"paper\",\"y\":1.0,\"yanchor\":\"bottom\",\"yref\":\"paper\"}],\"barmode\":\"group\",\"template\":{\"data\":{\"bar\":[{\"error_x\":{\"color\":\"rgb(36,36,36)\"},\"error_y\":{\"color\":\"rgb(36,36,36)\"},\"marker\":{\"line\":{\"color\":\"rgb(234,234,242)\",\"width\":0.5},\"pattern\":{\"fillmode\":\"overlay\",\"size\":10,\"solidity\":0.2}},\"type\":\"bar\"}],\"barpolar\":[{\"marker\":{\"line\":{\"color\":\"rgb(234,234,242)\",\"width\":0.5},\"pattern\":{\"fillmode\":\"overlay\",\"size\":10,\"solidity\":0.2}},\"type\":\"barpolar\"}],\"carpet\":[{\"aaxis\":{\"endlinecolor\":\"rgb(36,36,36)\",\"gridcolor\":\"white\",\"linecolor\":\"white\",\"minorgridcolor\":\"white\",\"startlinecolor\":\"rgb(36,36,36)\"},\"baxis\":{\"endlinecolor\":\"rgb(36,36,36)\",\"gridcolor\":\"white\",\"linecolor\":\"white\",\"minorgridcolor\":\"white\",\"startlinecolor\":\"rgb(36,36,36)\"},\"type\":\"carpet\"}],\"choropleth\":[{\"colorbar\":{\"outlinewidth\":0,\"tickcolor\":\"rgb(36,36,36)\",\"ticklen\":8,\"ticks\":\"outside\",\"tickwidth\":2},\"type\":\"choropleth\"}],\"contour\":[{\"colorbar\":{\"outlinewidth\":0,\"tickcolor\":\"rgb(36,36,36)\",\"ticklen\":8,\"ticks\":\"outside\",\"tickwidth\":2},\"colorscale\":[[0.0,\"rgb(2,4,25)\"],[0.06274509803921569,\"rgb(24,15,41)\"],[0.12549019607843137,\"rgb(47,23,57)\"],[0.18823529411764706,\"rgb(71,28,72)\"],[0.25098039215686274,\"rgb(97,30,82)\"],[0.3137254901960784,\"rgb(123,30,89)\"],[0.3764705882352941,\"rgb(150,27,91)\"],[0.4392156862745098,\"rgb(177,22,88)\"],[0.5019607843137255,\"rgb(203,26,79)\"],[0.5647058823529412,\"rgb(223,47,67)\"],[0.6274509803921569,\"rgb(236,76,61)\"],[0.6901960784313725,\"rgb(242,107,73)\"],[0.7529411764705882,\"rgb(244,135,95)\"],[0.8156862745098039,\"rgb(245,162,122)\"],[0.8784313725490196,\"rgb(246,188,153)\"],[0.9411764705882353,\"rgb(247,212,187)\"],[1.0,\"rgb(250,234,220)\"]],\"type\":\"contour\"}],\"contourcarpet\":[{\"colorbar\":{\"outlinewidth\":0,\"tickcolor\":\"rgb(36,36,36)\",\"ticklen\":8,\"ticks\":\"outside\",\"tickwidth\":2},\"type\":\"contourcarpet\"}],\"heatmap\":[{\"colorbar\":{\"outlinewidth\":0,\"tickcolor\":\"rgb(36,36,36)\",\"ticklen\":8,\"ticks\":\"outside\",\"tickwidth\":2},\"colorscale\":[[0.0,\"rgb(2,4,25)\"],[0.06274509803921569,\"rgb(24,15,41)\"],[0.12549019607843137,\"rgb(47,23,57)\"],[0.18823529411764706,\"rgb(71,28,72)\"],[0.25098039215686274,\"rgb(97,30,82)\"],[0.3137254901960784,\"rgb(123,30,89)\"],[0.3764705882352941,\"rgb(150,27,91)\"],[0.4392156862745098,\"rgb(177,22,88)\"],[0.5019607843137255,\"rgb(203,26,79)\"],[0.5647058823529412,\"rgb(223,47,67)\"],[0.6274509803921569,\"rgb(236,76,61)\"],[0.6901960784313725,\"rgb(242,107,73)\"],[0.7529411764705882,\"rgb(244,135,95)\"],[0.8156862745098039,\"rgb(245,162,122)\"],[0.8784313725490196,\"rgb(246,188,153)\"],[0.9411764705882353,\"rgb(247,212,187)\"],[1.0,\"rgb(250,234,220)\"]],\"type\":\"heatmap\"}],\"heatmapgl\":[{\"colorbar\":{\"outlinewidth\":0,\"tickcolor\":\"rgb(36,36,36)\",\"ticklen\":8,\"ticks\":\"outside\",\"tickwidth\":2},\"colorscale\":[[0.0,\"rgb(2,4,25)\"],[0.06274509803921569,\"rgb(24,15,41)\"],[0.12549019607843137,\"rgb(47,23,57)\"],[0.18823529411764706,\"rgb(71,28,72)\"],[0.25098039215686274,\"rgb(97,30,82)\"],[0.3137254901960784,\"rgb(123,30,89)\"],[0.3764705882352941,\"rgb(150,27,91)\"],[0.4392156862745098,\"rgb(177,22,88)\"],[0.5019607843137255,\"rgb(203,26,79)\"],[0.5647058823529412,\"rgb(223,47,67)\"],[0.6274509803921569,\"rgb(236,76,61)\"],[0.6901960784313725,\"rgb(242,107,73)\"],[0.7529411764705882,\"rgb(244,135,95)\"],[0.8156862745098039,\"rgb(245,162,122)\"],[0.8784313725490196,\"rgb(246,188,153)\"],[0.9411764705882353,\"rgb(247,212,187)\"],[1.0,\"rgb(250,234,220)\"]],\"type\":\"heatmapgl\"}],\"histogram\":[{\"marker\":{\"pattern\":{\"fillmode\":\"overlay\",\"size\":10,\"solidity\":0.2}},\"type\":\"histogram\"}],\"histogram2d\":[{\"colorbar\":{\"outlinewidth\":0,\"tickcolor\":\"rgb(36,36,36)\",\"ticklen\":8,\"ticks\":\"outside\",\"tickwidth\":2},\"colorscale\":[[0.0,\"rgb(2,4,25)\"],[0.06274509803921569,\"rgb(24,15,41)\"],[0.12549019607843137,\"rgb(47,23,57)\"],[0.18823529411764706,\"rgb(71,28,72)\"],[0.25098039215686274,\"rgb(97,30,82)\"],[0.3137254901960784,\"rgb(123,30,89)\"],[0.3764705882352941,\"rgb(150,27,91)\"],[0.4392156862745098,\"rgb(177,22,88)\"],[0.5019607843137255,\"rgb(203,26,79)\"],[0.5647058823529412,\"rgb(223,47,67)\"],[0.6274509803921569,\"rgb(236,76,61)\"],[0.6901960784313725,\"rgb(242,107,73)\"],[0.7529411764705882,\"rgb(244,135,95)\"],[0.8156862745098039,\"rgb(245,162,122)\"],[0.8784313725490196,\"rgb(246,188,153)\"],[0.9411764705882353,\"rgb(247,212,187)\"],[1.0,\"rgb(250,234,220)\"]],\"type\":\"histogram2d\"}],\"histogram2dcontour\":[{\"colorbar\":{\"outlinewidth\":0,\"tickcolor\":\"rgb(36,36,36)\",\"ticklen\":8,\"ticks\":\"outside\",\"tickwidth\":2},\"colorscale\":[[0.0,\"rgb(2,4,25)\"],[0.06274509803921569,\"rgb(24,15,41)\"],[0.12549019607843137,\"rgb(47,23,57)\"],[0.18823529411764706,\"rgb(71,28,72)\"],[0.25098039215686274,\"rgb(97,30,82)\"],[0.3137254901960784,\"rgb(123,30,89)\"],[0.3764705882352941,\"rgb(150,27,91)\"],[0.4392156862745098,\"rgb(177,22,88)\"],[0.5019607843137255,\"rgb(203,26,79)\"],[0.5647058823529412,\"rgb(223,47,67)\"],[0.6274509803921569,\"rgb(236,76,61)\"],[0.6901960784313725,\"rgb(242,107,73)\"],[0.7529411764705882,\"rgb(244,135,95)\"],[0.8156862745098039,\"rgb(245,162,122)\"],[0.8784313725490196,\"rgb(246,188,153)\"],[0.9411764705882353,\"rgb(247,212,187)\"],[1.0,\"rgb(250,234,220)\"]],\"type\":\"histogram2dcontour\"}],\"mesh3d\":[{\"colorbar\":{\"outlinewidth\":0,\"tickcolor\":\"rgb(36,36,36)\",\"ticklen\":8,\"ticks\":\"outside\",\"tickwidth\":2},\"type\":\"mesh3d\"}],\"parcoords\":[{\"line\":{\"colorbar\":{\"outlinewidth\":0,\"tickcolor\":\"rgb(36,36,36)\",\"ticklen\":8,\"ticks\":\"outside\",\"tickwidth\":2}},\"type\":\"parcoords\"}],\"pie\":[{\"automargin\":true,\"type\":\"pie\"}],\"scatter\":[{\"marker\":{\"colorbar\":{\"outlinewidth\":0,\"tickcolor\":\"rgb(36,36,36)\",\"ticklen\":8,\"ticks\":\"outside\",\"tickwidth\":2}},\"type\":\"scatter\"}],\"scatter3d\":[{\"line\":{\"colorbar\":{\"outlinewidth\":0,\"tickcolor\":\"rgb(36,36,36)\",\"ticklen\":8,\"ticks\":\"outside\",\"tickwidth\":2}},\"marker\":{\"colorbar\":{\"outlinewidth\":0,\"tickcolor\":\"rgb(36,36,36)\",\"ticklen\":8,\"ticks\":\"outside\",\"tickwidth\":2}},\"type\":\"scatter3d\"}],\"scattercarpet\":[{\"marker\":{\"colorbar\":{\"outlinewidth\":0,\"tickcolor\":\"rgb(36,36,36)\",\"ticklen\":8,\"ticks\":\"outside\",\"tickwidth\":2}},\"type\":\"scattercarpet\"}],\"scattergeo\":[{\"marker\":{\"colorbar\":{\"outlinewidth\":0,\"tickcolor\":\"rgb(36,36,36)\",\"ticklen\":8,\"ticks\":\"outside\",\"tickwidth\":2}},\"type\":\"scattergeo\"}],\"scattergl\":[{\"marker\":{\"colorbar\":{\"outlinewidth\":0,\"tickcolor\":\"rgb(36,36,36)\",\"ticklen\":8,\"ticks\":\"outside\",\"tickwidth\":2}},\"type\":\"scattergl\"}],\"scattermapbox\":[{\"marker\":{\"colorbar\":{\"outlinewidth\":0,\"tickcolor\":\"rgb(36,36,36)\",\"ticklen\":8,\"ticks\":\"outside\",\"tickwidth\":2}},\"type\":\"scattermapbox\"}],\"scatterpolar\":[{\"marker\":{\"colorbar\":{\"outlinewidth\":0,\"tickcolor\":\"rgb(36,36,36)\",\"ticklen\":8,\"ticks\":\"outside\",\"tickwidth\":2}},\"type\":\"scatterpolar\"}],\"scatterpolargl\":[{\"marker\":{\"colorbar\":{\"outlinewidth\":0,\"tickcolor\":\"rgb(36,36,36)\",\"ticklen\":8,\"ticks\":\"outside\",\"tickwidth\":2}},\"type\":\"scatterpolargl\"}],\"scatterternary\":[{\"marker\":{\"colorbar\":{\"outlinewidth\":0,\"tickcolor\":\"rgb(36,36,36)\",\"ticklen\":8,\"ticks\":\"outside\",\"tickwidth\":2}},\"type\":\"scatterternary\"}],\"surface\":[{\"colorbar\":{\"outlinewidth\":0,\"tickcolor\":\"rgb(36,36,36)\",\"ticklen\":8,\"ticks\":\"outside\",\"tickwidth\":2},\"colorscale\":[[0.0,\"rgb(2,4,25)\"],[0.06274509803921569,\"rgb(24,15,41)\"],[0.12549019607843137,\"rgb(47,23,57)\"],[0.18823529411764706,\"rgb(71,28,72)\"],[0.25098039215686274,\"rgb(97,30,82)\"],[0.3137254901960784,\"rgb(123,30,89)\"],[0.3764705882352941,\"rgb(150,27,91)\"],[0.4392156862745098,\"rgb(177,22,88)\"],[0.5019607843137255,\"rgb(203,26,79)\"],[0.5647058823529412,\"rgb(223,47,67)\"],[0.6274509803921569,\"rgb(236,76,61)\"],[0.6901960784313725,\"rgb(242,107,73)\"],[0.7529411764705882,\"rgb(244,135,95)\"],[0.8156862745098039,\"rgb(245,162,122)\"],[0.8784313725490196,\"rgb(246,188,153)\"],[0.9411764705882353,\"rgb(247,212,187)\"],[1.0,\"rgb(250,234,220)\"]],\"type\":\"surface\"}],\"table\":[{\"cells\":{\"fill\":{\"color\":\"rgb(231,231,240)\"},\"line\":{\"color\":\"white\"}},\"header\":{\"fill\":{\"color\":\"rgb(183,183,191)\"},\"line\":{\"color\":\"white\"}},\"type\":\"table\"}]},\"layout\":{\"annotationdefaults\":{\"arrowcolor\":\"rgb(67,103,167)\"},\"autotypenumbers\":\"strict\",\"coloraxis\":{\"colorbar\":{\"outlinewidth\":0,\"tickcolor\":\"rgb(36,36,36)\",\"ticklen\":8,\"ticks\":\"outside\",\"tickwidth\":2}},\"colorscale\":{\"sequential\":[[0.0,\"rgb(2,4,25)\"],[0.06274509803921569,\"rgb(24,15,41)\"],[0.12549019607843137,\"rgb(47,23,57)\"],[0.18823529411764706,\"rgb(71,28,72)\"],[0.25098039215686274,\"rgb(97,30,82)\"],[0.3137254901960784,\"rgb(123,30,89)\"],[0.3764705882352941,\"rgb(150,27,91)\"],[0.4392156862745098,\"rgb(177,22,88)\"],[0.5019607843137255,\"rgb(203,26,79)\"],[0.5647058823529412,\"rgb(223,47,67)\"],[0.6274509803921569,\"rgb(236,76,61)\"],[0.6901960784313725,\"rgb(242,107,73)\"],[0.7529411764705882,\"rgb(244,135,95)\"],[0.8156862745098039,\"rgb(245,162,122)\"],[0.8784313725490196,\"rgb(246,188,153)\"],[0.9411764705882353,\"rgb(247,212,187)\"],[1.0,\"rgb(250,234,220)\"]],\"sequentialminus\":[[0.0,\"rgb(2,4,25)\"],[0.06274509803921569,\"rgb(24,15,41)\"],[0.12549019607843137,\"rgb(47,23,57)\"],[0.18823529411764706,\"rgb(71,28,72)\"],[0.25098039215686274,\"rgb(97,30,82)\"],[0.3137254901960784,\"rgb(123,30,89)\"],[0.3764705882352941,\"rgb(150,27,91)\"],[0.4392156862745098,\"rgb(177,22,88)\"],[0.5019607843137255,\"rgb(203,26,79)\"],[0.5647058823529412,\"rgb(223,47,67)\"],[0.6274509803921569,\"rgb(236,76,61)\"],[0.6901960784313725,\"rgb(242,107,73)\"],[0.7529411764705882,\"rgb(244,135,95)\"],[0.8156862745098039,\"rgb(245,162,122)\"],[0.8784313725490196,\"rgb(246,188,153)\"],[0.9411764705882353,\"rgb(247,212,187)\"],[1.0,\"rgb(250,234,220)\"]]},\"colorway\":[\"rgb(76,114,176)\",\"rgb(221,132,82)\",\"rgb(85,168,104)\",\"rgb(196,78,82)\",\"rgb(129,114,179)\",\"rgb(147,120,96)\",\"rgb(218,139,195)\",\"rgb(140,140,140)\",\"rgb(204,185,116)\",\"rgb(100,181,205)\"],\"font\":{\"color\":\"rgb(36,36,36)\"},\"geo\":{\"bgcolor\":\"white\",\"lakecolor\":\"white\",\"landcolor\":\"rgb(234,234,242)\",\"showlakes\":true,\"showland\":true,\"subunitcolor\":\"white\"},\"hoverlabel\":{\"align\":\"left\"},\"hovermode\":\"closest\",\"paper_bgcolor\":\"white\",\"plot_bgcolor\":\"rgb(234,234,242)\",\"polar\":{\"angularaxis\":{\"gridcolor\":\"white\",\"linecolor\":\"white\",\"showgrid\":true,\"ticks\":\"\"},\"bgcolor\":\"rgb(234,234,242)\",\"radialaxis\":{\"gridcolor\":\"white\",\"linecolor\":\"white\",\"showgrid\":true,\"ticks\":\"\"}},\"scene\":{\"xaxis\":{\"backgroundcolor\":\"rgb(234,234,242)\",\"gridcolor\":\"white\",\"gridwidth\":2,\"linecolor\":\"white\",\"showbackground\":true,\"showgrid\":true,\"ticks\":\"\",\"zerolinecolor\":\"white\"},\"yaxis\":{\"backgroundcolor\":\"rgb(234,234,242)\",\"gridcolor\":\"white\",\"gridwidth\":2,\"linecolor\":\"white\",\"showbackground\":true,\"showgrid\":true,\"ticks\":\"\",\"zerolinecolor\":\"white\"},\"zaxis\":{\"backgroundcolor\":\"rgb(234,234,242)\",\"gridcolor\":\"white\",\"gridwidth\":2,\"linecolor\":\"white\",\"showbackground\":true,\"showgrid\":true,\"ticks\":\"\",\"zerolinecolor\":\"white\"}},\"shapedefaults\":{\"fillcolor\":\"rgb(67,103,167)\",\"line\":{\"width\":0},\"opacity\":0.5},\"ternary\":{\"aaxis\":{\"gridcolor\":\"white\",\"linecolor\":\"white\",\"showgrid\":true,\"ticks\":\"\"},\"baxis\":{\"gridcolor\":\"white\",\"linecolor\":\"white\",\"showgrid\":true,\"ticks\":\"\"},\"bgcolor\":\"rgb(234,234,242)\",\"caxis\":{\"gridcolor\":\"white\",\"linecolor\":\"white\",\"showgrid\":true,\"ticks\":\"\"}},\"xaxis\":{\"automargin\":true,\"gridcolor\":\"white\",\"linecolor\":\"white\",\"showgrid\":true,\"ticks\":\"\",\"title\":{\"standoff\":15},\"zerolinecolor\":\"white\"},\"yaxis\":{\"automargin\":true,\"gridcolor\":\"white\",\"linecolor\":\"white\",\"showgrid\":true,\"ticks\":\"\",\"title\":{\"standoff\":15},\"zerolinecolor\":\"white\"}}},\"title\":{\"text\":\"Confronto cittadini per genere\"},\"xaxis\":{\"anchor\":\"y\",\"domain\":[0.0,0.45],\"tickangle\":-45},\"xaxis2\":{\"anchor\":\"y2\",\"domain\":[0.55,1.0],\"tickangle\":-45},\"yaxis\":{\"anchor\":\"x\",\"domain\":[0.0,1.0],\"type\":\"log\"},\"yaxis2\":{\"anchor\":\"x2\",\"domain\":[0.0,1.0],\"type\":\"log\"}},                        {\"responsive\": true}                    ).then(function(){\n",
              "                            \n",
              "var gd = document.getElementById('a8427fd8-9b53-408a-9a4a-2d6b6f86b301');\n",
              "var x = new MutationObserver(function (mutations, observer) {{\n",
              "        var display = window.getComputedStyle(gd).display;\n",
              "        if (!display || display === 'none') {{\n",
              "            console.log([gd, 'removed!']);\n",
              "            Plotly.purge(gd);\n",
              "            observer.disconnect();\n",
              "        }}\n",
              "}});\n",
              "\n",
              "// Listen for the removal of the full notebook cells\n",
              "var notebookContainer = gd.closest('#notebook-container');\n",
              "if (notebookContainer) {{\n",
              "    x.observe(notebookContainer, {childList: true});\n",
              "}}\n",
              "\n",
              "// Listen for the clearing of the current output cell\n",
              "var outputEl = gd.closest('.output');\n",
              "if (outputEl) {{\n",
              "    x.observe(outputEl, {childList: true});\n",
              "}}\n",
              "\n",
              "                        })                };                            </script>        </div>\n",
              "</body>\n",
              "</html>"
            ]
          },
          "metadata": {
            "tags": []
          }
        }
      ]
    },
    {
      "cell_type": "markdown",
      "metadata": {
        "id": "BjFx_cIueCqf"
      },
      "source": [
        "###Ripartizione Enti e Imprese"
      ]
    },
    {
      "cell_type": "code",
      "metadata": {
        "id": "wEv_oRRaeQmm"
      },
      "source": [
        "Stat_imprese = df_domande_j.na.fill(value=0).filter(df_domande_j['Macrotipologia destinatario'] == \"Imprese / Enti\").groupBy([\"Codice Avviso\",\"Macro Settore Ateco\"]).agg({'Importo Richiesto':'sum', 'Codice Domanda':'count'})\n",
        "Stat_imprese_pd = Stat_imprese.toPandas()"
      ],
      "execution_count": 61,
      "outputs": []
    },
    {
      "cell_type": "code",
      "metadata": {
        "id": "D8u7kDVOZLt3"
      },
      "source": [
        "#Stat_imprese_pd.head(10)"
      ],
      "execution_count": 62,
      "outputs": []
    },
    {
      "cell_type": "code",
      "metadata": {
        "colab": {
          "base_uri": "https://localhost:8080/",
          "height": 542
        },
        "id": "5coLHrFie4Og",
        "outputId": "584d670a-3eb2-40ab-98f6-954bcff00ef0"
      },
      "source": [
        "avvisi = Stat_imprese_pd[\"Codice Avviso\"].unique()\n",
        "totale_domande = Stat_imprese_pd['count(Codice Domanda)'].sum()\n",
        "totale_finanziamento = currency_converter(Stat_imprese_pd['sum(Importo Richiesto)'].sum())\n",
        "\n",
        "fig = make_subplots(rows=1, cols=2, subplot_titles=(\"N. di domande presentate\", \"Budget richiesto (€)\"), specs=[[{'type':'domain'}, {'type':'domain'}]])\n",
        "\n",
        "fig.add_trace(go.Pie(labels=avvisi, values=Stat_imprese_pd.groupby(['Codice Avviso']).sum()['count(Codice Domanda)']), 1, 1)\n",
        "\n",
        "fig.add_trace(go.Pie(labels=avvisi, values=Stat_imprese_pd.groupby(['Codice Avviso']).sum()['sum(Importo Richiesto)']), 1, 2)\n",
        "\n",
        "fig.update_traces(hole=.4, hoverinfo=\"label+value\")\n",
        "fig.update_layout(\n",
        "    title_text=\"Confronto partecipazione imprese\"#,\n",
        "    #annotations=[dict(text=int(totale_domande), x=0.225, y=0.46, font_size=20, showarrow=False,),\n",
        "    #             dict(text=totale_finanziamento, x=0.775, y=0.47, font_size=14, showarrow=False)]\n",
        "    )\n",
        "fig.show()"
      ],
      "execution_count": 67,
      "outputs": [
        {
          "output_type": "display_data",
          "data": {
            "text/html": [
              "<html>\n",
              "<head><meta charset=\"utf-8\" /></head>\n",
              "<body>\n",
              "    <div>            <script src=\"https://cdnjs.cloudflare.com/ajax/libs/mathjax/2.7.5/MathJax.js?config=TeX-AMS-MML_SVG\"></script><script type=\"text/javascript\">if (window.MathJax) {MathJax.Hub.Config({SVG: {font: \"STIX-Web\"}});}</script>                <script type=\"text/javascript\">window.PlotlyConfig = {MathJaxConfig: 'local'};</script>\n",
              "        <script src=\"https://cdn.plot.ly/plotly-2.2.0.min.js\"></script>                <div id=\"972cb586-fa7f-4581-afac-2c103f0d5b20\" class=\"plotly-graph-div\" style=\"height:525px; width:100%;\"></div>            <script type=\"text/javascript\">                                    window.PLOTLYENV=window.PLOTLYENV || {};                                    if (document.getElementById(\"972cb586-fa7f-4581-afac-2c103f0d5b20\")) {                    Plotly.newPlot(                        \"972cb586-fa7f-4581-afac-2c103f0d5b20\",                        [{\"domain\":{\"x\":[0.0,0.45],\"y\":[0.0,1.0]},\"hole\":0.4,\"hoverinfo\":\"label+value\",\"labels\":[\"DSAL 2020 - Over 35\",\"LR22 ART. 11 - Comma 1, lett.a-b\",\"LR30 ART. 5\",\"(R)ESISTO - Linea Micro e Piccole Medie Imprese\",\"(R)ESISTO - Linea Lavoratori e Lavoratrici\",\"Fondo di rotazione\",\"DSAL 2020 - Under 35\",\"SSE Lavoro Sardegna LR 22 ART 12 comma 1 e 2\",\"SSE Lavoro Sardegna LR 22 ART 12 comma 3\",\"SSE Lavoro Sardegna LR 22 ART 12 comma 4\",\"CIG Deroga 2020 covid 19\",\"LR22 ART. 11 - Percorsi formativi disoccupati\",\"(R)ESISTO - Linea Grandi imprese\"],\"type\":\"pie\",\"values\":[15,7425,9215,16979,1249,1363,242,130,88,6363,992,103,62]},{\"domain\":{\"x\":[0.55,1.0],\"y\":[0.0,1.0]},\"hole\":0.4,\"hoverinfo\":\"label+value\",\"labels\":[\"DSAL 2020 - Over 35\",\"LR22 ART. 11 - Comma 1, lett.a-b\",\"LR30 ART. 5\",\"(R)ESISTO - Linea Micro e Piccole Medie Imprese\",\"(R)ESISTO - Linea Lavoratori e Lavoratrici\",\"Fondo di rotazione\",\"DSAL 2020 - Under 35\",\"SSE Lavoro Sardegna LR 22 ART 12 comma 1 e 2\",\"SSE Lavoro Sardegna LR 22 ART 12 comma 3\",\"SSE Lavoro Sardegna LR 22 ART 12 comma 4\",\"CIG Deroga 2020 covid 19\",\"LR22 ART. 11 - Percorsi formativi disoccupati\",\"(R)ESISTO - Linea Grandi imprese\"],\"type\":\"pie\",\"values\":[3687177.7841796875,32789576.454681396,203122761.22505188,62219275.18984985,23179928.630126953,16502784.080078125,0.0,2768661.3882751465,0.0,44541000.0,2228000.0,2609709.615386963,1262860.9528808594]}],                        {\"annotations\":[{\"font\":{\"size\":16},\"showarrow\":false,\"text\":\"N. di domande presentate\",\"x\":0.225,\"xanchor\":\"center\",\"xref\":\"paper\",\"y\":1.0,\"yanchor\":\"bottom\",\"yref\":\"paper\"},{\"font\":{\"size\":16},\"showarrow\":false,\"text\":\"Budget richiesto (\\u20ac)\",\"x\":0.775,\"xanchor\":\"center\",\"xref\":\"paper\",\"y\":1.0,\"yanchor\":\"bottom\",\"yref\":\"paper\"}],\"template\":{\"data\":{\"bar\":[{\"error_x\":{\"color\":\"rgb(36,36,36)\"},\"error_y\":{\"color\":\"rgb(36,36,36)\"},\"marker\":{\"line\":{\"color\":\"rgb(234,234,242)\",\"width\":0.5},\"pattern\":{\"fillmode\":\"overlay\",\"size\":10,\"solidity\":0.2}},\"type\":\"bar\"}],\"barpolar\":[{\"marker\":{\"line\":{\"color\":\"rgb(234,234,242)\",\"width\":0.5},\"pattern\":{\"fillmode\":\"overlay\",\"size\":10,\"solidity\":0.2}},\"type\":\"barpolar\"}],\"carpet\":[{\"aaxis\":{\"endlinecolor\":\"rgb(36,36,36)\",\"gridcolor\":\"white\",\"linecolor\":\"white\",\"minorgridcolor\":\"white\",\"startlinecolor\":\"rgb(36,36,36)\"},\"baxis\":{\"endlinecolor\":\"rgb(36,36,36)\",\"gridcolor\":\"white\",\"linecolor\":\"white\",\"minorgridcolor\":\"white\",\"startlinecolor\":\"rgb(36,36,36)\"},\"type\":\"carpet\"}],\"choropleth\":[{\"colorbar\":{\"outlinewidth\":0,\"tickcolor\":\"rgb(36,36,36)\",\"ticklen\":8,\"ticks\":\"outside\",\"tickwidth\":2},\"type\":\"choropleth\"}],\"contour\":[{\"colorbar\":{\"outlinewidth\":0,\"tickcolor\":\"rgb(36,36,36)\",\"ticklen\":8,\"ticks\":\"outside\",\"tickwidth\":2},\"colorscale\":[[0.0,\"rgb(2,4,25)\"],[0.06274509803921569,\"rgb(24,15,41)\"],[0.12549019607843137,\"rgb(47,23,57)\"],[0.18823529411764706,\"rgb(71,28,72)\"],[0.25098039215686274,\"rgb(97,30,82)\"],[0.3137254901960784,\"rgb(123,30,89)\"],[0.3764705882352941,\"rgb(150,27,91)\"],[0.4392156862745098,\"rgb(177,22,88)\"],[0.5019607843137255,\"rgb(203,26,79)\"],[0.5647058823529412,\"rgb(223,47,67)\"],[0.6274509803921569,\"rgb(236,76,61)\"],[0.6901960784313725,\"rgb(242,107,73)\"],[0.7529411764705882,\"rgb(244,135,95)\"],[0.8156862745098039,\"rgb(245,162,122)\"],[0.8784313725490196,\"rgb(246,188,153)\"],[0.9411764705882353,\"rgb(247,212,187)\"],[1.0,\"rgb(250,234,220)\"]],\"type\":\"contour\"}],\"contourcarpet\":[{\"colorbar\":{\"outlinewidth\":0,\"tickcolor\":\"rgb(36,36,36)\",\"ticklen\":8,\"ticks\":\"outside\",\"tickwidth\":2},\"type\":\"contourcarpet\"}],\"heatmap\":[{\"colorbar\":{\"outlinewidth\":0,\"tickcolor\":\"rgb(36,36,36)\",\"ticklen\":8,\"ticks\":\"outside\",\"tickwidth\":2},\"colorscale\":[[0.0,\"rgb(2,4,25)\"],[0.06274509803921569,\"rgb(24,15,41)\"],[0.12549019607843137,\"rgb(47,23,57)\"],[0.18823529411764706,\"rgb(71,28,72)\"],[0.25098039215686274,\"rgb(97,30,82)\"],[0.3137254901960784,\"rgb(123,30,89)\"],[0.3764705882352941,\"rgb(150,27,91)\"],[0.4392156862745098,\"rgb(177,22,88)\"],[0.5019607843137255,\"rgb(203,26,79)\"],[0.5647058823529412,\"rgb(223,47,67)\"],[0.6274509803921569,\"rgb(236,76,61)\"],[0.6901960784313725,\"rgb(242,107,73)\"],[0.7529411764705882,\"rgb(244,135,95)\"],[0.8156862745098039,\"rgb(245,162,122)\"],[0.8784313725490196,\"rgb(246,188,153)\"],[0.9411764705882353,\"rgb(247,212,187)\"],[1.0,\"rgb(250,234,220)\"]],\"type\":\"heatmap\"}],\"heatmapgl\":[{\"colorbar\":{\"outlinewidth\":0,\"tickcolor\":\"rgb(36,36,36)\",\"ticklen\":8,\"ticks\":\"outside\",\"tickwidth\":2},\"colorscale\":[[0.0,\"rgb(2,4,25)\"],[0.06274509803921569,\"rgb(24,15,41)\"],[0.12549019607843137,\"rgb(47,23,57)\"],[0.18823529411764706,\"rgb(71,28,72)\"],[0.25098039215686274,\"rgb(97,30,82)\"],[0.3137254901960784,\"rgb(123,30,89)\"],[0.3764705882352941,\"rgb(150,27,91)\"],[0.4392156862745098,\"rgb(177,22,88)\"],[0.5019607843137255,\"rgb(203,26,79)\"],[0.5647058823529412,\"rgb(223,47,67)\"],[0.6274509803921569,\"rgb(236,76,61)\"],[0.6901960784313725,\"rgb(242,107,73)\"],[0.7529411764705882,\"rgb(244,135,95)\"],[0.8156862745098039,\"rgb(245,162,122)\"],[0.8784313725490196,\"rgb(246,188,153)\"],[0.9411764705882353,\"rgb(247,212,187)\"],[1.0,\"rgb(250,234,220)\"]],\"type\":\"heatmapgl\"}],\"histogram\":[{\"marker\":{\"pattern\":{\"fillmode\":\"overlay\",\"size\":10,\"solidity\":0.2}},\"type\":\"histogram\"}],\"histogram2d\":[{\"colorbar\":{\"outlinewidth\":0,\"tickcolor\":\"rgb(36,36,36)\",\"ticklen\":8,\"ticks\":\"outside\",\"tickwidth\":2},\"colorscale\":[[0.0,\"rgb(2,4,25)\"],[0.06274509803921569,\"rgb(24,15,41)\"],[0.12549019607843137,\"rgb(47,23,57)\"],[0.18823529411764706,\"rgb(71,28,72)\"],[0.25098039215686274,\"rgb(97,30,82)\"],[0.3137254901960784,\"rgb(123,30,89)\"],[0.3764705882352941,\"rgb(150,27,91)\"],[0.4392156862745098,\"rgb(177,22,88)\"],[0.5019607843137255,\"rgb(203,26,79)\"],[0.5647058823529412,\"rgb(223,47,67)\"],[0.6274509803921569,\"rgb(236,76,61)\"],[0.6901960784313725,\"rgb(242,107,73)\"],[0.7529411764705882,\"rgb(244,135,95)\"],[0.8156862745098039,\"rgb(245,162,122)\"],[0.8784313725490196,\"rgb(246,188,153)\"],[0.9411764705882353,\"rgb(247,212,187)\"],[1.0,\"rgb(250,234,220)\"]],\"type\":\"histogram2d\"}],\"histogram2dcontour\":[{\"colorbar\":{\"outlinewidth\":0,\"tickcolor\":\"rgb(36,36,36)\",\"ticklen\":8,\"ticks\":\"outside\",\"tickwidth\":2},\"colorscale\":[[0.0,\"rgb(2,4,25)\"],[0.06274509803921569,\"rgb(24,15,41)\"],[0.12549019607843137,\"rgb(47,23,57)\"],[0.18823529411764706,\"rgb(71,28,72)\"],[0.25098039215686274,\"rgb(97,30,82)\"],[0.3137254901960784,\"rgb(123,30,89)\"],[0.3764705882352941,\"rgb(150,27,91)\"],[0.4392156862745098,\"rgb(177,22,88)\"],[0.5019607843137255,\"rgb(203,26,79)\"],[0.5647058823529412,\"rgb(223,47,67)\"],[0.6274509803921569,\"rgb(236,76,61)\"],[0.6901960784313725,\"rgb(242,107,73)\"],[0.7529411764705882,\"rgb(244,135,95)\"],[0.8156862745098039,\"rgb(245,162,122)\"],[0.8784313725490196,\"rgb(246,188,153)\"],[0.9411764705882353,\"rgb(247,212,187)\"],[1.0,\"rgb(250,234,220)\"]],\"type\":\"histogram2dcontour\"}],\"mesh3d\":[{\"colorbar\":{\"outlinewidth\":0,\"tickcolor\":\"rgb(36,36,36)\",\"ticklen\":8,\"ticks\":\"outside\",\"tickwidth\":2},\"type\":\"mesh3d\"}],\"parcoords\":[{\"line\":{\"colorbar\":{\"outlinewidth\":0,\"tickcolor\":\"rgb(36,36,36)\",\"ticklen\":8,\"ticks\":\"outside\",\"tickwidth\":2}},\"type\":\"parcoords\"}],\"pie\":[{\"automargin\":true,\"type\":\"pie\"}],\"scatter\":[{\"marker\":{\"colorbar\":{\"outlinewidth\":0,\"tickcolor\":\"rgb(36,36,36)\",\"ticklen\":8,\"ticks\":\"outside\",\"tickwidth\":2}},\"type\":\"scatter\"}],\"scatter3d\":[{\"line\":{\"colorbar\":{\"outlinewidth\":0,\"tickcolor\":\"rgb(36,36,36)\",\"ticklen\":8,\"ticks\":\"outside\",\"tickwidth\":2}},\"marker\":{\"colorbar\":{\"outlinewidth\":0,\"tickcolor\":\"rgb(36,36,36)\",\"ticklen\":8,\"ticks\":\"outside\",\"tickwidth\":2}},\"type\":\"scatter3d\"}],\"scattercarpet\":[{\"marker\":{\"colorbar\":{\"outlinewidth\":0,\"tickcolor\":\"rgb(36,36,36)\",\"ticklen\":8,\"ticks\":\"outside\",\"tickwidth\":2}},\"type\":\"scattercarpet\"}],\"scattergeo\":[{\"marker\":{\"colorbar\":{\"outlinewidth\":0,\"tickcolor\":\"rgb(36,36,36)\",\"ticklen\":8,\"ticks\":\"outside\",\"tickwidth\":2}},\"type\":\"scattergeo\"}],\"scattergl\":[{\"marker\":{\"colorbar\":{\"outlinewidth\":0,\"tickcolor\":\"rgb(36,36,36)\",\"ticklen\":8,\"ticks\":\"outside\",\"tickwidth\":2}},\"type\":\"scattergl\"}],\"scattermapbox\":[{\"marker\":{\"colorbar\":{\"outlinewidth\":0,\"tickcolor\":\"rgb(36,36,36)\",\"ticklen\":8,\"ticks\":\"outside\",\"tickwidth\":2}},\"type\":\"scattermapbox\"}],\"scatterpolar\":[{\"marker\":{\"colorbar\":{\"outlinewidth\":0,\"tickcolor\":\"rgb(36,36,36)\",\"ticklen\":8,\"ticks\":\"outside\",\"tickwidth\":2}},\"type\":\"scatterpolar\"}],\"scatterpolargl\":[{\"marker\":{\"colorbar\":{\"outlinewidth\":0,\"tickcolor\":\"rgb(36,36,36)\",\"ticklen\":8,\"ticks\":\"outside\",\"tickwidth\":2}},\"type\":\"scatterpolargl\"}],\"scatterternary\":[{\"marker\":{\"colorbar\":{\"outlinewidth\":0,\"tickcolor\":\"rgb(36,36,36)\",\"ticklen\":8,\"ticks\":\"outside\",\"tickwidth\":2}},\"type\":\"scatterternary\"}],\"surface\":[{\"colorbar\":{\"outlinewidth\":0,\"tickcolor\":\"rgb(36,36,36)\",\"ticklen\":8,\"ticks\":\"outside\",\"tickwidth\":2},\"colorscale\":[[0.0,\"rgb(2,4,25)\"],[0.06274509803921569,\"rgb(24,15,41)\"],[0.12549019607843137,\"rgb(47,23,57)\"],[0.18823529411764706,\"rgb(71,28,72)\"],[0.25098039215686274,\"rgb(97,30,82)\"],[0.3137254901960784,\"rgb(123,30,89)\"],[0.3764705882352941,\"rgb(150,27,91)\"],[0.4392156862745098,\"rgb(177,22,88)\"],[0.5019607843137255,\"rgb(203,26,79)\"],[0.5647058823529412,\"rgb(223,47,67)\"],[0.6274509803921569,\"rgb(236,76,61)\"],[0.6901960784313725,\"rgb(242,107,73)\"],[0.7529411764705882,\"rgb(244,135,95)\"],[0.8156862745098039,\"rgb(245,162,122)\"],[0.8784313725490196,\"rgb(246,188,153)\"],[0.9411764705882353,\"rgb(247,212,187)\"],[1.0,\"rgb(250,234,220)\"]],\"type\":\"surface\"}],\"table\":[{\"cells\":{\"fill\":{\"color\":\"rgb(231,231,240)\"},\"line\":{\"color\":\"white\"}},\"header\":{\"fill\":{\"color\":\"rgb(183,183,191)\"},\"line\":{\"color\":\"white\"}},\"type\":\"table\"}]},\"layout\":{\"annotationdefaults\":{\"arrowcolor\":\"rgb(67,103,167)\"},\"autotypenumbers\":\"strict\",\"coloraxis\":{\"colorbar\":{\"outlinewidth\":0,\"tickcolor\":\"rgb(36,36,36)\",\"ticklen\":8,\"ticks\":\"outside\",\"tickwidth\":2}},\"colorscale\":{\"sequential\":[[0.0,\"rgb(2,4,25)\"],[0.06274509803921569,\"rgb(24,15,41)\"],[0.12549019607843137,\"rgb(47,23,57)\"],[0.18823529411764706,\"rgb(71,28,72)\"],[0.25098039215686274,\"rgb(97,30,82)\"],[0.3137254901960784,\"rgb(123,30,89)\"],[0.3764705882352941,\"rgb(150,27,91)\"],[0.4392156862745098,\"rgb(177,22,88)\"],[0.5019607843137255,\"rgb(203,26,79)\"],[0.5647058823529412,\"rgb(223,47,67)\"],[0.6274509803921569,\"rgb(236,76,61)\"],[0.6901960784313725,\"rgb(242,107,73)\"],[0.7529411764705882,\"rgb(244,135,95)\"],[0.8156862745098039,\"rgb(245,162,122)\"],[0.8784313725490196,\"rgb(246,188,153)\"],[0.9411764705882353,\"rgb(247,212,187)\"],[1.0,\"rgb(250,234,220)\"]],\"sequentialminus\":[[0.0,\"rgb(2,4,25)\"],[0.06274509803921569,\"rgb(24,15,41)\"],[0.12549019607843137,\"rgb(47,23,57)\"],[0.18823529411764706,\"rgb(71,28,72)\"],[0.25098039215686274,\"rgb(97,30,82)\"],[0.3137254901960784,\"rgb(123,30,89)\"],[0.3764705882352941,\"rgb(150,27,91)\"],[0.4392156862745098,\"rgb(177,22,88)\"],[0.5019607843137255,\"rgb(203,26,79)\"],[0.5647058823529412,\"rgb(223,47,67)\"],[0.6274509803921569,\"rgb(236,76,61)\"],[0.6901960784313725,\"rgb(242,107,73)\"],[0.7529411764705882,\"rgb(244,135,95)\"],[0.8156862745098039,\"rgb(245,162,122)\"],[0.8784313725490196,\"rgb(246,188,153)\"],[0.9411764705882353,\"rgb(247,212,187)\"],[1.0,\"rgb(250,234,220)\"]]},\"colorway\":[\"rgb(76,114,176)\",\"rgb(221,132,82)\",\"rgb(85,168,104)\",\"rgb(196,78,82)\",\"rgb(129,114,179)\",\"rgb(147,120,96)\",\"rgb(218,139,195)\",\"rgb(140,140,140)\",\"rgb(204,185,116)\",\"rgb(100,181,205)\"],\"font\":{\"color\":\"rgb(36,36,36)\"},\"geo\":{\"bgcolor\":\"white\",\"lakecolor\":\"white\",\"landcolor\":\"rgb(234,234,242)\",\"showlakes\":true,\"showland\":true,\"subunitcolor\":\"white\"},\"hoverlabel\":{\"align\":\"left\"},\"hovermode\":\"closest\",\"paper_bgcolor\":\"white\",\"plot_bgcolor\":\"rgb(234,234,242)\",\"polar\":{\"angularaxis\":{\"gridcolor\":\"white\",\"linecolor\":\"white\",\"showgrid\":true,\"ticks\":\"\"},\"bgcolor\":\"rgb(234,234,242)\",\"radialaxis\":{\"gridcolor\":\"white\",\"linecolor\":\"white\",\"showgrid\":true,\"ticks\":\"\"}},\"scene\":{\"xaxis\":{\"backgroundcolor\":\"rgb(234,234,242)\",\"gridcolor\":\"white\",\"gridwidth\":2,\"linecolor\":\"white\",\"showbackground\":true,\"showgrid\":true,\"ticks\":\"\",\"zerolinecolor\":\"white\"},\"yaxis\":{\"backgroundcolor\":\"rgb(234,234,242)\",\"gridcolor\":\"white\",\"gridwidth\":2,\"linecolor\":\"white\",\"showbackground\":true,\"showgrid\":true,\"ticks\":\"\",\"zerolinecolor\":\"white\"},\"zaxis\":{\"backgroundcolor\":\"rgb(234,234,242)\",\"gridcolor\":\"white\",\"gridwidth\":2,\"linecolor\":\"white\",\"showbackground\":true,\"showgrid\":true,\"ticks\":\"\",\"zerolinecolor\":\"white\"}},\"shapedefaults\":{\"fillcolor\":\"rgb(67,103,167)\",\"line\":{\"width\":0},\"opacity\":0.5},\"ternary\":{\"aaxis\":{\"gridcolor\":\"white\",\"linecolor\":\"white\",\"showgrid\":true,\"ticks\":\"\"},\"baxis\":{\"gridcolor\":\"white\",\"linecolor\":\"white\",\"showgrid\":true,\"ticks\":\"\"},\"bgcolor\":\"rgb(234,234,242)\",\"caxis\":{\"gridcolor\":\"white\",\"linecolor\":\"white\",\"showgrid\":true,\"ticks\":\"\"}},\"xaxis\":{\"automargin\":true,\"gridcolor\":\"white\",\"linecolor\":\"white\",\"showgrid\":true,\"ticks\":\"\",\"title\":{\"standoff\":15},\"zerolinecolor\":\"white\"},\"yaxis\":{\"automargin\":true,\"gridcolor\":\"white\",\"linecolor\":\"white\",\"showgrid\":true,\"ticks\":\"\",\"title\":{\"standoff\":15},\"zerolinecolor\":\"white\"}}},\"title\":{\"text\":\"Confronto partecipazione imprese\"}},                        {\"responsive\": true}                    ).then(function(){\n",
              "                            \n",
              "var gd = document.getElementById('972cb586-fa7f-4581-afac-2c103f0d5b20');\n",
              "var x = new MutationObserver(function (mutations, observer) {{\n",
              "        var display = window.getComputedStyle(gd).display;\n",
              "        if (!display || display === 'none') {{\n",
              "            console.log([gd, 'removed!']);\n",
              "            Plotly.purge(gd);\n",
              "            observer.disconnect();\n",
              "        }}\n",
              "}});\n",
              "\n",
              "// Listen for the removal of the full notebook cells\n",
              "var notebookContainer = gd.closest('#notebook-container');\n",
              "if (notebookContainer) {{\n",
              "    x.observe(notebookContainer, {childList: true});\n",
              "}}\n",
              "\n",
              "// Listen for the clearing of the current output cell\n",
              "var outputEl = gd.closest('.output');\n",
              "if (outputEl) {{\n",
              "    x.observe(outputEl, {childList: true});\n",
              "}}\n",
              "\n",
              "                        })                };                            </script>        </div>\n",
              "</body>\n",
              "</html>"
            ]
          },
          "metadata": {
            "tags": []
          }
        }
      ]
    },
    {
      "cell_type": "code",
      "metadata": {
        "id": "urW0WNthYTU5"
      },
      "source": [
        ""
      ],
      "execution_count": null,
      "outputs": []
    }
  ]
}